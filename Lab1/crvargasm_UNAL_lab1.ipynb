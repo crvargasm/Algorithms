{
  "nbformat": 4,
  "nbformat_minor": 0,
  "metadata": {
    "colab": {
      "name": "crvargasm_UNAL_lab1",
      "provenance": [],
      "collapsed_sections": [
        "eQzBbvyKQymx",
        "1Xc9G9_sS2ju",
        "AN5Oa3DoS_Nf",
        "11W1gG-cVmOU",
        "kSGzgNb2Womz",
        "QL6dNxwCXNEt",
        "s95xoRYMYaPD",
        "tgRDwiAsaMOL",
        "lHwqVpWVb1Jr",
        "Qpemj1UZd2aa",
        "dQbENH6mexTd",
        "GScHHJ5ke7ea",
        "T61cD0HMfStB"
      ]
    },
    "kernelspec": {
      "display_name": "Python 3",
      "language": "python",
      "name": "python3"
    },
    "language_info": {
      "codemirror_mode": {
        "name": "ipython",
        "version": 3
      },
      "file_extension": ".py",
      "mimetype": "text/x-python",
      "name": "python",
      "nbconvert_exporter": "python",
      "pygments_lexer": "ipython3",
      "version": "3.6.4"
    }
  },
  "cells": [
    {
      "cell_type": "markdown",
      "metadata": {
        "id": "eQzBbvyKQymx"
      },
      "source": [
        "<div align=\"center\">\n",
        "<img style=\"display: block; margin: auto;\" alt=\"photo\" src=\"https://cdn.quantconnect.com/web/i/icon.png\">\n",
        "\n",
        "Quantconnect\n",
        "\n",
        "Introduction to Financial Python\n",
        "</div>\n",
        "\n",
        "# 01 Data Types and Data Structures\n",
        "\n",
        "# Introduction\n",
        "\n",
        "This tutorial provides a basic introduction to the Python programming language. If you are new to Python, you should run the code snippets while reading this tutorial. If you are an advanced Python user, please feel free to skip this chapter.\n",
        "\n",
        "# Basic Variable Types\n",
        "The basic types of variables in Python are: strings, integers, floating point numbers and booleans.\n",
        "\n",
        "Strings in python are identified as a contiguous set of characters represented in either single quotes (' ') or double quotes (\" \").\n"
      ]
    },
    {
      "cell_type": "code",
      "metadata": {
        "colab": {
          "base_uri": "https://localhost:8080/"
        },
        "id": "N5t-UrcfOqid",
        "outputId": "899dfb61-a6a1-4da4-9d85-1cfada6ce1f1"
      },
      "source": [
        "my_string1 = 'Welcome to'\n",
        "my_string2 = \"QuantConnect\"\n",
        "print(my_string1 + ' ' + my_string2)"
      ],
      "execution_count": 25,
      "outputs": [
        {
          "output_type": "stream",
          "name": "stdout",
          "text": [
            "Welcome to QuantConnect\n"
          ]
        }
      ]
    },
    {
      "cell_type": "code",
      "source": [
        "stringA = 'Bienvenidos'         #Creacion y asignación de una Variable String\n",
        "stringB = \"al Documento\"        \n",
        "print(stringA + ' ' +stringB)   #Impresion y concatenación de Strings"
      ],
      "metadata": {
        "colab": {
          "base_uri": "https://localhost:8080/"
        },
        "id": "zg_NnIyWft1_",
        "outputId": "06087a3e-cf88-4aba-aed7-6da18706a8b9"
      },
      "execution_count": 26,
      "outputs": [
        {
          "output_type": "stream",
          "name": "stdout",
          "text": [
            "Bienvenidos al Documento\n"
          ]
        }
      ]
    },
    {
      "cell_type": "markdown",
      "metadata": {
        "id": "bXHnxZyHSd1M"
      },
      "source": [
        "An integer is a round number with no values after the decimal point."
      ]
    },
    {
      "cell_type": "code",
      "metadata": {
        "colab": {
          "base_uri": "https://localhost:8080/"
        },
        "id": "pNjuz3toOqif",
        "outputId": "52d88cc4-cc1d-44ad-d808-e0f095eca572"
      },
      "source": [
        "my_int = 10\n",
        "print(my_int)\n",
        "print(type(my_int))"
      ],
      "execution_count": 27,
      "outputs": [
        {
          "output_type": "stream",
          "name": "stdout",
          "text": [
            "10\n",
            "<class 'int'>\n"
          ]
        }
      ]
    },
    {
      "cell_type": "code",
      "source": [
        "mi_Entero = 23              #Creacion y asignación de una Variable numérica\n",
        "print(mi_Entero)            #Impresión de números almacenados en variables\n",
        "print(type(mi_Entero))      #La función 'type' nos devuleve el tipo de dato de  \n",
        "                              #la variable 'mi_Entero'"
      ],
      "metadata": {
        "colab": {
          "base_uri": "https://localhost:8080/"
        },
        "id": "MWE3MvY9gHcg",
        "outputId": "3777828f-f19c-4817-ff6d-c43d2bef636b"
      },
      "execution_count": 28,
      "outputs": [
        {
          "output_type": "stream",
          "name": "stdout",
          "text": [
            "23\n",
            "<class 'int'>\n"
          ]
        }
      ]
    },
    {
      "cell_type": "markdown",
      "metadata": {
        "id": "_1ZanWrYSnzF"
      },
      "source": [
        "The built-in function int() can convert a string into an integer."
      ]
    },
    {
      "cell_type": "code",
      "metadata": {
        "colab": {
          "base_uri": "https://localhost:8080/"
        },
        "id": "zPwGb20FOqif",
        "outputId": "1cd035bc-410f-4a49-9a8d-2e6d6da854f3"
      },
      "source": [
        "my_string = \"100\"\n",
        "print(type(my_string))\n",
        "my_int = int(my_string)\n",
        "print(type(my_int))"
      ],
      "execution_count": 29,
      "outputs": [
        {
          "output_type": "stream",
          "name": "stdout",
          "text": [
            "<class 'str'>\n",
            "<class 'int'>\n"
          ]
        }
      ]
    },
    {
      "cell_type": "code",
      "source": [
        "mi_No_entero = \"23\"\n",
        "print(type(mi_No_entero))         #Imprimimos el tipo de dato de la variable 'mi_No_entero'\n",
        "mi_entero = int(mi_No_entero)     #Pasamos de string a int lo amacenado\n",
        "print(type(mi_entero))               #imprimimos "
      ],
      "metadata": {
        "colab": {
          "base_uri": "https://localhost:8080/"
        },
        "id": "vu691_RjgsT9",
        "outputId": "505968cb-b1b8-4211-89ca-f18597467f1a"
      },
      "execution_count": 30,
      "outputs": [
        {
          "output_type": "stream",
          "name": "stdout",
          "text": [
            "<class 'str'>\n",
            "<class 'int'>\n"
          ]
        }
      ]
    },
    {
      "cell_type": "markdown",
      "metadata": {
        "id": "WqMDPDTHSrE9"
      },
      "source": [
        "A floating point number, or a float, is a real number in mathematics. In Python we need to include a value after a decimal point to define it as a float"
      ]
    },
    {
      "cell_type": "code",
      "metadata": {
        "colab": {
          "base_uri": "https://localhost:8080/"
        },
        "id": "otCzKKW9Oqig",
        "outputId": "6e5596af-7be9-4ef0-e1cd-8a84ab009dc8"
      },
      "source": [
        "my_string = \"100\"\n",
        "my_float = float(my_string)\n",
        "print(type(my_float))"
      ],
      "execution_count": 31,
      "outputs": [
        {
          "output_type": "stream",
          "name": "stdout",
          "text": [
            "<class 'float'>\n"
          ]
        }
      ]
    },
    {
      "cell_type": "code",
      "source": [
        "mi_string = \"14.5\"\n",
        "mi_flotante = float(mi_string)  #Casting de string a float\n",
        "print(type(mi_flotante))        #Verificamos el tipo de dato con 'type'"
      ],
      "metadata": {
        "colab": {
          "base_uri": "https://localhost:8080/"
        },
        "id": "FNz5KTiqhYZu",
        "outputId": "1b0981a6-1bf0-4a06-dcf6-402a3ce20ab9"
      },
      "execution_count": 32,
      "outputs": [
        {
          "output_type": "stream",
          "name": "stdout",
          "text": [
            "<class 'float'>\n"
          ]
        }
      ]
    },
    {
      "cell_type": "markdown",
      "metadata": {
        "id": "2iuyv8Q7StTJ"
      },
      "source": [
        "As you can see above, if we don't include a decimal value, the variable would be defined as an integer. The built-in function float() can convert a string or an integer into a float."
      ]
    },
    {
      "cell_type": "code",
      "metadata": {
        "colab": {
          "base_uri": "https://localhost:8080/"
        },
        "id": "wwLw5VthOqig",
        "outputId": "2f404738-9cfd-4224-87c7-33fd9ea3468d"
      },
      "source": [
        "my_bool = False\n",
        "print(my_bool)\n",
        "print(type(my_bool))"
      ],
      "execution_count": 33,
      "outputs": [
        {
          "output_type": "stream",
          "name": "stdout",
          "text": [
            "False\n",
            "<class 'bool'>\n"
          ]
        }
      ]
    },
    {
      "cell_type": "code",
      "source": [
        "mi_booleano = True        #Creamos una variable booleana\n",
        "print(mi_booleano)        \n",
        "print(type(mi_booleano))  #Verificamos el tipo de dato de la variable"
      ],
      "metadata": {
        "colab": {
          "base_uri": "https://localhost:8080/"
        },
        "id": "Nv0UykDahohf",
        "outputId": "b7cccfb9-e91c-4f14-ba08-37769659314e"
      },
      "execution_count": 34,
      "outputs": [
        {
          "output_type": "stream",
          "name": "stdout",
          "text": [
            "True\n",
            "<class 'bool'>\n"
          ]
        }
      ]
    },
    {
      "cell_type": "markdown",
      "metadata": {
        "id": "bnGMwH21Szr_"
      },
      "source": [
        "A boolean, or bool, is a binary variable. Its value can only be True or False. It is useful when we do some logic operations, which would be covered in our next chapter."
      ]
    },
    {
      "cell_type": "code",
      "metadata": {
        "colab": {
          "base_uri": "https://localhost:8080/"
        },
        "id": "DMa6pDl5Oqig",
        "outputId": "11641912-9442-48e7-a3c9-a1964419c5a2"
      },
      "source": [
        "print(\"Addition \", 1+1)\n",
        "print(\"Subtraction \", 5-2)\n",
        "print(\"Multiplication \", 2*3)\n",
        "print(\"Division \", 10/2)\n",
        "print('exponent', 2**3)"
      ],
      "execution_count": 35,
      "outputs": [
        {
          "output_type": "stream",
          "name": "stdout",
          "text": [
            "Addition  2\n",
            "Subtraction  3\n",
            "Multiplication  6\n",
            "Division  5.0\n",
            "exponent 8\n"
          ]
        }
      ]
    },
    {
      "cell_type": "code",
      "source": [
        "print(\"Adición \", 2+2)\n",
        "print(\"Resta \", 17-5)\n",
        "print(\"Multiplicación \", 3*2)\n",
        "print(\"División \", 1/3)\n",
        "print('Exponenciación', 12**2)"
      ],
      "metadata": {
        "colab": {
          "base_uri": "https://localhost:8080/"
        },
        "id": "JwXfDW0kiG_s",
        "outputId": "e07871ed-5a49-40fc-bd23-4f141b3c550e"
      },
      "execution_count": 36,
      "outputs": [
        {
          "output_type": "stream",
          "name": "stdout",
          "text": [
            "Adición  4\n",
            "Resta  12\n",
            "Multiplicación  6\n",
            "División  0.3333333333333333\n",
            "Exponenciación 144\n"
          ]
        }
      ]
    },
    {
      "cell_type": "markdown",
      "metadata": {
        "id": "1Xc9G9_sS2ju"
      },
      "source": [
        "# Basic Math Operations\n",
        "\n",
        "The basic math operators in python are demonstrated below:"
      ]
    },
    {
      "cell_type": "code",
      "metadata": {
        "colab": {
          "base_uri": "https://localhost:8080/"
        },
        "id": "KE9gUryAOqig",
        "outputId": "d219f3b6-9859-4f57-ce80-d6915ec304de"
      },
      "source": [
        "print(1/3)\n",
        "print(1.0/3)"
      ],
      "execution_count": 37,
      "outputs": [
        {
          "output_type": "stream",
          "name": "stdout",
          "text": [
            "0.3333333333333333\n",
            "0.3333333333333333\n"
          ]
        }
      ]
    },
    {
      "cell_type": "code",
      "source": [
        "print(4/2)\n",
        "print(12.3/2)"
      ],
      "metadata": {
        "colab": {
          "base_uri": "https://localhost:8080/"
        },
        "id": "zV3lXnLiiUXb",
        "outputId": "5549d93d-af12-4db1-e188-86a28df88313"
      },
      "execution_count": 38,
      "outputs": [
        {
          "output_type": "stream",
          "name": "stdout",
          "text": [
            "2.0\n",
            "6.15\n"
          ]
        }
      ]
    },
    {
      "cell_type": "markdown",
      "metadata": {
        "id": "AN5Oa3DoS_Nf"
      },
      "source": [
        "# Data Collections\n",
        "\n",
        "## List\n",
        "A list is an ordered collection of values. A list is mutable, which means you can change a list's value without changing the list itself. Creating a list is simply putting different comma-separated values between square brackets."
      ]
    },
    {
      "cell_type": "code",
      "metadata": {
        "colab": {
          "base_uri": "https://localhost:8080/"
        },
        "id": "-tQdNqCvOqig",
        "outputId": "7961e434-2ecb-4069-bb6e-2b0221f96f58"
      },
      "source": [
        "my_list = ['Quant', 'Connect']#, 1,2,3]\n",
        "print(my_list)"
      ],
      "execution_count": 39,
      "outputs": [
        {
          "output_type": "stream",
          "name": "stdout",
          "text": [
            "['Quant', 'Connect']\n"
          ]
        }
      ]
    },
    {
      "cell_type": "code",
      "source": [
        "mi_lista = ['Algoritmos', 'UNAL'] #Creamos una lista con dos objetos String\n",
        "print(mi_lista)"
      ],
      "metadata": {
        "colab": {
          "base_uri": "https://localhost:8080/"
        },
        "id": "pHXbrE6IibzR",
        "outputId": "f6a40f3f-90e3-4d00-ed37-6bd87b8b329f"
      },
      "execution_count": 40,
      "outputs": [
        {
          "output_type": "stream",
          "name": "stdout",
          "text": [
            "['Algoritmos', 'UNAL']\n"
          ]
        }
      ]
    },
    {
      "cell_type": "markdown",
      "metadata": {
        "id": "1O0TsgZCTHrM"
      },
      "source": [
        "The values in a list are called \"elements\". We can access list elements by indexing. Python index starts from 0. So if you have a list of length n, the index of the first element will be 0, and that of the last element will be n − 1. By the way, the length of a list can be obtained by the built-in function len()."
      ]
    },
    {
      "cell_type": "code",
      "metadata": {
        "colab": {
          "base_uri": "https://localhost:8080/"
        },
        "id": "QhuVhRR5Oqih",
        "outputId": "77ec9304-b9e7-4564-95ed-3f92749ac286"
      },
      "source": [
        "my_list = ['Quant', 'Connect', 1,2,3]\n",
        "print(len(my_list))\n",
        "print(my_list[0])\n",
        "print(my_list[len(my_list) -1])"
      ],
      "execution_count": 41,
      "outputs": [
        {
          "output_type": "stream",
          "name": "stdout",
          "text": [
            "5\n",
            "Quant\n",
            "3\n"
          ]
        }
      ]
    },
    {
      "cell_type": "code",
      "source": [
        "mi_lista = ['Algoritmos', 'UNAL', 10, 11, 12, 13] #Vemos que podemos crear una lista con cualquier tipo de objeto\n",
        "print(len(mi_lista))\n",
        "print(mi_lista[0])      #Imprimimos el objeto en la posición 0 de la lista\n",
        "print(mi_lista[len(mi_lista) -1])   #Imprimimos el último objeto de la lista"
      ],
      "metadata": {
        "colab": {
          "base_uri": "https://localhost:8080/"
        },
        "id": "g0kwrKIJipnD",
        "outputId": "0ef28ad8-534c-43ab-8705-de5a181f5416"
      },
      "execution_count": 42,
      "outputs": [
        {
          "output_type": "stream",
          "name": "stdout",
          "text": [
            "6\n",
            "Algoritmos\n",
            "13\n"
          ]
        }
      ]
    },
    {
      "cell_type": "markdown",
      "metadata": {
        "id": "jgSZy1VGTKSc"
      },
      "source": [
        "You can also change the elements in the list by accessing an index and assigning a new value."
      ]
    },
    {
      "cell_type": "code",
      "metadata": {
        "colab": {
          "base_uri": "https://localhost:8080/"
        },
        "id": "NQBNLjAvOqih",
        "outputId": "e7920f1d-bf16-406e-a145-a4e7a2ceaef4"
      },
      "source": [
        "my_list = ['Quant','Connect',1,2,3]\n",
        "my_list[2] = 'go'\n",
        "print(my_list)"
      ],
      "execution_count": 43,
      "outputs": [
        {
          "output_type": "stream",
          "name": "stdout",
          "text": [
            "['Quant', 'Connect', 'go', 2, 3]\n"
          ]
        }
      ]
    },
    {
      "cell_type": "code",
      "source": [
        "mi_lista = ['Algoritmos', 'UNAL', 10, 11, 12, 13]\n",
        "mi_lista[2] = 'vamos'       #Modificamos el objeto en la posicion 2 de la lista (el número 10)\n",
        "print(mi_lista)"
      ],
      "metadata": {
        "colab": {
          "base_uri": "https://localhost:8080/"
        },
        "id": "Ic-WquSci4u-",
        "outputId": "fb4ced7d-9475-4364-ae57-e369ffbbd32e"
      },
      "execution_count": 44,
      "outputs": [
        {
          "output_type": "stream",
          "name": "stdout",
          "text": [
            "['Algoritmos', 'UNAL', 'vamos', 11, 12, 13]\n"
          ]
        }
      ]
    },
    {
      "cell_type": "markdown",
      "metadata": {
        "id": "EQPs5ojoTVrk"
      },
      "source": [
        "A list can also be sliced with a colon:"
      ]
    },
    {
      "cell_type": "code",
      "metadata": {
        "colab": {
          "base_uri": "https://localhost:8080/"
        },
        "id": "keNX2RbtOqii",
        "outputId": "83964ce1-41a1-4b53-9265-377cca5fbbbe"
      },
      "source": [
        "my_list = ['Quant','Connect',1,2,3]\n",
        "print(my_list[1:3])"
      ],
      "execution_count": 45,
      "outputs": [
        {
          "output_type": "stream",
          "name": "stdout",
          "text": [
            "['Connect', 1]\n"
          ]
        }
      ]
    },
    {
      "cell_type": "code",
      "source": [
        "mi_lista = ['Algoritmos', 'UNAL', 10, 11, 12, 13]\n",
        "print(mi_lista[2:4])    #Imprimimos una sublista que contiene los elementos de la posicion 2 hasta la posicion 4-1"
      ],
      "metadata": {
        "colab": {
          "base_uri": "https://localhost:8080/"
        },
        "id": "Atw3-r2EjDoS",
        "outputId": "123141ba-9113-4b27-ef30-1ad10c0a8fd9"
      },
      "execution_count": 46,
      "outputs": [
        {
          "output_type": "stream",
          "name": "stdout",
          "text": [
            "[10, 11]\n"
          ]
        }
      ]
    },
    {
      "cell_type": "markdown",
      "metadata": {
        "id": "AZqQd0K8TYul"
      },
      "source": [
        "The slice starts from the first element indicated, but excludes the last element indicated. Here we select all elements starting from index 1, which refers to the second element:"
      ]
    },
    {
      "cell_type": "code",
      "metadata": {
        "colab": {
          "base_uri": "https://localhost:8080/"
        },
        "id": "0-76sLfkOqii",
        "outputId": "ba876170-d877-4e10-e3fc-b5d7e7f0d15d"
      },
      "source": [
        "print(my_list[1:])"
      ],
      "execution_count": 47,
      "outputs": [
        {
          "output_type": "stream",
          "name": "stdout",
          "text": [
            "['Connect', 1, 2, 3]\n"
          ]
        }
      ]
    },
    {
      "cell_type": "code",
      "source": [
        "print(mi_lista[2:])   #Imprimimos una sublista que contiene los elementos desde la posicion 2 hasta el último de la lista"
      ],
      "metadata": {
        "colab": {
          "base_uri": "https://localhost:8080/"
        },
        "id": "LMKCN8CEjKRN",
        "outputId": "1528fec1-0dd1-46b4-c472-e8ee1a99566a"
      },
      "execution_count": 48,
      "outputs": [
        {
          "output_type": "stream",
          "name": "stdout",
          "text": [
            "[10, 11, 12, 13]\n"
          ]
        }
      ]
    },
    {
      "cell_type": "markdown",
      "metadata": {
        "id": "XBqvhUdZVKWs"
      },
      "source": [
        "And all elements up to but excluding index 3:"
      ]
    },
    {
      "cell_type": "code",
      "metadata": {
        "colab": {
          "base_uri": "https://localhost:8080/"
        },
        "id": "5NWr75L9Oqii",
        "outputId": "8ee18745-b63c-4f28-c4da-958d5543bf9e"
      },
      "source": [
        "print(my_list[:3])"
      ],
      "execution_count": 49,
      "outputs": [
        {
          "output_type": "stream",
          "name": "stdout",
          "text": [
            "['Quant', 'Connect', 1]\n"
          ]
        }
      ]
    },
    {
      "cell_type": "code",
      "source": [
        "print(mi_lista[:4])  #Imprimimos una sublista que contiene todos los elementos de la lista hasta la posicion 4-1"
      ],
      "metadata": {
        "colab": {
          "base_uri": "https://localhost:8080/"
        },
        "id": "FleGosUajSpH",
        "outputId": "b8ca9e25-eee6-4556-fe65-2dd8b8907e3d"
      },
      "execution_count": 50,
      "outputs": [
        {
          "output_type": "stream",
          "name": "stdout",
          "text": [
            "['Algoritmos', 'UNAL', 10, 11]\n"
          ]
        }
      ]
    },
    {
      "cell_type": "markdown",
      "metadata": {
        "id": "eAFmM6bkTZz9"
      },
      "source": [
        "If you wish to add or remove an element from a list, you can use the append() and remove() methods for lists as follows:"
      ]
    },
    {
      "cell_type": "code",
      "metadata": {
        "colab": {
          "base_uri": "https://localhost:8080/"
        },
        "id": "pHmgTPElTo19",
        "outputId": "c1c023d6-cf9f-4d4e-d5e9-01017928f72b"
      },
      "source": [
        "my_list = ['Hello', 'Quant']\n",
        "my_list.append('Hello')\n",
        "print(my_list)\n",
        "\n"
      ],
      "execution_count": 51,
      "outputs": [
        {
          "output_type": "stream",
          "name": "stdout",
          "text": [
            "['Hello', 'Quant', 'Hello']\n"
          ]
        }
      ]
    },
    {
      "cell_type": "code",
      "metadata": {
        "colab": {
          "base_uri": "https://localhost:8080/"
        },
        "id": "4C4U1Yf0Tr8l",
        "outputId": "043ae41f-45e5-417f-efab-600a47ddc525"
      },
      "source": [
        "my_list.remove('Hello')\n",
        "print(my_list)"
      ],
      "execution_count": 52,
      "outputs": [
        {
          "output_type": "stream",
          "name": "stdout",
          "text": [
            "['Quant', 'Hello']\n"
          ]
        }
      ]
    },
    {
      "cell_type": "code",
      "source": [
        "mi_lista = ['Hola', 'Mundo']\n",
        "mi_lista.append('Hola')   #Añadimos el objeto string a la lista en la ultima posición\n",
        "print(mi_lista)"
      ],
      "metadata": {
        "colab": {
          "base_uri": "https://localhost:8080/"
        },
        "id": "Zvpb3uAIjW5f",
        "outputId": "865f21ae-5cd8-48ea-d764-400389cb4916"
      },
      "execution_count": 53,
      "outputs": [
        {
          "output_type": "stream",
          "name": "stdout",
          "text": [
            "['Hola', 'Mundo', 'Hola']\n"
          ]
        }
      ]
    },
    {
      "cell_type": "code",
      "source": [
        "mi_lista.remove('Hola')   #Removemos el primer elemento de la lista que sea igual al declarado en el llamado de la función\n",
        "print(mi_lista)"
      ],
      "metadata": {
        "colab": {
          "base_uri": "https://localhost:8080/"
        },
        "id": "YB02Ssf8jgjp",
        "outputId": "3e1f9237-d7c6-4040-f0f0-2b4252d1dcc0"
      },
      "execution_count": 54,
      "outputs": [
        {
          "output_type": "stream",
          "name": "stdout",
          "text": [
            "['Mundo', 'Hola']\n"
          ]
        }
      ]
    },
    {
      "cell_type": "markdown",
      "metadata": {
        "id": "11W1gG-cVmOU"
      },
      "source": [
        "When there are repeated instances of \"Hello\", the first one is removed.\n",
        "\n",
        "## Tuple\n",
        "A tuple is a data structure type similar to a list. The difference is that a tuple is immutable, which means you can't change the elements in it once it's defined. We create a tuple by putting comma-separated values between parentheses."
      ]
    },
    {
      "cell_type": "code",
      "metadata": {
        "collapsed": true,
        "id": "vPmn6BAaOqii"
      },
      "source": [
        "my_tuple = ('Welcome','to','QuantConnect')"
      ],
      "execution_count": 55,
      "outputs": []
    },
    {
      "cell_type": "code",
      "source": [
        "mi_primera_tupla = ('Bienvenido', 'a', 'Mi Libro')    #Creamos una tupla\n",
        "\n",
        "#  Nota: las principales diferencias entre listas y tuplas en Python radican, \n",
        "#   básicamente, en el hecho de que las listas son mutables mientras que las \n",
        "#   tuplas no lo son. Así se puede comprobar en qué casos es mejor una u otra \n",
        "#   estructura de datos. \n",
        "#   En el caso de que no sea necesario modificar el contenido de los datos \n",
        "#   la mejor opción es la tupla, ya que es ocupa menos memoria y es más rápida. \n",
        "#   En el resto de los casos la mejor opción será utilizar listas."
      ],
      "metadata": {
        "id": "LVOX9KyaCW_G"
      },
      "execution_count": 56,
      "outputs": []
    },
    {
      "cell_type": "markdown",
      "metadata": {
        "id": "zMIme4dDV0Wz"
      },
      "source": [
        "Just like a list, a tuple can be sliced by using index."
      ]
    },
    {
      "cell_type": "code",
      "metadata": {
        "colab": {
          "base_uri": "https://localhost:8080/"
        },
        "id": "8P-ddO0sOqii",
        "outputId": "436ec06b-ba0a-4008-8799-b05957e59435"
      },
      "source": [
        "my_tuple = ('Welcome','to','QuantConnect')\n",
        "print(my_tuple[1:])"
      ],
      "execution_count": 57,
      "outputs": [
        {
          "output_type": "stream",
          "name": "stdout",
          "text": [
            "('to', 'QuantConnect')\n"
          ]
        }
      ]
    },
    {
      "cell_type": "code",
      "source": [
        "mi_primera_tupla = ('Bienvenido', 'a', 'Mi Libro')  #Creamos una tupla con 3 Objetos\n",
        "print(mi_primera_tupla[2:])   # Imprimimos una subtupla que contiene los elementos desde la posicion 2 hasta el último de la lista"
      ],
      "metadata": {
        "colab": {
          "base_uri": "https://localhost:8080/"
        },
        "id": "Nfgq4IqOCjJN",
        "outputId": "1a687964-967d-4392-ce6c-c746534a5867"
      },
      "execution_count": 58,
      "outputs": [
        {
          "output_type": "stream",
          "name": "stdout",
          "text": [
            "('Mi Libro',)\n"
          ]
        }
      ]
    },
    {
      "cell_type": "markdown",
      "metadata": {
        "id": "l2JqbusAV1Y2"
      },
      "source": [
        "## Set\n",
        "A set is an **unordered**  collection with **no duplicate** elements. The built-in function **set()** can be used to create sets."
      ]
    },
    {
      "cell_type": "code",
      "metadata": {
        "colab": {
          "base_uri": "https://localhost:8080/"
        },
        "id": "Plau8r-UOqij",
        "outputId": "89434aca-fed8-419d-8e2a-f55439c4e9df"
      },
      "source": [
        "stock_list = ['AAPL','GOOG','IBM','AAPL','IBM','FB','F','GOOG']\n",
        "stock_set = set(stock_list)\n",
        "print(stock_set)"
      ],
      "execution_count": 59,
      "outputs": [
        {
          "output_type": "stream",
          "name": "stdout",
          "text": [
            "{'GOOG', 'FB', 'IBM', 'AAPL', 'F'}\n"
          ]
        }
      ]
    },
    {
      "cell_type": "code",
      "source": [
        "lista_Valores = ['HYMC','DOCU','DIDI','HYMC','DIDI','RIVN','T','DOCU']\n",
        "set_Valores = set(lista_Valores)    #Creamos un Set a partir de una lista de objetos\n",
        "print(set_Valores)          #Verificamos que ya no tenemos objetos duplicados, por definición de un set"
      ],
      "metadata": {
        "colab": {
          "base_uri": "https://localhost:8080/"
        },
        "id": "Ela32cedCoxt",
        "outputId": "08c46d6c-bb9e-4afd-80a8-e36f9d65a228"
      },
      "execution_count": 60,
      "outputs": [
        {
          "output_type": "stream",
          "name": "stdout",
          "text": [
            "{'DOCU', 'RIVN', 'T', 'DIDI', 'HYMC'}\n"
          ]
        }
      ]
    },
    {
      "cell_type": "markdown",
      "metadata": {
        "id": "Jyb4GGIoWIHk"
      },
      "source": [
        "Set is an easy way to remove duplicate elements from a list.\n",
        "\n",
        "##Dictionary\n",
        "A dictionary is one of the most important data structures in Python. Unlike sequences which are indexed by integers, dictionaries are indexed by keys which can be either strings or floats.\n",
        "\n",
        "A dictionary is an **unordered** collection of key : value pairs, with the requirement that the keys are unique. We create a dictionary by placing a comma-separated list of key : value pairs within the braces."
      ]
    },
    {
      "cell_type": "code",
      "metadata": {
        "collapsed": true,
        "id": "36mTe5BaOqij"
      },
      "source": [
        "my_dic = {'AAPL':'AAPLE', 'FB':'FaceBook', 'GOOG':'Alphabet'}"
      ],
      "execution_count": 61,
      "outputs": []
    },
    {
      "cell_type": "code",
      "metadata": {
        "colab": {
          "base_uri": "https://localhost:8080/"
        },
        "id": "KUfdVf43Oqij",
        "outputId": "f48a17f8-7276-40b0-e342-89a6204aa07d"
      },
      "source": [
        "print(my_dic['GOOG'])"
      ],
      "execution_count": 62,
      "outputs": [
        {
          "output_type": "stream",
          "name": "stdout",
          "text": [
            "Alphabet\n"
          ]
        }
      ]
    },
    {
      "cell_type": "code",
      "source": [
        "#Creamos un Diccionario, que se encarga de asignar un objeto a una key determinada\n",
        "miDiccionario = {'TSLA':'Tesla', 'T':'AT&T', 'BTC-USD':'Bitcoin'}"
      ],
      "metadata": {
        "id": "ZAdUnIkGGh_Z"
      },
      "execution_count": 63,
      "outputs": []
    },
    {
      "cell_type": "code",
      "source": [
        "print(miDiccionario['T'])"
      ],
      "metadata": {
        "colab": {
          "base_uri": "https://localhost:8080/"
        },
        "id": "T43S11pgGin9",
        "outputId": "c1efb78d-38d0-4d72-dbe6-6df86f549389"
      },
      "execution_count": 64,
      "outputs": [
        {
          "output_type": "stream",
          "name": "stdout",
          "text": [
            "AT&T\n"
          ]
        }
      ]
    },
    {
      "cell_type": "markdown",
      "metadata": {
        "id": "gSicoNqDWP4c"
      },
      "source": [
        "After defining a dictionary, we can access any value by indicating its key in brackets."
      ]
    },
    {
      "cell_type": "code",
      "metadata": {
        "colab": {
          "base_uri": "https://localhost:8080/"
        },
        "id": "IrTZdq9FOqij",
        "outputId": "4ccac2b0-bc7d-4c3f-80bc-c76798cc828d"
      },
      "source": [
        "my_dic['GOOG'] = 'Alphabet Company'\n",
        "print(my_dic['GOOG'])"
      ],
      "execution_count": 65,
      "outputs": [
        {
          "output_type": "stream",
          "name": "stdout",
          "text": [
            "Alphabet Company\n"
          ]
        }
      ]
    },
    {
      "cell_type": "code",
      "source": [
        "miDiccionario['BTC-USD'] = 'Bitcoin USD'  #Modificamos el objeto atado a la key especificada\n",
        "print(miDiccionario['BTC-USD'])"
      ],
      "metadata": {
        "colab": {
          "base_uri": "https://localhost:8080/"
        },
        "id": "Ftu1jbXIHZ5c",
        "outputId": "b6b69fc0-9a9d-4fd6-d89f-a984e49db793"
      },
      "execution_count": 66,
      "outputs": [
        {
          "output_type": "stream",
          "name": "stdout",
          "text": [
            "Bitcoin USD\n"
          ]
        }
      ]
    },
    {
      "cell_type": "markdown",
      "metadata": {
        "id": "M9sDsTEMWQvc"
      },
      "source": [
        "We can also change the value associated with a specified key:"
      ]
    },
    {
      "cell_type": "code",
      "metadata": {
        "colab": {
          "base_uri": "https://localhost:8080/"
        },
        "id": "lupRHf1_Oqij",
        "outputId": "ae215314-637d-465a-af79-5d98f8ebac13"
      },
      "source": [
        "print(my_dic.keys())"
      ],
      "execution_count": 67,
      "outputs": [
        {
          "output_type": "stream",
          "name": "stdout",
          "text": [
            "dict_keys(['AAPL', 'FB', 'GOOG'])\n"
          ]
        }
      ]
    },
    {
      "cell_type": "code",
      "source": [
        "print(miDiccionario.keys())   #Imprimimos las keys que tiene nuestro diccionario"
      ],
      "metadata": {
        "colab": {
          "base_uri": "https://localhost:8080/"
        },
        "id": "q4mtJhGVH15d",
        "outputId": "dd2aafe9-570c-4104-ffcb-ee9f2af6e874"
      },
      "execution_count": 68,
      "outputs": [
        {
          "output_type": "stream",
          "name": "stdout",
          "text": [
            "dict_keys(['TSLA', 'T', 'BTC-USD'])\n"
          ]
        }
      ]
    },
    {
      "cell_type": "markdown",
      "metadata": {
        "id": "VPuDinlwWS9D"
      },
      "source": [
        "The built-in method of the dictionary object dict.keys() returns a list of all the keys used in the dictionary."
      ]
    },
    {
      "cell_type": "markdown",
      "metadata": {
        "id": "kSGzgNb2Womz"
      },
      "source": [
        "# Common String Operations\n",
        "A string is an immutable sequence of characters. It can be sliced by index just like a tuple:"
      ]
    },
    {
      "cell_type": "code",
      "metadata": {
        "colab": {
          "base_uri": "https://localhost:8080/"
        },
        "id": "xPojDnm9Oqik",
        "outputId": "cce4846e-9a10-4e7c-dfa1-4972b1a7ff00"
      },
      "source": [
        "my_str = 'Welcome to QuantConnect'\n",
        "print(my_str[8:])"
      ],
      "execution_count": 69,
      "outputs": [
        {
          "output_type": "stream",
          "name": "stdout",
          "text": [
            "to QuantConnect\n"
          ]
        }
      ]
    },
    {
      "cell_type": "code",
      "source": [
        "miString = 'Bienvenidos al Libro'\n",
        "print(miString[5:])   #Imprimo un substring con los caracteres del 5 hasta el final"
      ],
      "metadata": {
        "colab": {
          "base_uri": "https://localhost:8080/"
        },
        "id": "IDd4RsWpBf0z",
        "outputId": "a0a89450-f006-4069-ae9e-21b949c2d49b"
      },
      "execution_count": 70,
      "outputs": [
        {
          "output_type": "stream",
          "name": "stdout",
          "text": [
            "enidos al Libro\n"
          ]
        }
      ]
    },
    {
      "cell_type": "markdown",
      "metadata": {
        "id": "wuJYy7tvWtM7"
      },
      "source": [
        "There are many methods associated with strings. We can use string.count() to count the occurrences of a character in a string, use string.find() to return the index of a specific character, and use string.replace() to replace characters"
      ]
    },
    {
      "cell_type": "code",
      "metadata": {
        "colab": {
          "base_uri": "https://localhost:8080/"
        },
        "id": "u9deZq1SOqik",
        "outputId": "c0d7a457-3293-40ab-911e-0ba73f3c5ea9"
      },
      "source": [
        "print('Counting the number of e appears in this sentence'.count('e'))\n",
        "print('The first time e appears in this sentence'.find('e'))\n",
        "print('all the a in this sentence now becomes e'.replace('a','e'))"
      ],
      "execution_count": 71,
      "outputs": [
        {
          "output_type": "stream",
          "name": "stdout",
          "text": [
            "7\n",
            "2\n",
            "ell the e in this sentence now becomes e\n"
          ]
        }
      ]
    },
    {
      "cell_type": "code",
      "source": [
        "print('Vamos a contar las veces que aparece la letra a en esta frase'.count('a'))\n",
        "print('El índice de la primera vez que aparece la a en la frase'.find('a'))\n",
        "print('Vamos a remplazar todas las o\\'s de la frase por x'.replace('o','x'))"
      ],
      "metadata": {
        "colab": {
          "base_uri": "https://localhost:8080/"
        },
        "id": "FlI41Mb4Bs89",
        "outputId": "2dd11660-bad8-43cf-8e4a-a5234db42e67"
      },
      "execution_count": 72,
      "outputs": [
        {
          "output_type": "stream",
          "name": "stdout",
          "text": [
            "11\n",
            "14\n",
            "Vamxs a remplazar txdas las x's de la frase pxr x\n"
          ]
        }
      ]
    },
    {
      "cell_type": "markdown",
      "metadata": {
        "id": "sJPn3rkvWwHN"
      },
      "source": [
        "The most commonly used method for strings is string.split(). This method will split the string by the indicated character and return a list:"
      ]
    },
    {
      "cell_type": "code",
      "metadata": {
        "colab": {
          "base_uri": "https://localhost:8080/"
        },
        "id": "hbIaFLFHOqik",
        "outputId": "9f6b668c-5249-40fd-8cae-3a9846edeaf1"
      },
      "source": [
        "Time = '2016-04-01 09:43:00'\n",
        "splited_list = Time.split(' ')\n",
        "date = splited_list[0]\n",
        "time = splited_list[1]\n",
        "print(date, time)\n",
        "hour = time.split(':')[0]\n",
        "print(hour)"
      ],
      "execution_count": 73,
      "outputs": [
        {
          "output_type": "stream",
          "name": "stdout",
          "text": [
            "2016-04-01 09:43:00\n",
            "09\n"
          ]
        }
      ]
    },
    {
      "cell_type": "code",
      "source": [
        "fechaHora = '2022-03-11 14:30:00'\n",
        "listaSeparada = fechaHora.split(' ')   #Dividimos el string fechaHora por cada vez que encontremos el separador, además, \n",
        "                                          # definimos el espacio en blanco como separador\n",
        "fecha = listaSeparada[0]            #asignamos la primera división a la variable fecha\n",
        "hora = listaSeparada[1]             #asignamos la segunda división a la variable hora\n",
        "print(fecha, hora)                  \n",
        "soloHora = hora.split(':')[0]      #Dividimos el string hora por cada vez que encontremos el separador (en este caso ':') y asignamos solo el 1er objeto\n",
        "print(soloHora)                        "
      ],
      "metadata": {
        "colab": {
          "base_uri": "https://localhost:8080/"
        },
        "id": "pYtQK7nGC0ME",
        "outputId": "3a692e7c-fdb9-45d0-832d-55c1bcade46a"
      },
      "execution_count": 74,
      "outputs": [
        {
          "output_type": "stream",
          "name": "stdout",
          "text": [
            "2022-03-11 14:30:00\n",
            "14\n"
          ]
        }
      ]
    },
    {
      "cell_type": "markdown",
      "metadata": {
        "id": "9cJQGk96WyVc"
      },
      "source": [
        "We can replace parts of a string by our variable. This is called string formatting."
      ]
    },
    {
      "cell_type": "code",
      "metadata": {
        "colab": {
          "base_uri": "https://localhost:8080/"
        },
        "id": "-E_rIvv6Oqik",
        "outputId": "0bb0037d-a6d0-48d5-d8eb-21500104436e"
      },
      "source": [
        "my_time = 'Hour: {}, Minute:{}'.format('09','43')\n",
        "print(my_time)"
      ],
      "execution_count": 75,
      "outputs": [
        {
          "output_type": "stream",
          "name": "stdout",
          "text": [
            "Hour: 09, Minute:43\n"
          ]
        }
      ]
    },
    {
      "cell_type": "code",
      "source": [
        "miHora = 'Hora: {}, Minutos: {}, Segundos: {}'.format('14','42','03') #Formateamos un string\n",
        "print(miHora)"
      ],
      "metadata": {
        "colab": {
          "base_uri": "https://localhost:8080/"
        },
        "id": "wGXJSolxUbhM",
        "outputId": "9b433412-52a7-42e9-ad9a-6807795a501d"
      },
      "execution_count": 76,
      "outputs": [
        {
          "output_type": "stream",
          "name": "stdout",
          "text": [
            "Hora: 14, Minutos: 42, Segundos: 03\n"
          ]
        }
      ]
    },
    {
      "cell_type": "markdown",
      "metadata": {
        "id": "1_NbVldpWzAs"
      },
      "source": [
        "Another way to format a string is to use the % symbol."
      ]
    },
    {
      "cell_type": "code",
      "metadata": {
        "colab": {
          "base_uri": "https://localhost:8080/"
        },
        "id": "4rZ4rkD2Oqik",
        "outputId": "10346abd-3a8b-4a3c-dad7-99a85bf146e5"
      },
      "source": [
        "print('the pi number is %f'%3.14)\n",
        "print('%s to %s'%('Welcome','Quantconnect'))"
      ],
      "execution_count": 77,
      "outputs": [
        {
          "output_type": "stream",
          "name": "stdout",
          "text": [
            "the pi number is 3.140000\n",
            "Welcome to Quantconnect\n"
          ]
        }
      ]
    },
    {
      "cell_type": "code",
      "source": [
        "print('the euler number is %f'%2.718)\n",
        "print('%s a %s'%('Bienvenido','Mi Libro'))"
      ],
      "metadata": {
        "colab": {
          "base_uri": "https://localhost:8080/"
        },
        "id": "zaSOVGu-UwOx",
        "outputId": "4e079e28-23ed-4f11-ca5f-061e6a593b06"
      },
      "execution_count": 78,
      "outputs": [
        {
          "output_type": "stream",
          "name": "stdout",
          "text": [
            "the euler number is 2.718000\n",
            "Bienvenido a Mi Libro\n"
          ]
        }
      ]
    },
    {
      "cell_type": "markdown",
      "metadata": {
        "id": "v_5cocrDW3MN"
      },
      "source": [
        "# Summary\n",
        "\n",
        "Weave seen the basic data types and data structures in Python. It's important to keep practicing to become familiar with these data structures. In the next tutorial, we will cover for and while loops and logical operations in Python."
      ]
    },
    {
      "cell_type": "markdown",
      "metadata": {
        "id": "QL6dNxwCXNEt"
      },
      "source": [
        "<div align=\"center\">\n",
        "<img style=\"display: block; margin: auto;\" alt=\"photo\" src=\"https://cdn.quantconnect.com/web/i/icon.png\">\n",
        "\n",
        "Quantconnect\n",
        "\n",
        "Introduction to Financial Python\n",
        "</div>\n",
        "\n",
        "# 02 Logical Operations and Loops\n",
        "\n",
        "# Introduction\n",
        "We discussed the basic data types and data structures in Python in the last tutorial. This chapter covers logical operations and loops in Python, which are very common in programming.\n",
        "\n",
        "# Logical Operations\n",
        "Like most programming languages, Python has comparison operators:"
      ]
    },
    {
      "cell_type": "code",
      "metadata": {
        "colab": {
          "base_uri": "https://localhost:8080/"
        },
        "id": "70Guys_rOv7a",
        "outputId": "2f353fbf-8421-40ec-fa98-40ae2725ea2e"
      },
      "source": [
        "print(1 == 0)\n",
        "print(1 == 1)\n",
        "print(1 != 0)\n",
        "print(5 >= 5)\n",
        "print(5 >= 6)"
      ],
      "execution_count": 79,
      "outputs": [
        {
          "output_type": "stream",
          "name": "stdout",
          "text": [
            "False\n",
            "True\n",
            "True\n",
            "True\n",
            "False\n"
          ]
        }
      ]
    },
    {
      "cell_type": "code",
      "source": [
        "print(2 == 5)   #2 es igual a 5?\n",
        "print(3 == 4)   #3 es igual a 4?\n",
        "print(4 != 3)   #4 es No Igual a 3?\n",
        "print(5 >= 2)   #5 es mayor o igual a 2?\n",
        "print(6 <= 1)   #6 es menor o igual a 1?"
      ],
      "metadata": {
        "colab": {
          "base_uri": "https://localhost:8080/"
        },
        "id": "HmXXRxKzW8wB",
        "outputId": "a41c48d4-b1a8-4e23-ab18-0e97a3cf3f4b"
      },
      "execution_count": 80,
      "outputs": [
        {
          "output_type": "stream",
          "name": "stdout",
          "text": [
            "False\n",
            "False\n",
            "True\n",
            "True\n",
            "False\n"
          ]
        }
      ]
    },
    {
      "cell_type": "markdown",
      "metadata": {
        "id": "8aFHYDj-YTXt"
      },
      "source": [
        "Each statement above has a boolean value, which must be either True or False, but not both.\n",
        "\n",
        "We can combine simple statements P and Q to form complex statements using logical operators:\n",
        "\n",
        "- The statement \"P and Q\" is true if both P and Q are true, otherwise it is false.\n",
        "- The statement \"P or Q\" is false if both P and Q are false, otherwise it is true.\n",
        "- The statement \"not P\" is true if P is false, and vice versa."
      ]
    },
    {
      "cell_type": "code",
      "metadata": {
        "colab": {
          "base_uri": "https://localhost:8080/"
        },
        "id": "O5YEEcUbOv7d",
        "outputId": "64aaae34-db5b-423b-90e9-45630d91238f"
      },
      "source": [
        "print(2 > 1 and 3 > 2)\n",
        "print(2 > 1 and 3 < 2) \n",
        "print(2 > 1 or 3 < 2)\n",
        "print(2 < 1 and 3 < 2)"
      ],
      "execution_count": 81,
      "outputs": [
        {
          "output_type": "stream",
          "name": "stdout",
          "text": [
            "True\n",
            "False\n",
            "True\n",
            "False\n"
          ]
        }
      ]
    },
    {
      "cell_type": "code",
      "source": [
        "print(3 > 1 or  8 > 1)    #True || True = True\n",
        "print(4 > 2 and 6 < 1)    #True && False = False\n",
        "print(1 > 2 and  7 < 1)   #False && False = False\n",
        "print(6 < 2 or 4 < 1)     #False || False = False"
      ],
      "metadata": {
        "colab": {
          "base_uri": "https://localhost:8080/"
        },
        "id": "6jnym5UMXfEf",
        "outputId": "1500f935-4ff0-421e-aca1-69669ae01cbb"
      },
      "execution_count": 82,
      "outputs": [
        {
          "output_type": "stream",
          "name": "stdout",
          "text": [
            "True\n",
            "False\n",
            "False\n",
            "False\n"
          ]
        }
      ]
    },
    {
      "cell_type": "markdown",
      "metadata": {
        "id": "Dy7yzoSXYXmL"
      },
      "source": [
        "When dealing with a very complex logical statement that involves in several statements, we can use brackets to separate and combine them."
      ]
    },
    {
      "cell_type": "code",
      "metadata": {
        "colab": {
          "base_uri": "https://localhost:8080/"
        },
        "id": "QZ-W2xJZOv7d",
        "outputId": "3dee73ac-af02-4221-8da3-c5ce78dd3bd8"
      },
      "source": [
        "print((3 > 2 or 1 < 3) and (1!=3 and 4>3) and not ( 3 < 2 or 1 < 3 and (1!=3 and 4>3)))\n",
        "print(3 > 2 or 1 < 3 and (1!=3 and 4>3) and not ( 3 < 2 or 1 < 3 and (1!=3 and 4>3)))"
      ],
      "execution_count": 83,
      "outputs": [
        {
          "output_type": "stream",
          "name": "stdout",
          "text": [
            "False\n",
            "True\n"
          ]
        }
      ]
    },
    {
      "cell_type": "code",
      "source": [
        "print((4 < 2 or 1 <= 2) or (1==1 and 2!=3) and not (2 < 1 and 2 > 3 or (5 > 1 or 7 < 12)))\n",
        "print(4 < 2 or 1 <= 2 or (1==1 and 2!=3) and not (2 < 1 and 2 > 3 or (5 > 1 or 7 < 12)))"
      ],
      "metadata": {
        "colab": {
          "base_uri": "https://localhost:8080/"
        },
        "id": "TMbGGcjhYp3Q",
        "outputId": "4b61cf89-1b60-482f-a095-3b640300bec8"
      },
      "execution_count": 84,
      "outputs": [
        {
          "output_type": "stream",
          "name": "stdout",
          "text": [
            "True\n",
            "True\n"
          ]
        }
      ]
    },
    {
      "cell_type": "markdown",
      "metadata": {
        "id": "s95xoRYMYaPD"
      },
      "source": [
        "Comparing the above two statements, we can see that it's wise to use brackets when we make a complex logical statement.\n",
        "\n",
        "# If Statement\n",
        "An if statement executes a segment of code only if its condition is true. A standard if statement consists of 3 segments: if, elif and else."
      ]
    },
    {
      "cell_type": "markdown",
      "metadata": {
        "id": "aRzMMitAaBOL"
      },
      "source": [
        "```python\n",
        "if statement1:\n",
        "    # if the statement1 is true, execute the code here.\n",
        "    # code.....\n",
        "    # code.....\n",
        "elif statement2:\n",
        "    # if the statement 1 is false, skip the codes above to this part.\n",
        "    # code......\n",
        "    # code......\n",
        "else:\n",
        "    # if none of the above statements is True, skip to this part\n",
        "    # code......\n",
        "```"
      ]
    },
    {
      "cell_type": "markdown",
      "metadata": {
        "id": "l59R2AS8aH2K"
      },
      "source": [
        "An if statement doesn't necessarily has elif and else part. If it's not specified, the indented block of code will be executed when the condition is true, otherwise the whole if statement will be skipped."
      ]
    },
    {
      "cell_type": "code",
      "metadata": {
        "colab": {
          "base_uri": "https://localhost:8080/"
        },
        "id": "FZ5GoTXfOv7e",
        "outputId": "b3ae6803-9c37-4e1e-9491-af3a5858a353"
      },
      "source": [
        "i = 0\n",
        "if i == 0:\n",
        "    print('i==0 is True')"
      ],
      "execution_count": 85,
      "outputs": [
        {
          "output_type": "stream",
          "name": "stdout",
          "text": [
            "i==0 is True\n"
          ]
        }
      ]
    },
    {
      "cell_type": "code",
      "source": [
        "h = 1\n",
        "if h ==1:\n",
        "    print('h==1 is True')"
      ],
      "metadata": {
        "colab": {
          "base_uri": "https://localhost:8080/"
        },
        "id": "B6qGau1ZZenG",
        "outputId": "df895ee3-f629-46f0-cd55-42aca74553ac"
      },
      "execution_count": 86,
      "outputs": [
        {
          "output_type": "stream",
          "name": "stdout",
          "text": [
            "h==1 is True\n"
          ]
        }
      ]
    },
    {
      "cell_type": "markdown",
      "metadata": {
        "id": "nPNW-l5eaJn8"
      },
      "source": [
        "As we mentioned above, we can write some complex statements here:"
      ]
    },
    {
      "cell_type": "code",
      "metadata": {
        "colab": {
          "base_uri": "https://localhost:8080/"
        },
        "id": "gh-U6nMzOv7e",
        "outputId": "35ac552d-3f51-4e54-f653-5acce346d019"
      },
      "source": [
        "p = 1 > 0\n",
        "q = 2 > 3\n",
        "if p and q:\n",
        "    print('p and q is true')\n",
        "elif p and not q:\n",
        "    print('q is false')\n",
        "elif q and not p:\n",
        "    print('p is false')\n",
        "else:\n",
        "    print('None of p and q is true')"
      ],
      "execution_count": 87,
      "outputs": [
        {
          "output_type": "stream",
          "name": "stdout",
          "text": [
            "q is false\n"
          ]
        }
      ]
    },
    {
      "cell_type": "code",
      "source": [
        "r = 4 > 0\n",
        "s = 5 > 3\n",
        "if r and s:\n",
        "    print('p and q is true')\n",
        "elif r and not s:\n",
        "    print('q is false')\n",
        "elif s and not r:\n",
        "    print('p is false')\n",
        "else:\n",
        "    print('None of p and q is true')"
      ],
      "metadata": {
        "colab": {
          "base_uri": "https://localhost:8080/"
        },
        "id": "1Gwr0tMAZmLl",
        "outputId": "5f2d2dd2-d2b3-4e03-a9fc-a62cd391ac47"
      },
      "execution_count": 88,
      "outputs": [
        {
          "output_type": "stream",
          "name": "stdout",
          "text": [
            "p and q is true\n"
          ]
        }
      ]
    },
    {
      "cell_type": "markdown",
      "metadata": {
        "id": "tgRDwiAsaMOL"
      },
      "source": [
        "# Loop Structure\n",
        "Loops are an essential part of programming. The \"for\" and \"while\" loops run a block of code repeatedly.\n",
        "\n",
        "## While Loop\n",
        "A \"while\" loop will run repeatedly until a certain condition has been met."
      ]
    },
    {
      "cell_type": "code",
      "metadata": {
        "colab": {
          "base_uri": "https://localhost:8080/"
        },
        "id": "uQLau8d5Ov7f",
        "outputId": "c11a2ff5-896c-4529-83ff-7a8240ecfbd6"
      },
      "source": [
        "i = 0\n",
        "while i < 5:\n",
        "    print(i)\n",
        "    i += 1 "
      ],
      "execution_count": 89,
      "outputs": [
        {
          "output_type": "stream",
          "name": "stdout",
          "text": [
            "0\n",
            "1\n",
            "2\n",
            "3\n",
            "4\n"
          ]
        }
      ]
    },
    {
      "cell_type": "code",
      "source": [
        "i = 0\n",
        "while i < 5:  #Mientras i sea menor a 5\n",
        "    print(i**2) #Imprima i al cuadrado\n",
        "    i += 1      #i va a ser i+1"
      ],
      "metadata": {
        "colab": {
          "base_uri": "https://localhost:8080/"
        },
        "id": "fieEPgcLZ5pn",
        "outputId": "675e7c51-76a2-41af-fbdf-802b8b4a25f2"
      },
      "execution_count": 90,
      "outputs": [
        {
          "output_type": "stream",
          "name": "stdout",
          "text": [
            "0\n",
            "1\n",
            "4\n",
            "9\n",
            "16\n"
          ]
        }
      ]
    },
    {
      "cell_type": "markdown",
      "metadata": {
        "id": "ydLddFAPaTOE"
      },
      "source": [
        "When making a while loop, we need to ensure that something changes from iteration to iteration so that the while loop will terminate, otherwise, it will run forever. Here we used i += 1 (short for i = i + 1) to make i larger after each iteration. This is the most commonly used method to control a while loop.\n",
        "\n",
        "## For Loop\n",
        "A \"for\" loop will iterate over a sequence of value and terminate when the sequence has ended."
      ]
    },
    {
      "cell_type": "code",
      "metadata": {
        "colab": {
          "base_uri": "https://localhost:8080/"
        },
        "id": "kt8Ie8u1Ov7f",
        "outputId": "cf942b22-8f48-4c67-80a8-f02643f4ad7c"
      },
      "source": [
        "for i in [1,2,3,4,5]:\n",
        "    print(i)"
      ],
      "execution_count": 91,
      "outputs": [
        {
          "output_type": "stream",
          "name": "stdout",
          "text": [
            "1\n",
            "2\n",
            "3\n",
            "4\n",
            "5\n"
          ]
        }
      ]
    },
    {
      "cell_type": "code",
      "source": [
        "for i in [1,2,3,4,5]: #Asignamos a i el valor de cada uno de los elementos de la lista por cada iteración\n",
        "    print(i**3)       "
      ],
      "metadata": {
        "colab": {
          "base_uri": "https://localhost:8080/"
        },
        "id": "-IhHi5WiZ_AG",
        "outputId": "d92873b3-8d91-4d7d-cd89-c524f0413e9d"
      },
      "execution_count": 92,
      "outputs": [
        {
          "output_type": "stream",
          "name": "stdout",
          "text": [
            "1\n",
            "8\n",
            "27\n",
            "64\n",
            "125\n"
          ]
        }
      ]
    },
    {
      "cell_type": "markdown",
      "metadata": {
        "id": "yWStqpreaX-T"
      },
      "source": [
        "We can also add if statements in a for loop. Here is a real example from our pairs trading algorithm:"
      ]
    },
    {
      "cell_type": "code",
      "metadata": {
        "colab": {
          "base_uri": "https://localhost:8080/"
        },
        "id": "kElmffvFOv7f",
        "outputId": "fb6c7884-c6d1-42c8-bac3-17def938d01e"
      },
      "source": [
        "stocks = ['AAPL','GOOG','IBM','FB','F','V', 'G', 'GE']\n",
        "selected = ['AAPL','IBM']\n",
        "new_list = []\n",
        "for i in stocks:\n",
        "    if i not in selected:\n",
        "        new_list.append(i)\n",
        "print(stocks)"
      ],
      "execution_count": 93,
      "outputs": [
        {
          "output_type": "stream",
          "name": "stdout",
          "text": [
            "['AAPL', 'GOOG', 'IBM', 'FB', 'F', 'V', 'G', 'GE']\n"
          ]
        }
      ]
    },
    {
      "cell_type": "code",
      "source": [
        "valores = ['HYMC','DOCU','DIDI','HYMC','DIDI','RIVN','T','DOCU']\n",
        "seleccion = ['HYMC','DIDI']\n",
        "listaNueva = []\n",
        "for i in valores:     #Metemos en listaNueva todos los strings de valores, menos los que estén en selección\n",
        "    if i not in seleccion:\n",
        "        listaNueva.append(i)    \n",
        "print(listaNueva)"
      ],
      "metadata": {
        "colab": {
          "base_uri": "https://localhost:8080/"
        },
        "id": "ZBCEZI5waCch",
        "outputId": "58284502-5793-4439-fe9f-bdbdffcf7c08"
      },
      "execution_count": 94,
      "outputs": [
        {
          "output_type": "stream",
          "name": "stdout",
          "text": [
            "['DOCU', 'RIVN', 'T', 'DOCU']\n"
          ]
        }
      ]
    },
    {
      "cell_type": "markdown",
      "metadata": {
        "id": "wb2hry9dahE0"
      },
      "source": [
        "Here we iterated all the elements in the list 'stocks'. Later in this chapter, we will introduce a smarter way to do this, which is just a one-line code.\n",
        "\n",
        "## Break and continue\n",
        "These are two commonly used commands in a for loop. If \"break\" is triggered while a loop is executing, the loop will terminate immediately:"
      ]
    },
    {
      "cell_type": "code",
      "metadata": {
        "colab": {
          "base_uri": "https://localhost:8080/"
        },
        "id": "yF5wMVItOv7g",
        "outputId": "56d4db21-d03d-4767-de5c-b010ba722e77"
      },
      "source": [
        "stocks = ['AAPL','GOOG','IBM','FB','F','V', 'G', 'GE']\n",
        "for i in stocks:\n",
        "    print(i)\n",
        "    if i == 'FB':\n",
        "        break"
      ],
      "execution_count": 95,
      "outputs": [
        {
          "output_type": "stream",
          "name": "stdout",
          "text": [
            "AAPL\n",
            "GOOG\n",
            "IBM\n",
            "FB\n"
          ]
        }
      ]
    },
    {
      "cell_type": "code",
      "source": [
        "valores = ['HYMC','DOCU','DIDI','HYMC','DIDI','RIVN','T','DOCU']\n",
        "for i in valores:     #Recorremos la lista de valores\n",
        "    print(i)\n",
        "    if i == 'DIDI':   #Si i='DIDI'\n",
        "        break         #Salimos del ciclo for"
      ],
      "metadata": {
        "colab": {
          "base_uri": "https://localhost:8080/"
        },
        "id": "ljATunoNdXJr",
        "outputId": "b3195edd-c90e-44ff-e979-bab545457fc4"
      },
      "execution_count": 96,
      "outputs": [
        {
          "output_type": "stream",
          "name": "stdout",
          "text": [
            "HYMC\n",
            "DOCU\n",
            "DIDI\n"
          ]
        }
      ]
    },
    {
      "cell_type": "markdown",
      "metadata": {
        "id": "R0toxyp3ao0T"
      },
      "source": [
        "The \"continue\" command tells the loop to end this iteration and skip to the next iteration:"
      ]
    },
    {
      "cell_type": "code",
      "metadata": {
        "colab": {
          "base_uri": "https://localhost:8080/"
        },
        "id": "Stg-CH6IOv7g",
        "outputId": "421d7e0b-b630-49ef-a9f9-71a5d61ced3b"
      },
      "source": [
        "stocks = ['AAPL','GOOG','IBM','FB','F','V', 'G', 'GE']\n",
        "for i in stocks:\n",
        "    if i == 'FB':\n",
        "        continue\n",
        "    print(i)"
      ],
      "execution_count": 97,
      "outputs": [
        {
          "output_type": "stream",
          "name": "stdout",
          "text": [
            "AAPL\n",
            "GOOG\n",
            "IBM\n",
            "F\n",
            "V\n",
            "G\n",
            "GE\n"
          ]
        }
      ]
    },
    {
      "cell_type": "code",
      "source": [
        "valores = ['HYMC','DOCU','DIDI','HYMC','DIDI','RIVN','T','DOCU']\n",
        "for i in valores:\n",
        "    if i == 'DIDI':   \n",
        "        continue      #Saltamos a la siguiente iteración del ciclo for\n",
        "    print(i)"
      ],
      "metadata": {
        "colab": {
          "base_uri": "https://localhost:8080/"
        },
        "id": "U5Drr51_dvel",
        "outputId": "d77ec146-2a3d-40f5-e829-f1b34eef2e40"
      },
      "execution_count": 98,
      "outputs": [
        {
          "output_type": "stream",
          "name": "stdout",
          "text": [
            "HYMC\n",
            "DOCU\n",
            "HYMC\n",
            "RIVN\n",
            "T\n",
            "DOCU\n"
          ]
        }
      ]
    },
    {
      "cell_type": "markdown",
      "metadata": {
        "id": "4NusvdhBaxpZ"
      },
      "source": [
        "# List Comprehension\n",
        "List comprehension is a Pythonic way to create lists. Common applications are to make new lists where each element is the result of some operations applied to each member of another sequence. For example, if we want to create a list of squares using for loop:"
      ]
    },
    {
      "cell_type": "code",
      "metadata": {
        "colab": {
          "base_uri": "https://localhost:8080/"
        },
        "id": "bdxxeOABOv7h",
        "outputId": "e50b8e8a-0dd7-4a60-aa43-755e5a7326e9"
      },
      "source": [
        "squares = []\n",
        "for i in [1,2,3,4,5]:\n",
        "    squares.append(i**2)\n",
        "print(squares)"
      ],
      "execution_count": 99,
      "outputs": [
        {
          "output_type": "stream",
          "name": "stdout",
          "text": [
            "[1, 4, 9, 16, 25]\n"
          ]
        }
      ]
    },
    {
      "cell_type": "code",
      "source": [
        "cubos = []\n",
        "#Elevamos cada uno de los numeros, del 1 al 5, al cubo y los almacenamos en 'cubos'\n",
        "for i in [1,2,3,4,5]:\n",
        "    cubos.append(i**3)\n",
        "print(cubos)"
      ],
      "metadata": {
        "colab": {
          "base_uri": "https://localhost:8080/"
        },
        "id": "8cQ6okwceDLY",
        "outputId": "0ca91e93-5614-42b0-9661-a52a05dbe126"
      },
      "execution_count": 100,
      "outputs": [
        {
          "output_type": "stream",
          "name": "stdout",
          "text": [
            "[1, 8, 27, 64, 125]\n"
          ]
        }
      ]
    },
    {
      "cell_type": "markdown",
      "metadata": {
        "id": "--KliJBOa1CC"
      },
      "source": [
        "Using list comprehension:"
      ]
    },
    {
      "cell_type": "code",
      "metadata": {
        "colab": {
          "base_uri": "https://localhost:8080/"
        },
        "id": "440-yjG8Ov7h",
        "outputId": "afcbe4b2-3d37-4735-e6a9-8e5ef885bee4"
      },
      "source": [
        "list = [1,2,3,4,5]\n",
        "squares = [x**2 for x in list]\n",
        "print(squares)"
      ],
      "execution_count": 101,
      "outputs": [
        {
          "output_type": "stream",
          "name": "stdout",
          "text": [
            "[1, 4, 9, 16, 25]\n"
          ]
        }
      ]
    },
    {
      "cell_type": "code",
      "source": [
        "listaNumeros = [1,2,3,4,5]\n",
        "cubos = [x**3 for x in listaNumeros]    #recorremos listaNumeros y cada elemento lo elevamos a la 3 y lo almacenamos en la lista cubos\n",
        "print(cubos)"
      ],
      "metadata": {
        "colab": {
          "base_uri": "https://localhost:8080/"
        },
        "id": "ZBt2TaCWer1e",
        "outputId": "673885bc-a7ff-434d-f854-ad5a9f883ea4"
      },
      "execution_count": 102,
      "outputs": [
        {
          "output_type": "stream",
          "name": "stdout",
          "text": [
            "[1, 8, 27, 64, 125]\n"
          ]
        }
      ]
    },
    {
      "cell_type": "markdown",
      "metadata": {
        "id": "uMuCfR3ya3zT"
      },
      "source": [
        "Recall the example above where we used a for loop to select stocks. Here we use list comprehension:"
      ]
    },
    {
      "cell_type": "code",
      "metadata": {
        "colab": {
          "base_uri": "https://localhost:8080/"
        },
        "id": "ZGtCtog2Ov7h",
        "outputId": "817161f9-8691-46ef-e41b-f2f430d9650e"
      },
      "source": [
        "stocks = ['AAPL','GOOG','IBM','FB','F','V', 'G', 'GE']\n",
        "selected = ['AAPL','IBM']\n",
        "new_list = [x for x in stocks if x in selected]\n",
        "print(new_list)"
      ],
      "execution_count": 103,
      "outputs": [
        {
          "output_type": "stream",
          "name": "stdout",
          "text": [
            "['AAPL', 'IBM']\n"
          ]
        }
      ]
    },
    {
      "cell_type": "code",
      "source": [
        "valores = ['HYMC','DOCU','DIDI','RIVN','T','DOCU']\n",
        "seleccion = ['HYMC','DIDI']\n",
        "listaNueva = [x for x in valores if x not in seleccion]   \n",
        "print(listaNueva)"
      ],
      "metadata": {
        "colab": {
          "base_uri": "https://localhost:8080/"
        },
        "id": "PRfRqfJafILB",
        "outputId": "6e091eca-d294-4cd3-fbe1-87608d041577"
      },
      "execution_count": 104,
      "outputs": [
        {
          "output_type": "stream",
          "name": "stdout",
          "text": [
            "['DOCU', 'RIVN', 'T', 'DOCU']\n"
          ]
        }
      ]
    },
    {
      "cell_type": "markdown",
      "metadata": {
        "id": "EPeUv6Lia5oD"
      },
      "source": [
        "A list comprehension consists of square brackets containing an expression followed by a \"for\" clause, and possibly \"for\" or \"if\" clauses. For example:"
      ]
    },
    {
      "cell_type": "code",
      "metadata": {
        "colab": {
          "base_uri": "https://localhost:8080/"
        },
        "id": "O1AMB5d7Ov7i",
        "outputId": "4b9eca4e-c7ef-46cd-b8e6-47df319cfeb0"
      },
      "source": [
        "print([(x, y) for x in [1,2,3] for y in [3,1,4] if x != y])\n",
        "print([str(x)+' vs '+str(y) for x in ['AAPL','GOOG','IBM','FB'] for y in ['F','V','G','GE'] if x!=y])"
      ],
      "execution_count": 105,
      "outputs": [
        {
          "output_type": "stream",
          "name": "stdout",
          "text": [
            "[(1, 3), (1, 4), (2, 3), (2, 1), (2, 4), (3, 1), (3, 4)]\n",
            "['AAPL vs F', 'AAPL vs V', 'AAPL vs G', 'AAPL vs GE', 'GOOG vs F', 'GOOG vs V', 'GOOG vs G', 'GOOG vs GE', 'IBM vs F', 'IBM vs V', 'IBM vs G', 'IBM vs GE', 'FB vs F', 'FB vs V', 'FB vs G', 'FB vs GE']\n"
          ]
        }
      ]
    },
    {
      "cell_type": "code",
      "source": [
        "print([(x, y) for x in ['A','B','C'] for y in [3,1,4] if x != y])   #Permutamos los elementos x con los y\n",
        "print([str(x)+' vs '+str(y) for x in ['HYMC','DOCU','DIDI','RIVN'] for y in ['H','D','DIDI','R'] if x == y])   "
      ],
      "metadata": {
        "colab": {
          "base_uri": "https://localhost:8080/"
        },
        "id": "lnGjfAG7gPZ-",
        "outputId": "70eb4246-b20f-4d50-d69e-c067da264f09"
      },
      "execution_count": 106,
      "outputs": [
        {
          "output_type": "stream",
          "name": "stdout",
          "text": [
            "[('A', 3), ('A', 1), ('A', 4), ('B', 3), ('B', 1), ('B', 4), ('C', 3), ('C', 1), ('C', 4)]\n",
            "['DIDI vs DIDI']\n"
          ]
        }
      ]
    },
    {
      "cell_type": "markdown",
      "metadata": {
        "id": "jJpvq-o4a8P7"
      },
      "source": [
        "List comprehension is an elegant way to organize one or more for loops when creating a list.\n",
        "\n",
        "# Summary\n",
        "This chapter has introduced logical operations, loops, and list comprehension. In the next chapter, we will introduce functions and object-oriented programming, which will enable us to make our codes clean and versatile."
      ]
    },
    {
      "cell_type": "markdown",
      "metadata": {
        "id": "Tef_X2wJbdhn"
      },
      "source": [
        "<div align=\"center\">\n",
        "<img style=\"display: block; margin: auto;\" alt=\"photo\" src=\"https://cdn.quantconnect.com/web/i/icon.png\">\n",
        "\n",
        "Quantconnect\n",
        "\n",
        "Introduction to Financial Python\n",
        "</div>\n",
        "\n",
        "# 03 Functions and Objective-Oriented Programming\n",
        "\n",
        "# Introduction\n",
        "\n",
        "In the last tutorial we introduced logical operations, loops and list comprehension. We will introduce functions and object-oriented programming in this chapter, which will enable us to build complex algorithms in more flexible ways.\n",
        "\n",
        "# Functions\n",
        "A function is a reusable block of code. We can use a function to output a value, or do anything else we want. We can easily define our own function by using the keyword \"def\"."
      ]
    },
    {
      "cell_type": "code",
      "metadata": {
        "colab": {
          "base_uri": "https://localhost:8080/"
        },
        "id": "eE_NkTiSO2PO",
        "outputId": "b0a537f9-4ca1-44ad-a312-46c14f7f3206"
      },
      "source": [
        "def product(x,y):\n",
        "    return x*y\n",
        "print(product(2,3))\n",
        "print(product(5,10))"
      ],
      "execution_count": 107,
      "outputs": [
        {
          "output_type": "stream",
          "name": "stdout",
          "text": [
            "6\n",
            "50\n"
          ]
        }
      ]
    },
    {
      "cell_type": "code",
      "source": [
        "def division(x,y):     #Definimos una función llamada division que recibe dos parámetros\n",
        "    if(y == 0):\n",
        "      return None       #None hace referencia al atributo null de Python\n",
        "    else:\n",
        "      return x/y\n",
        "print(division(23,3))\n",
        "print(division(5,0))"
      ],
      "metadata": {
        "colab": {
          "base_uri": "https://localhost:8080/"
        },
        "id": "x4a1m6XHhi4h",
        "outputId": "74b54a37-300c-495c-c57f-f98c85dee071"
      },
      "execution_count": 108,
      "outputs": [
        {
          "output_type": "stream",
          "name": "stdout",
          "text": [
            "7.666666666666667\n",
            "None\n"
          ]
        }
      ]
    },
    {
      "cell_type": "markdown",
      "metadata": {
        "id": "4oRU_dVJbsdD"
      },
      "source": [
        "The keyword \"def\" is followed by the function name and the parenthesized list of formal parameters. The statements that form the body of the function start at the next line, and must be indented. The product() function above has \"x\" and \"y\" as its parameters. A function doesn't necessarily have parameters:"
      ]
    },
    {
      "cell_type": "code",
      "metadata": {
        "colab": {
          "base_uri": "https://localhost:8080/"
        },
        "id": "JhdWVLbUO2PQ",
        "outputId": "d6acf195-1c3b-4a0f-93ed-1e7a9024a7b5"
      },
      "source": [
        "def say_hi():\n",
        "    print('Welcome to QuantConnect')\n",
        "say_hi()"
      ],
      "execution_count": 109,
      "outputs": [
        {
          "output_type": "stream",
          "name": "stdout",
          "text": [
            "Welcome to QuantConnect\n"
          ]
        }
      ]
    },
    {
      "cell_type": "code",
      "source": [
        "def holaMundo():      #En esta función no especificamos el requerimiento de parámetros\n",
        "    print('Hola Mundo')\n",
        "holaMundo()"
      ],
      "metadata": {
        "colab": {
          "base_uri": "https://localhost:8080/"
        },
        "id": "HmDwq6iCiK0v",
        "outputId": "bcd4498b-6efb-48bf-b8f1-31d5d4a3c027"
      },
      "execution_count": 110,
      "outputs": [
        {
          "output_type": "stream",
          "name": "stdout",
          "text": [
            "Hola Mundo\n"
          ]
        }
      ]
    },
    {
      "cell_type": "markdown",
      "metadata": {
        "id": "lHwqVpWVb1Jr"
      },
      "source": [
        "# Built-in Function\n",
        "**range()** is a function that creates a list containing an arithmetic sequence. It's often used in for loops. The arguments must be integers. If the \"step\" argument is omitted, it defaults to 1."
      ]
    },
    {
      "cell_type": "code",
      "metadata": {
        "colab": {
          "base_uri": "https://localhost:8080/"
        },
        "id": "VVOTELcIO2PQ",
        "outputId": "b070314e-08c0-47d1-fa77-656264099102"
      },
      "source": [
        "print(range(10))        #Sucesión de Números del 0 al 9 incluidos\n",
        "print(range(1,11))      #Sucesión de Números del 1 al 10 incluidos\n",
        "print(range(1,11,2))    #Secesión de Números del 1 al 10 avanzando de a dos"
      ],
      "execution_count": 111,
      "outputs": [
        {
          "output_type": "stream",
          "name": "stdout",
          "text": [
            "range(0, 10)\n",
            "range(1, 11)\n",
            "range(1, 11, 2)\n"
          ]
        }
      ]
    },
    {
      "cell_type": "markdown",
      "metadata": {
        "id": "PD0cSgiwcQ4L"
      },
      "source": [
        "**len()** is another function used together with range() to create a for loop. This function returns the length of an object. The argument must be a sequence or a collection."
      ]
    },
    {
      "cell_type": "code",
      "metadata": {
        "colab": {
          "base_uri": "https://localhost:8080/"
        },
        "id": "Hg18c7v-O2PR",
        "outputId": "c49e3af9-5f9f-47d8-9c59-6f3f4db0c6cd"
      },
      "source": [
        "tickers = ['AAPL','GOOG','IBM','FB','F','V', 'G', 'GE']\n",
        "print('The length of tickers is {}'.format(len(tickers)))\n",
        "for i in range(len(tickers)):\n",
        "    print(tickers[i])"
      ],
      "execution_count": 112,
      "outputs": [
        {
          "output_type": "stream",
          "name": "stdout",
          "text": [
            "The length of tickers is 8\n",
            "AAPL\n",
            "GOOG\n",
            "IBM\n",
            "FB\n",
            "F\n",
            "V\n",
            "G\n",
            "GE\n"
          ]
        }
      ]
    },
    {
      "cell_type": "code",
      "source": [
        "tiquetes = ['HYMC','DOCU','DIDI','HYMC','DIDI','RIVN','T','DOCU']\n",
        "print('La longitud de tiquetes es {}'.format(len(tiquetes)))\n",
        "for i in range(len(tiquetes)):    #len() nos da el numero de tiquetes y range() nos permite recorrer cada indice\n",
        "    print(tiquetes[i])"
      ],
      "metadata": {
        "colab": {
          "base_uri": "https://localhost:8080/"
        },
        "id": "y0P0H21Ikk4w",
        "outputId": "93bd7c7a-2c5f-48d0-f9f0-8b95f7de4c31"
      },
      "execution_count": 113,
      "outputs": [
        {
          "output_type": "stream",
          "name": "stdout",
          "text": [
            "La longitud de tiquetes es 8\n",
            "HYMC\n",
            "DOCU\n",
            "DIDI\n",
            "HYMC\n",
            "DIDI\n",
            "RIVN\n",
            "T\n",
            "DOCU\n"
          ]
        }
      ]
    },
    {
      "cell_type": "markdown",
      "metadata": {
        "id": "OIQSuub1cWgi"
      },
      "source": [
        "Note: If you want to print only the tickers without those numbers, then simply write \"for ticker in tickers: print ticker\"\n",
        "\n",
        "**map(**) is a function that applies a specific function to every item of a sequence or collection, and returns a list of the results."
      ]
    },
    {
      "cell_type": "markdown",
      "metadata": {
        "id": "pqPuspeG5HAi"
      },
      "source": [
        "Because list at the moment is [1,2,3,4,5] and overwriting list() from builtins we del list"
      ]
    },
    {
      "cell_type": "code",
      "metadata": {
        "colab": {
          "base_uri": "https://localhost:8080/"
        },
        "id": "caV9c-qk4_eZ",
        "outputId": "ef7ae164-381a-4ce6-9bc1-ae5175aa71cb"
      },
      "source": [
        "print(list)   #list es una palabra reservada para definir el tipo de dato list de Python\n",
        "del list      #eliminamos la declaración de la variable list\n",
        "list"
      ],
      "execution_count": 114,
      "outputs": [
        {
          "output_type": "stream",
          "name": "stdout",
          "text": [
            "[1, 2, 3, 4, 5]\n"
          ]
        },
        {
          "output_type": "execute_result",
          "data": {
            "text/plain": [
              "list"
            ]
          },
          "metadata": {},
          "execution_count": 114
        }
      ]
    },
    {
      "cell_type": "code",
      "metadata": {
        "colab": {
          "base_uri": "https://localhost:8080/"
        },
        "id": "lJBs5ECT4mSq",
        "outputId": "c6afc231-9fb5-4779-8777-4e412f67a57a"
      },
      "source": [
        "tickers = ['AAPL','GOOG','IBM','FB','F','V', 'G', 'GE']\n",
        "list(map(len,tickers))"
      ],
      "execution_count": 115,
      "outputs": [
        {
          "output_type": "execute_result",
          "data": {
            "text/plain": [
              "[4, 4, 3, 2, 1, 1, 1, 2]"
            ]
          },
          "metadata": {},
          "execution_count": 115
        }
      ]
    },
    {
      "cell_type": "code",
      "metadata": {
        "colab": {
          "base_uri": "https://localhost:8080/"
        },
        "id": "78DyKVOyO2PR",
        "outputId": "4c6c4910-2395-4979-f82c-aa5fc42c4845"
      },
      "source": [
        "tickers = ['AAPL','GOOG','IBM','FB','F','V', 'G', 'GE']\n",
        "print(list(map(len,tickers)))"
      ],
      "execution_count": 116,
      "outputs": [
        {
          "output_type": "stream",
          "name": "stdout",
          "text": [
            "[4, 4, 3, 2, 1, 1, 1, 2]\n"
          ]
        }
      ]
    },
    {
      "cell_type": "code",
      "source": [
        "tiquetes = ['HYMC','DOCU','DIDI','HYMC','DIDI','RIVN','T','DOCU']\n",
        "list(map(len,tiquetes))   #nos computa el número de caracteres por cada objeto de tiquetes"
      ],
      "metadata": {
        "colab": {
          "base_uri": "https://localhost:8080/"
        },
        "id": "ch_D8wyuqxkY",
        "outputId": "17165b9b-2bd4-4f47-9a6a-4a79fd032b65"
      },
      "execution_count": 117,
      "outputs": [
        {
          "output_type": "execute_result",
          "data": {
            "text/plain": [
              "[4, 4, 4, 4, 4, 4, 1, 4]"
            ]
          },
          "metadata": {},
          "execution_count": 117
        }
      ]
    },
    {
      "cell_type": "code",
      "source": [
        "tiquetes = ['HYMC','DOCU','DIDI','HYMC','DIDI','RIVN','T','DOCU']\n",
        "print(list(map(len,tiquetes)))   #estamos mostrando que en Python no es necesario definir la función print para arrojar el resultado en pantalla"
      ],
      "metadata": {
        "colab": {
          "base_uri": "https://localhost:8080/"
        },
        "id": "MOG67P4Eqx5h",
        "outputId": "78fb2efb-4140-4bd1-d7d5-b53454d2009c"
      },
      "execution_count": 118,
      "outputs": [
        {
          "output_type": "stream",
          "name": "stdout",
          "text": [
            "[4, 4, 4, 4, 4, 4, 1, 4]\n"
          ]
        }
      ]
    },
    {
      "cell_type": "markdown",
      "metadata": {
        "id": "mvr06UM7ca7b"
      },
      "source": [
        "The **lambda operator** is a way to create small anonymous functions. These functions are just needed where they have been created. For example:"
      ]
    },
    {
      "cell_type": "code",
      "metadata": {
        "colab": {
          "base_uri": "https://localhost:8080/"
        },
        "id": "pAEHADYXO2PR",
        "outputId": "d3cf4647-f83b-4bc7-8c6c-7058bc120f28"
      },
      "source": [
        "list(map(lambda x: x**2, range(10)))"
      ],
      "execution_count": 119,
      "outputs": [
        {
          "output_type": "execute_result",
          "data": {
            "text/plain": [
              "[0, 1, 4, 9, 16, 25, 36, 49, 64, 81]"
            ]
          },
          "metadata": {},
          "execution_count": 119
        }
      ]
    },
    {
      "cell_type": "code",
      "source": [
        "list(map(lambda x: x**3, range(6)))   #Recorremos los números del 0 al 6-1 y los elevamos al cubo e imprimimos "
      ],
      "metadata": {
        "colab": {
          "base_uri": "https://localhost:8080/"
        },
        "id": "qi66XR3ZrqDh",
        "outputId": "e0133fab-f615-4263-f80c-b6d740016dfe"
      },
      "execution_count": 120,
      "outputs": [
        {
          "output_type": "execute_result",
          "data": {
            "text/plain": [
              "[0, 1, 8, 27, 64, 125]"
            ]
          },
          "metadata": {},
          "execution_count": 120
        }
      ]
    },
    {
      "cell_type": "markdown",
      "metadata": {
        "id": "Mgixpxomcj3T"
      },
      "source": [
        "map() can be applied to more than one list. The lists have to have the same length."
      ]
    },
    {
      "cell_type": "code",
      "metadata": {
        "colab": {
          "base_uri": "https://localhost:8080/"
        },
        "id": "HtckhAaJO2PS",
        "outputId": "7de79f53-48d7-411a-b5d2-2f0aa9ae9631"
      },
      "source": [
        "list(map(lambda x, y: x+y, [1,2,3,4,5],[5,4,3,2,1]))"
      ],
      "execution_count": 121,
      "outputs": [
        {
          "output_type": "execute_result",
          "data": {
            "text/plain": [
              "[6, 6, 6, 6, 6]"
            ]
          },
          "metadata": {},
          "execution_count": 121
        }
      ]
    },
    {
      "cell_type": "code",
      "source": [
        "list(map(lambda x, y: x+y, [12,22,13,54,25],[51,34,43,22,41])) #Sumamos los elementos de la primera lista, con los de la segunda 1:1"
      ],
      "metadata": {
        "colab": {
          "base_uri": "https://localhost:8080/"
        },
        "id": "CpbP-3YpsX-W",
        "outputId": "0dfd2cb7-d9c1-46b5-f0c1-2dbf792ca3b4"
      },
      "execution_count": 122,
      "outputs": [
        {
          "output_type": "execute_result",
          "data": {
            "text/plain": [
              "[63, 56, 56, 76, 66]"
            ]
          },
          "metadata": {},
          "execution_count": 122
        }
      ]
    },
    {
      "cell_type": "markdown",
      "metadata": {
        "id": "ZDnMTH-KcklT"
      },
      "source": [
        "**sorted()** takes a list or set and returns a new sorted list"
      ]
    },
    {
      "cell_type": "code",
      "metadata": {
        "colab": {
          "base_uri": "https://localhost:8080/"
        },
        "id": "P0sHUMFWO2PS",
        "outputId": "d86d8ac7-2498-4c88-b0b3-3519c051c05d"
      },
      "source": [
        "sorted([5,2,3,4,1])"
      ],
      "execution_count": 123,
      "outputs": [
        {
          "output_type": "execute_result",
          "data": {
            "text/plain": [
              "[1, 2, 3, 4, 5]"
            ]
          },
          "metadata": {},
          "execution_count": 123
        }
      ]
    },
    {
      "cell_type": "code",
      "source": [
        "sorted([2,4,-1,2,3,-2])"
      ],
      "metadata": {
        "colab": {
          "base_uri": "https://localhost:8080/"
        },
        "id": "lJUWss7isvTu",
        "outputId": "b9fdfc6f-b67a-476c-abad-9e849e67f7ce"
      },
      "execution_count": 124,
      "outputs": [
        {
          "output_type": "execute_result",
          "data": {
            "text/plain": [
              "[-2, -1, 2, 2, 3, 4]"
            ]
          },
          "metadata": {},
          "execution_count": 124
        }
      ]
    },
    {
      "cell_type": "markdown",
      "metadata": {
        "id": "-N5_EDOFcnsc"
      },
      "source": [
        "We can add a \"key\" parameter to specify a function to be called on each list element prior to making comparisons. For example:"
      ]
    },
    {
      "cell_type": "code",
      "metadata": {
        "colab": {
          "base_uri": "https://localhost:8080/"
        },
        "id": "0i3peZ0bO2PS",
        "outputId": "6f425e8d-6e17-42ee-ec2f-bfa8bceb84a5"
      },
      "source": [
        "price_list = [('AAPL',144.09),('GOOG',911.71),('MSFT',69),('FB',150),('WMT',75.32)]\n",
        "sorted(price_list, key = lambda x: x[1])"
      ],
      "execution_count": 125,
      "outputs": [
        {
          "output_type": "execute_result",
          "data": {
            "text/plain": [
              "[('MSFT', 69), ('WMT', 75.32), ('AAPL', 144.09), ('FB', 150), ('GOOG', 911.71)]"
            ]
          },
          "metadata": {},
          "execution_count": 125
        }
      ]
    },
    {
      "cell_type": "code",
      "source": [
        "listaPrecios = [('HYMC',12.2),('DOCU',11.21),('DIDI',34),('HYMC',12.3),('DIDI',12.4)]\n",
        "sorted(listaPrecios, key = lambda x: x[1])    #Ordenamos los elementos de Menor a Mayor"
      ],
      "metadata": {
        "id": "Jhp-Auefs6i8",
        "colab": {
          "base_uri": "https://localhost:8080/"
        },
        "outputId": "2cd2a300-3a85-4bf2-ac7f-6145e425dada"
      },
      "execution_count": 126,
      "outputs": [
        {
          "output_type": "execute_result",
          "data": {
            "text/plain": [
              "[('DOCU', 11.21), ('HYMC', 12.2), ('HYMC', 12.3), ('DIDI', 12.4), ('DIDI', 34)]"
            ]
          },
          "metadata": {},
          "execution_count": 126
        }
      ]
    },
    {
      "cell_type": "markdown",
      "metadata": {
        "id": "yun2zptKcxe_"
      },
      "source": [
        "By default the values are sorted by ascending order. We can change it to descending by adding an optional parameter \"reverse'."
      ]
    },
    {
      "cell_type": "code",
      "metadata": {
        "colab": {
          "base_uri": "https://localhost:8080/"
        },
        "id": "dEZqdl94O2PT",
        "outputId": "56d8255c-8b12-48f5-ab61-3b71b7242ecc"
      },
      "source": [
        "price_list = [('AAPL',144.09),('GOOG',911.71),('MSFT',69),('FB',150),('WMT',75.32)]\n",
        "sorted(price_list, key = lambda x: x[1],reverse = True)"
      ],
      "execution_count": 127,
      "outputs": [
        {
          "output_type": "execute_result",
          "data": {
            "text/plain": [
              "[('GOOG', 911.71), ('FB', 150), ('AAPL', 144.09), ('WMT', 75.32), ('MSFT', 69)]"
            ]
          },
          "metadata": {},
          "execution_count": 127
        }
      ]
    },
    {
      "cell_type": "code",
      "source": [
        "listaPrecios = [('HYMC',12.2),('DOCU',11.21),('DIDI',34),('HYMC',12.3),('DIDI',12.4)]\n",
        "sorted(listaPrecios, key = lambda x: x[1], reverse = True)  #Invertimos el ordenamiento para ser de Mayor a menor"
      ],
      "metadata": {
        "colab": {
          "base_uri": "https://localhost:8080/"
        },
        "id": "qIEniZPj4BWm",
        "outputId": "06ebb805-e857-4c23-e7f8-5bb599529626"
      },
      "execution_count": 128,
      "outputs": [
        {
          "output_type": "execute_result",
          "data": {
            "text/plain": [
              "[('DIDI', 34), ('DIDI', 12.4), ('HYMC', 12.3), ('HYMC', 12.2), ('DOCU', 11.21)]"
            ]
          },
          "metadata": {},
          "execution_count": 128
        }
      ]
    },
    {
      "cell_type": "markdown",
      "metadata": {
        "id": "OA2wYAa0c6Dn"
      },
      "source": [
        "Lists also have a function list.sort(). This function takes the same \"key\" and \"reverse\" arguments as sorted(), but it doesn't return a new list."
      ]
    },
    {
      "cell_type": "code",
      "metadata": {
        "colab": {
          "base_uri": "https://localhost:8080/"
        },
        "id": "pG9VQCLnO2PT",
        "outputId": "a8e879fc-f700-429c-aa42-3812e7b87771"
      },
      "source": [
        "price_list = [('AAPL',144.09),('GOOG',911.71),('MSFT',69),('FB',150),('WMT',75.32)]\n",
        "price_list.sort(key = lambda x: x[1])\n",
        "print(price_list)"
      ],
      "execution_count": 129,
      "outputs": [
        {
          "output_type": "stream",
          "name": "stdout",
          "text": [
            "[('MSFT', 69), ('WMT', 75.32), ('AAPL', 144.09), ('FB', 150), ('GOOG', 911.71)]\n"
          ]
        }
      ]
    },
    {
      "cell_type": "code",
      "source": [
        "listaPrecios = [('HYMC',12.2),('DOCU',11.21),('DIDI',34),('HYMC',12.3),('DIDI',12.4)]\n",
        "listaPrecios.sort(key = lambda x: x[1])   #el objeto de tipo lista trae internamente un método para ordenar la lista\n",
        "print(listaPrecios)"
      ],
      "metadata": {
        "colab": {
          "base_uri": "https://localhost:8080/"
        },
        "id": "f3ABAE1z4OFq",
        "outputId": "20d72b6e-b76f-4848-fe8e-e6d496e5de00"
      },
      "execution_count": 130,
      "outputs": [
        {
          "output_type": "stream",
          "name": "stdout",
          "text": [
            "[('DOCU', 11.21), ('HYMC', 12.2), ('HYMC', 12.3), ('DIDI', 12.4), ('DIDI', 34)]\n"
          ]
        }
      ]
    },
    {
      "cell_type": "markdown",
      "metadata": {
        "id": "mxljL1W1c_c5"
      },
      "source": [
        "# Object-Oriented Programming\n",
        "Python is an object-oriented programming language. It's important to understand the concept of \"objects\" because almost every kind of data from QuantConnect API is an object.\n",
        "\n",
        "## Class\n",
        "A class is a type of data, just like a string, float, or list. When we create an object of that data type, we call it an instance of a class.\n",
        "\n",
        "In Python, everything is an object - everything is an instance of some class. The data stored inside an object are called attributes, and the functions which are associated with the object are called methods.\n",
        "\n",
        "For example, as mentioned above, a list is an object of the \"list\" class, and it has a method list.sort().\n",
        "\n",
        "We can create our own objects by defining a class. We would do this when it's helpful to group certain functions together. For example, we define a class named \"Stock\" here:"
      ]
    },
    {
      "cell_type": "code",
      "metadata": {
        "id": "zC4Y4PgDO2PT"
      },
      "source": [
        "class stock:\n",
        "    def __init__(self, ticker, open, close, volume):\n",
        "        self.ticker = ticker\n",
        "        self.open = open\n",
        "        self.close = close\n",
        "        self.volume = volume\n",
        "        self.rate_return = float(close)/open - 1\n",
        " \n",
        "    def update(self, open, close):\n",
        "        self.open = open\n",
        "        self.close = close\n",
        "        self.rate_return = float(self.close)/self.open - 1\n",
        " \n",
        "    def print_return(self):\n",
        "        print(self.rate_return)"
      ],
      "execution_count": 131,
      "outputs": []
    },
    {
      "cell_type": "code",
      "source": [
        "class Carro:    #Creamos una clase carro\n",
        "    def __init__(self, marca, referencia, numPuertas):\n",
        "        self.marca = marca\n",
        "        self.referencia = referencia\n",
        "        self.numPuertas = numPuertas\n",
        "        self.llaves = False\n",
        "        self.cinturon = False\n",
        "        self.licencia = 0\n",
        "\n",
        "    def encenderVehiculo(self, llaves, cinturon, licencia): #definimos un método propio de la clase\n",
        "        self.llaves = llaves\n",
        "        self.cinturon = cinturon\n",
        "        self.licencia = licencia\n",
        "        if (self.llaves and self.cinturon and (self.licencia > 0)): \n",
        "          print(\"El carro ha encendido\")\n",
        "        else:\n",
        "          print(\"Upps... Falta Algo :c\")"
      ],
      "metadata": {
        "id": "Rv7i2IhQ_PFR"
      },
      "execution_count": 132,
      "outputs": []
    },
    {
      "cell_type": "markdown",
      "metadata": {
        "id": "rV06INT5dETi"
      },
      "source": [
        "The \"Stock\" class has attributes \"ticker\", \"open\", \"close\", \"volume\" and \"rate_return\". Inside the class body, the first method is called __init__, which is a special method. When we create a new instance of the class, the __init__ method is immediately executed with all the parameters that we pass to the \"Stock\" object. The purpose of this method is to set up a new \"Stock\" object using data we have provided.\n",
        "\n",
        "Here we create two Stock objects named \"apple\" and \"google\"."
      ]
    },
    {
      "cell_type": "code",
      "metadata": {
        "id": "8tIpNk93O2PU"
      },
      "source": [
        "apple = stock('AAPL', 143.69, 144.09, 20109375)\n",
        "google = stock('GOOG', 898.7, 911.7, 1561616)"
      ],
      "execution_count": 133,
      "outputs": []
    },
    {
      "cell_type": "code",
      "source": [
        "cSpark = Carro(\"Chevrolet\", \"Spark\", 4)\n",
        "nLeaf = Carro(\"Nissan\", \"Leaf\", 4)"
      ],
      "metadata": {
        "id": "kOJwfOYRASuE"
      },
      "execution_count": 134,
      "outputs": []
    },
    {
      "cell_type": "markdown",
      "metadata": {
        "id": "VxmELNiHdPKS"
      },
      "source": [
        "Stock objects also have two other methods: update() and print_return(). We can access the attribues of a Stock object and call its methods:"
      ]
    },
    {
      "cell_type": "code",
      "metadata": {
        "colab": {
          "base_uri": "https://localhost:8080/"
        },
        "id": "SsiIkmekO2PU",
        "outputId": "dd948c67-7840-4910-c53e-caf2b2725e71"
      },
      "source": [
        "apple.ticker\n",
        "google.print_return()\n",
        "google.update(912.8,913.4)\n",
        "google.print_return()"
      ],
      "execution_count": 135,
      "outputs": [
        {
          "output_type": "stream",
          "name": "stdout",
          "text": [
            "0.014465338822744034\n",
            "0.0006573181419806673\n"
          ]
        }
      ]
    },
    {
      "cell_type": "code",
      "source": [
        "cSpark.encenderVehiculo(True, True, 1123122)\n",
        "nLeaf.encenderVehiculo(False, True, 21312342)"
      ],
      "metadata": {
        "colab": {
          "base_uri": "https://localhost:8080/"
        },
        "id": "g4lLO5-Ggpe7",
        "outputId": "ec417fc0-5109-4982-c235-f8bd565d7948"
      },
      "execution_count": 136,
      "outputs": [
        {
          "output_type": "stream",
          "name": "stdout",
          "text": [
            "El carro ha encendido\n",
            "Upps... Falta Algo :c\n"
          ]
        }
      ]
    },
    {
      "cell_type": "markdown",
      "metadata": {
        "id": "Q8fl7keNdVKF"
      },
      "source": [
        "By calling the update() function, we updated the open and close prices of a stock. Please note that when we use the attributes or call the methods **inside a class**, we need to specify them as self.attribute or self.method(), otherwise Python will deem them as global variables and thus raise an error.\n",
        "\n",
        "We can add an attribute to an object anywhere:"
      ]
    },
    {
      "cell_type": "code",
      "metadata": {
        "colab": {
          "base_uri": "https://localhost:8080/",
          "height": 35
        },
        "id": "rO4OLnqOO2PU",
        "outputId": "a2b497da-e584-4dd1-bc6c-0b7d9e42e4d1"
      },
      "source": [
        "apple.ceo = 'Tim Cook'\n",
        "apple.ceo"
      ],
      "execution_count": 137,
      "outputs": [
        {
          "output_type": "execute_result",
          "data": {
            "text/plain": [
              "'Tim Cook'"
            ],
            "application/vnd.google.colaboratory.intrinsic+json": {
              "type": "string"
            }
          },
          "metadata": {},
          "execution_count": 137
        }
      ]
    },
    {
      "cell_type": "code",
      "source": [
        "nLeaf.licencia = \"15555552\"\n",
        "nLeaf.licencia"
      ],
      "metadata": {
        "colab": {
          "base_uri": "https://localhost:8080/",
          "height": 35
        },
        "id": "AVw8rUSBksCt",
        "outputId": "07ae6e6e-04d8-4a82-b4d0-4c2c057de645"
      },
      "execution_count": 138,
      "outputs": [
        {
          "output_type": "execute_result",
          "data": {
            "text/plain": [
              "'15555552'"
            ],
            "application/vnd.google.colaboratory.intrinsic+json": {
              "type": "string"
            }
          },
          "metadata": {},
          "execution_count": 138
        }
      ]
    },
    {
      "cell_type": "markdown",
      "metadata": {
        "id": "WyfnFgVidh4J"
      },
      "source": [
        "We can check what names (i.e. attributes and methods) are defined on an object using the dir() function:"
      ]
    },
    {
      "cell_type": "code",
      "metadata": {
        "colab": {
          "base_uri": "https://localhost:8080/"
        },
        "id": "pPoz0LA8O2PU",
        "outputId": "c40e6d21-1718-4af3-8139-6506a6c7c318"
      },
      "source": [
        "dir(apple)"
      ],
      "execution_count": 139,
      "outputs": [
        {
          "output_type": "execute_result",
          "data": {
            "text/plain": [
              "['__class__',\n",
              " '__delattr__',\n",
              " '__dict__',\n",
              " '__dir__',\n",
              " '__doc__',\n",
              " '__eq__',\n",
              " '__format__',\n",
              " '__ge__',\n",
              " '__getattribute__',\n",
              " '__gt__',\n",
              " '__hash__',\n",
              " '__init__',\n",
              " '__init_subclass__',\n",
              " '__le__',\n",
              " '__lt__',\n",
              " '__module__',\n",
              " '__ne__',\n",
              " '__new__',\n",
              " '__reduce__',\n",
              " '__reduce_ex__',\n",
              " '__repr__',\n",
              " '__setattr__',\n",
              " '__sizeof__',\n",
              " '__str__',\n",
              " '__subclasshook__',\n",
              " '__weakref__',\n",
              " 'ceo',\n",
              " 'close',\n",
              " 'open',\n",
              " 'print_return',\n",
              " 'rate_return',\n",
              " 'ticker',\n",
              " 'update',\n",
              " 'volume']"
            ]
          },
          "metadata": {},
          "execution_count": 139
        }
      ]
    },
    {
      "cell_type": "code",
      "source": [
        "dir(nLeaf)"
      ],
      "metadata": {
        "colab": {
          "base_uri": "https://localhost:8080/"
        },
        "id": "LNiHpq8ylJK7",
        "outputId": "0807409e-04f5-4f87-a31c-c8996067c3c2"
      },
      "execution_count": 140,
      "outputs": [
        {
          "output_type": "execute_result",
          "data": {
            "text/plain": [
              "['__class__',\n",
              " '__delattr__',\n",
              " '__dict__',\n",
              " '__dir__',\n",
              " '__doc__',\n",
              " '__eq__',\n",
              " '__format__',\n",
              " '__ge__',\n",
              " '__getattribute__',\n",
              " '__gt__',\n",
              " '__hash__',\n",
              " '__init__',\n",
              " '__init_subclass__',\n",
              " '__le__',\n",
              " '__lt__',\n",
              " '__module__',\n",
              " '__ne__',\n",
              " '__new__',\n",
              " '__reduce__',\n",
              " '__reduce_ex__',\n",
              " '__repr__',\n",
              " '__setattr__',\n",
              " '__sizeof__',\n",
              " '__str__',\n",
              " '__subclasshook__',\n",
              " '__weakref__',\n",
              " 'cinturon',\n",
              " 'encenderVehiculo',\n",
              " 'licencia',\n",
              " 'llaves',\n",
              " 'marca',\n",
              " 'numPuertas',\n",
              " 'referencia']"
            ]
          },
          "metadata": {},
          "execution_count": 140
        }
      ]
    },
    {
      "cell_type": "markdown",
      "metadata": {
        "id": "Qpemj1UZd2aa"
      },
      "source": [
        "## Inheritance\n",
        "Inheritance is a way of arranging classes in a hierarchy from the most general to the most specific. A \"child\" class is a more specific type of a \"parent\" class because a child class will inherit all the attribues and methods of its parent. For example, we define a class named \"Child\" which inherits \"Stock\":"
      ]
    },
    {
      "cell_type": "code",
      "metadata": {
        "id": "UELXnxomO2PV"
      },
      "source": [
        "class child(stock):\n",
        "    def __init__(self,name):\n",
        "        self.name = name"
      ],
      "execution_count": 141,
      "outputs": []
    },
    {
      "cell_type": "code",
      "metadata": {
        "colab": {
          "base_uri": "https://localhost:8080/"
        },
        "id": "ffS2THZyO2PV",
        "outputId": "9ef0ca93-ced4-4ec8-a87d-22b06d60ffe9"
      },
      "source": [
        "aa = child('aa')\n",
        "print(aa.name)\n",
        "aa.update(100,102)\n",
        "print(aa.open)\n",
        "print(aa.close)\n",
        "print(aa.print_return())"
      ],
      "execution_count": 142,
      "outputs": [
        {
          "output_type": "stream",
          "name": "stdout",
          "text": [
            "aa\n",
            "100\n",
            "102\n",
            "0.020000000000000018\n",
            "None\n"
          ]
        }
      ]
    },
    {
      "cell_type": "code",
      "source": [
        "class Recolector(Carro):\n",
        "    def __init__(self, marca, referencia, numPuertas, tonelajeSopor):\n",
        "        self.tonelajeSopor=tonelajeSopor\n",
        "        super().__init__(marca, referencia, numPuertas)"
      ],
      "metadata": {
        "id": "03W2s03mmL2Q"
      },
      "execution_count": 143,
      "outputs": []
    },
    {
      "cell_type": "code",
      "source": [
        "compactador = Recolector(\"BMW\", \"P231\", 2, 5)\n",
        "print(compactador.tonelajeSopor)\n",
        "print(compactador.marca)\n",
        "compactador.encenderVehiculo(True,True,12221212)"
      ],
      "metadata": {
        "colab": {
          "base_uri": "https://localhost:8080/"
        },
        "id": "kG7M3lc2meQO",
        "outputId": "6df0f54c-831a-4e6e-b9fd-6229f30c95b9"
      },
      "execution_count": 144,
      "outputs": [
        {
          "output_type": "stream",
          "name": "stdout",
          "text": [
            "5\n",
            "BMW\n",
            "El carro ha encendido\n"
          ]
        }
      ]
    },
    {
      "cell_type": "markdown",
      "metadata": {
        "id": "pdIEjUv2eJqL"
      },
      "source": [
        "As seen above, the new class Child has inherited the methods from Stock.\n",
        "\n",
        "#Summary\n",
        "\n",
        "In this chapter we have introduced functions and classes. When we write a QuantConnect algorithm, we would define our algorithm as a class (QCAlgorithm). This means our algorithm inherited the QC API methods from QCAlgorithm class.\n",
        "\n",
        "In the next chapter, we will introduce NumPy and Pandas, which enable us to conduct scientific calculations in Python."
      ]
    },
    {
      "cell_type": "markdown",
      "metadata": {
        "id": "dQbENH6mexTd"
      },
      "source": [
        "<div align=\"center\">\n",
        "<img style=\"display: block; margin: auto;\" alt=\"photo\" src=\"https://cdn.quantconnect.com/web/i/icon.png\">\n",
        "\n",
        "Quantconnect\n",
        "\n",
        "Introduction to Financial Python\n",
        "</div>\n",
        "\n",
        "# 04 NumPy and Basic Pandas\n",
        "\n",
        "# Introduction\n",
        "\n",
        "Now that we have introduced the fundamentals of Python, it's time to learn about NumPy and Pandas.\n",
        "\n",
        "# NumPy\n",
        "NumPy is the core library for scientific computing in Python. It provides a high-performance multidimensional array object, and tools for working with these arrays. It also has strong integration with Pandas, which is another powerful tool for manipulating financial data.\n",
        "\n",
        "Python packages like NumPy and Pandas contain classes and methods which we can use by importing the package:"
      ]
    },
    {
      "cell_type": "code",
      "metadata": {
        "id": "aIESp-rdO58h"
      },
      "source": [
        "import numpy as np"
      ],
      "execution_count": 145,
      "outputs": []
    },
    {
      "cell_type": "markdown",
      "metadata": {
        "id": "GScHHJ5ke7ea"
      },
      "source": [
        "## Basic NumPy Arrays\n",
        "A NumPy array is a grid of values, all of the same type, and is indexed by a tuple of nonnegative integers. Here we make an array by passing a list of Apple stock prices:"
      ]
    },
    {
      "cell_type": "code",
      "metadata": {
        "colab": {
          "base_uri": "https://localhost:8080/"
        },
        "id": "lZI1wkwDO58i",
        "outputId": "a646a8a0-e86e-4dbc-da18-e4e6b9f5401a"
      },
      "source": [
        "price_list = [143.73, 145.83, 143.68, 144.02, 143.5, 142.62]\n",
        "price_array = np.array(price_list)\n",
        "print(price_array, type(price_array))"
      ],
      "execution_count": 146,
      "outputs": [
        {
          "output_type": "stream",
          "name": "stdout",
          "text": [
            "[143.73 145.83 143.68 144.02 143.5  142.62] <class 'numpy.ndarray'>\n"
          ]
        }
      ]
    },
    {
      "cell_type": "code",
      "source": [
        "listaPrecios = [12.3, 2312.1, 432.2, 756.2, 32.4, 122.3, 213.2]\n",
        "arrayPrecios = np.array(listaPrecios)   #Hacemos un cast de <list> a <np.array>\n",
        "print(arrayPrecios, type(arrayPrecios))"
      ],
      "metadata": {
        "colab": {
          "base_uri": "https://localhost:8080/"
        },
        "id": "KXDQzeQKoEoW",
        "outputId": "93e7c694-dcf4-4a21-901c-6896d33896ac"
      },
      "execution_count": 147,
      "outputs": [
        {
          "output_type": "stream",
          "name": "stdout",
          "text": [
            "[  12.3 2312.1  432.2  756.2   32.4  122.3  213.2] <class 'numpy.ndarray'>\n"
          ]
        }
      ]
    },
    {
      "cell_type": "markdown",
      "metadata": {
        "id": "-5Yj6u9ifB-t"
      },
      "source": [
        "Notice that the type of array is \"ndarray\" which is a multi-dimensional array. If we pass np.array() a list of lists, it will create a 2-dimensional array."
      ]
    },
    {
      "cell_type": "code",
      "metadata": {
        "colab": {
          "base_uri": "https://localhost:8080/"
        },
        "id": "obvIZrK-O58j",
        "outputId": "83e5d59a-71f5-45f3-b4a7-efc3ba26b10c"
      },
      "source": [
        "Ar = np.array([[1,3],[2,4]])\n",
        "print(Ar, type(Ar))"
      ],
      "execution_count": 148,
      "outputs": [
        {
          "output_type": "stream",
          "name": "stdout",
          "text": [
            "[[1 3]\n",
            " [2 4]] <class 'numpy.ndarray'>\n"
          ]
        }
      ]
    },
    {
      "cell_type": "code",
      "source": [
        "matriz = np.array([[1, 0, 0], [0, 1, 2], [0, 0, 1]])  #creamos una matriz definiendo cada fila como una lista de listas\n",
        "print(matriz, type(matriz))"
      ],
      "metadata": {
        "colab": {
          "base_uri": "https://localhost:8080/"
        },
        "id": "2XDSa_8Fo4h4",
        "outputId": "cc925249-522e-435d-ae01-bc72b45690b0"
      },
      "execution_count": 149,
      "outputs": [
        {
          "output_type": "stream",
          "name": "stdout",
          "text": [
            "[[1 0 0]\n",
            " [0 1 2]\n",
            " [0 0 1]] <class 'numpy.ndarray'>\n"
          ]
        }
      ]
    },
    {
      "cell_type": "markdown",
      "metadata": {
        "id": "uDdfLD9HfHkl"
      },
      "source": [
        "We get the dimensions of an ndarray using the .shape attribute:"
      ]
    },
    {
      "cell_type": "code",
      "metadata": {
        "colab": {
          "base_uri": "https://localhost:8080/"
        },
        "id": "G2txdn73O58j",
        "outputId": "b9c1e7d8-6f7b-4e4b-8806-0b7f849d8efb"
      },
      "source": [
        "print(Ar.shape)"
      ],
      "execution_count": 150,
      "outputs": [
        {
          "output_type": "stream",
          "name": "stdout",
          "text": [
            "(2, 2)\n"
          ]
        }
      ]
    },
    {
      "cell_type": "code",
      "source": [
        "print(matriz.shape) #Obtenemos las dimensiones de la matriz"
      ],
      "metadata": {
        "colab": {
          "base_uri": "https://localhost:8080/"
        },
        "id": "pdx7XdWppLYr",
        "outputId": "5ce1778b-e7e4-4bf6-c8ce-b5a3d2c3026e"
      },
      "execution_count": 151,
      "outputs": [
        {
          "output_type": "stream",
          "name": "stdout",
          "text": [
            "(3, 3)\n"
          ]
        }
      ]
    },
    {
      "cell_type": "markdown",
      "metadata": {
        "id": "87W5ueORfPEy"
      },
      "source": [
        "If we create an 2-dimensional array (i.e. matrix), each row can be accessed by index:"
      ]
    },
    {
      "cell_type": "code",
      "metadata": {
        "colab": {
          "base_uri": "https://localhost:8080/"
        },
        "id": "x_QV9aPbO58j",
        "outputId": "25aa85d9-7edf-4383-acc9-4692f944e783"
      },
      "source": [
        "print(Ar[0])\n",
        "print(Ar[1])"
      ],
      "execution_count": 152,
      "outputs": [
        {
          "output_type": "stream",
          "name": "stdout",
          "text": [
            "[1 3]\n",
            "[2 4]\n"
          ]
        }
      ]
    },
    {
      "cell_type": "code",
      "source": [
        "print(matriz[1, 2])     #Posicion (i,j) de la matriz (fila, columna)"
      ],
      "metadata": {
        "colab": {
          "base_uri": "https://localhost:8080/"
        },
        "id": "18OH4FCQpVjR",
        "outputId": "965871dd-84b1-4359-fe98-ff606d2d701e"
      },
      "execution_count": 153,
      "outputs": [
        {
          "output_type": "stream",
          "name": "stdout",
          "text": [
            "2\n"
          ]
        }
      ]
    },
    {
      "cell_type": "markdown",
      "metadata": {
        "id": "5Hke7Vt-fSGB"
      },
      "source": [
        "If we want to access the matrix by column instead:"
      ]
    },
    {
      "cell_type": "code",
      "metadata": {
        "colab": {
          "base_uri": "https://localhost:8080/"
        },
        "id": "gHVwbPfOO58j",
        "outputId": "3c18704a-6ae3-4a58-a5ce-213e6e33c6dd"
      },
      "source": [
        "print('the first column: ', Ar[:,0])\n",
        "print('the second column: ', Ar[:,1])"
      ],
      "execution_count": 154,
      "outputs": [
        {
          "output_type": "stream",
          "name": "stdout",
          "text": [
            "the first column:  [1 2]\n",
            "the second column:  [3 4]\n"
          ]
        }
      ]
    },
    {
      "cell_type": "code",
      "source": [
        "print(\"Primera Fila: \", matriz[0,:])  #El : nos indica \"all\"\n",
        "print(\"Ultima Columna: \", matriz[:,2])"
      ],
      "metadata": {
        "colab": {
          "base_uri": "https://localhost:8080/"
        },
        "id": "sybb0ZvTp7nq",
        "outputId": "7ff5e1ed-a11a-4a57-e29a-c54a3a6296d1"
      },
      "execution_count": 155,
      "outputs": [
        {
          "output_type": "stream",
          "name": "stdout",
          "text": [
            "Primera Fila:  [1 0 0]\n",
            "Ultima Columna:  [0 2 1]\n"
          ]
        }
      ]
    },
    {
      "cell_type": "markdown",
      "metadata": {
        "id": "T61cD0HMfStB"
      },
      "source": [
        "## Array Functions\n",
        "Some functions built in NumPy that allow us to perform calculations on arrays. For example, we can apply the natural logarithm to each element of an array:"
      ]
    },
    {
      "cell_type": "code",
      "metadata": {
        "colab": {
          "base_uri": "https://localhost:8080/"
        },
        "id": "PKhwtJ7XO58k",
        "outputId": "a456b66e-79bd-45a6-db68-1481be92b118"
      },
      "source": [
        "print(np.log(price_array))"
      ],
      "execution_count": 156,
      "outputs": [
        {
          "output_type": "stream",
          "name": "stdout",
          "text": [
            "[4.96793654 4.98244156 4.9675886  4.96995218 4.96633504 4.96018375]\n"
          ]
        }
      ]
    },
    {
      "cell_type": "code",
      "source": [
        "print(np.log(arrayPrecios)) #Obtenemos el log_10 de cada elemento del arreglo de precios"
      ],
      "metadata": {
        "colab": {
          "base_uri": "https://localhost:8080/"
        },
        "id": "AZfj796qqRNK",
        "outputId": "80d6479b-8d40-4817-b9a8-2cbf2610cf9b"
      },
      "execution_count": 157,
      "outputs": [
        {
          "output_type": "stream",
          "name": "stdout",
          "text": [
            "[2.50959926 7.74591148 6.06888844 6.62830589 3.47815842 4.80647704\n",
            " 5.36223069]\n"
          ]
        }
      ]
    },
    {
      "cell_type": "markdown",
      "metadata": {
        "id": "uzjBRFBLfZ-D"
      },
      "source": [
        "Other functions return a single value:"
      ]
    },
    {
      "cell_type": "code",
      "metadata": {
        "colab": {
          "base_uri": "https://localhost:8080/"
        },
        "id": "nQuABZqUO58k",
        "outputId": "04ecb3eb-00dd-4761-cba1-ca008fbde1c2"
      },
      "source": [
        "print(np.mean(price_array))\n",
        "print(np.std(price_array))\n",
        "print(np.sum(price_array))\n",
        "print(np.max(price_array))"
      ],
      "execution_count": 158,
      "outputs": [
        {
          "output_type": "stream",
          "name": "stdout",
          "text": [
            "143.89666666666668\n",
            "0.9673790478515796\n",
            "863.38\n",
            "145.83\n"
          ]
        }
      ]
    },
    {
      "cell_type": "code",
      "source": [
        "print(np.mean(arrayPrecios))    #Media de los elementos del arreglo de precios\n",
        "print(np.std(arrayPrecios))     #Desviación estandar del \" \"\n",
        "print(np.sum(arrayPrecios))     #Suma de los elementos del \" \"\n",
        "print(np.max(arrayPrecios))     #Devuelve el elemento mayor del \" \""
      ],
      "metadata": {
        "colab": {
          "base_uri": "https://localhost:8080/"
        },
        "id": "BjkAsd8Aqnxf",
        "outputId": "8e51a19a-955a-422c-cd0e-ef233c48539e"
      },
      "execution_count": 159,
      "outputs": [
        {
          "output_type": "stream",
          "name": "stdout",
          "text": [
            "554.3857142857144\n",
            "757.3119406890427\n",
            "3880.7000000000003\n",
            "2312.1\n"
          ]
        }
      ]
    },
    {
      "cell_type": "markdown",
      "metadata": {
        "id": "IRW95BsifgDB"
      },
      "source": [
        "The functions above return the mean, standard deviation, total and maximum value of an array.\n",
        "\n",
        "# Pandas\n",
        "Pandas is one of the most powerful tools for dealing with financial data. \n",
        "\n",
        "First we need to import Pandas:"
      ]
    },
    {
      "cell_type": "code",
      "metadata": {
        "id": "xIYH4oUfO58k"
      },
      "source": [
        "import pandas as pd"
      ],
      "execution_count": 160,
      "outputs": []
    },
    {
      "cell_type": "markdown",
      "metadata": {
        "id": "zOig5gORfnJU"
      },
      "source": [
        "## Series\n",
        "Series is a one-dimensional labeled array capable of holding any data type (integers, strings, float, Python object, etc.)\n",
        "\n",
        "We create a Series by calling pd.Series(data), where data can be a dictionary, an array or just a scalar value."
      ]
    },
    {
      "cell_type": "code",
      "metadata": {
        "colab": {
          "base_uri": "https://localhost:8080/"
        },
        "id": "JmzoNzrPO58k",
        "outputId": "bcd8e6fe-cbf4-45c7-a42d-361e48d0dc6f"
      },
      "source": [
        "price = [143.73, 145.83, 143.68, 144.02, 143.5, 142.62]\n",
        "s = pd.Series(price)\n",
        "s"
      ],
      "execution_count": 161,
      "outputs": [
        {
          "output_type": "execute_result",
          "data": {
            "text/plain": [
              "0    143.73\n",
              "1    145.83\n",
              "2    143.68\n",
              "3    144.02\n",
              "4    143.50\n",
              "5    142.62\n",
              "dtype: float64"
            ]
          },
          "metadata": {},
          "execution_count": 161
        }
      ]
    },
    {
      "cell_type": "code",
      "source": [
        "precios = [12.3, 2312.1, 432.2, 756.2, 32.4, 122.3, 213.2]\n",
        "w = pd.Series(precios)    #Serializamos los elementos de la lista de precios\n",
        "w"
      ],
      "metadata": {
        "colab": {
          "base_uri": "https://localhost:8080/"
        },
        "id": "OdcGnB8GrEMH",
        "outputId": "05f7f76e-5ab9-4b81-f9a9-8272771e5168"
      },
      "execution_count": 172,
      "outputs": [
        {
          "output_type": "execute_result",
          "data": {
            "text/plain": [
              "0      12.3\n",
              "1    2312.1\n",
              "2     432.2\n",
              "3     756.2\n",
              "4      32.4\n",
              "5     122.3\n",
              "6     213.2\n",
              "dtype: float64"
            ]
          },
          "metadata": {},
          "execution_count": 172
        }
      ]
    },
    {
      "cell_type": "markdown",
      "metadata": {
        "id": "tP5iDnunfq46"
      },
      "source": [
        "We can customize the indices of a new Series:"
      ]
    },
    {
      "cell_type": "code",
      "metadata": {
        "colab": {
          "base_uri": "https://localhost:8080/"
        },
        "id": "eswQC3ZPO58l",
        "outputId": "da7eb7d6-ba45-43a3-8721-82fe8bc690a9"
      },
      "source": [
        "s = pd.Series(price,index = ['a','b','c','d','e','f'])\n",
        "s"
      ],
      "execution_count": 163,
      "outputs": [
        {
          "output_type": "execute_result",
          "data": {
            "text/plain": [
              "a    143.73\n",
              "b    145.83\n",
              "c    143.68\n",
              "d    144.02\n",
              "e    143.50\n",
              "f    142.62\n",
              "dtype: float64"
            ]
          },
          "metadata": {},
          "execution_count": 163
        }
      ]
    },
    {
      "cell_type": "code",
      "source": [
        "w = pd.Series(precios, index=['a','b','c','d','e','f','g']) #Podemos personalizar el conteo\n",
        "w"
      ],
      "metadata": {
        "colab": {
          "base_uri": "https://localhost:8080/"
        },
        "id": "ENtwTnMJrWmh",
        "outputId": "8a6ff7c2-7ac6-407f-c93e-74891017fd49"
      },
      "execution_count": 164,
      "outputs": [
        {
          "output_type": "execute_result",
          "data": {
            "text/plain": [
              "a      12.3\n",
              "b    2312.1\n",
              "c     432.2\n",
              "d     756.2\n",
              "e      32.4\n",
              "f     122.3\n",
              "g     213.2\n",
              "dtype: float64"
            ]
          },
          "metadata": {},
          "execution_count": 164
        }
      ]
    },
    {
      "cell_type": "markdown",
      "metadata": {
        "id": "wdZrb8pEfuua"
      },
      "source": [
        "Or we can change the indices of an existing Series:"
      ]
    },
    {
      "cell_type": "code",
      "metadata": {
        "colab": {
          "base_uri": "https://localhost:8080/"
        },
        "id": "MwlRnPF6O58l",
        "outputId": "66146d92-e646-44df-9641-a7fa5528aa44"
      },
      "source": [
        "s.index = [6,5,4,3,2,1]\n",
        "s"
      ],
      "execution_count": 165,
      "outputs": [
        {
          "output_type": "execute_result",
          "data": {
            "text/plain": [
              "6    143.73\n",
              "5    145.83\n",
              "4    143.68\n",
              "3    144.02\n",
              "2    143.50\n",
              "1    142.62\n",
              "dtype: float64"
            ]
          },
          "metadata": {},
          "execution_count": 165
        }
      ]
    },
    {
      "cell_type": "code",
      "source": [
        "w.index = ['w', 'x', 'e', 'r', 'w', 'a', 1] #Tan personalizable es, que podemos incluso poner el objeto que deseemos\n",
        "w"
      ],
      "metadata": {
        "colab": {
          "base_uri": "https://localhost:8080/"
        },
        "id": "KxdY9OsqsC8m",
        "outputId": "377e9269-d6ef-4f5c-e5c4-16b3bd94e6f5"
      },
      "execution_count": 166,
      "outputs": [
        {
          "output_type": "execute_result",
          "data": {
            "text/plain": [
              "w      12.3\n",
              "x    2312.1\n",
              "e     432.2\n",
              "r     756.2\n",
              "w      32.4\n",
              "a     122.3\n",
              "1     213.2\n",
              "dtype: float64"
            ]
          },
          "metadata": {},
          "execution_count": 166
        }
      ]
    },
    {
      "cell_type": "markdown",
      "metadata": {
        "id": "6cGNQZwLfxIz"
      },
      "source": [
        "Series is like a list since it can be sliced by index:"
      ]
    },
    {
      "cell_type": "code",
      "metadata": {
        "colab": {
          "base_uri": "https://localhost:8080/"
        },
        "id": "N9bBSg6cO58l",
        "outputId": "03d834f1-6067-4303-e6c8-0ca89eab8814"
      },
      "source": [
        "print(s[1:])\n",
        "print(s[:-2])"
      ],
      "execution_count": 167,
      "outputs": [
        {
          "output_type": "stream",
          "name": "stdout",
          "text": [
            "5    145.83\n",
            "4    143.68\n",
            "3    144.02\n",
            "2    143.50\n",
            "1    142.62\n",
            "dtype: float64\n",
            "6    143.73\n",
            "5    145.83\n",
            "4    143.68\n",
            "3    144.02\n",
            "dtype: float64\n"
          ]
        }
      ]
    },
    {
      "cell_type": "code",
      "source": [
        "print(w[2:])    #Imprimimos del Índice 2 en adelante\n",
        "print(w[:-4])   #Im´rimimos todos menos los últimos 4 elementos"
      ],
      "metadata": {
        "colab": {
          "base_uri": "https://localhost:8080/"
        },
        "id": "yCKZkll4ucAP",
        "outputId": "91933d18-6cac-46f6-b67c-e7a129c30065"
      },
      "execution_count": 168,
      "outputs": [
        {
          "output_type": "stream",
          "name": "stdout",
          "text": [
            "e    432.2\n",
            "r    756.2\n",
            "w     32.4\n",
            "a    122.3\n",
            "1    213.2\n",
            "dtype: float64\n",
            "w      12.3\n",
            "x    2312.1\n",
            "e     432.2\n",
            "dtype: float64\n"
          ]
        }
      ]
    },
    {
      "cell_type": "markdown",
      "metadata": {
        "id": "5V25nViZfz3Z"
      },
      "source": [
        "Series is also like a dictionary whose values can be set or fetched by index label:"
      ]
    },
    {
      "cell_type": "code",
      "metadata": {
        "colab": {
          "base_uri": "https://localhost:8080/"
        },
        "id": "b3Y0kKGYO58l",
        "outputId": "1d99c7fe-ce85-49c2-cd1f-9118beb6dc4f"
      },
      "source": [
        "print(s[4])\n",
        "s[4] = 0\n",
        "print(s)"
      ],
      "execution_count": 169,
      "outputs": [
        {
          "output_type": "stream",
          "name": "stdout",
          "text": [
            "143.68\n",
            "6    143.73\n",
            "5    145.83\n",
            "4      0.00\n",
            "3    144.02\n",
            "2    143.50\n",
            "1    142.62\n",
            "dtype: float64\n"
          ]
        }
      ]
    },
    {
      "cell_type": "code",
      "source": [
        "print(w[3])\n",
        "w[3] = \"Hola\"\n",
        "print(w)"
      ],
      "metadata": {
        "colab": {
          "base_uri": "https://localhost:8080/"
        },
        "id": "8wSvjTJLuzNO",
        "outputId": "704549e8-fb9c-45f7-d641-2b1a3a68eef1"
      },
      "execution_count": 173,
      "outputs": [
        {
          "output_type": "stream",
          "name": "stdout",
          "text": [
            "756.2\n",
            "0      12.3\n",
            "1    2312.1\n",
            "2     432.2\n",
            "3      Hola\n",
            "4      32.4\n",
            "5     122.3\n",
            "6     213.2\n",
            "dtype: object\n"
          ]
        }
      ]
    },
    {
      "cell_type": "markdown",
      "metadata": {
        "id": "RQ1P7Gkyf060"
      },
      "source": [
        "Series can also have a name attribute, which will be used when we make up a Pandas DataFrame using several series."
      ]
    },
    {
      "cell_type": "code",
      "metadata": {
        "colab": {
          "base_uri": "https://localhost:8080/"
        },
        "id": "ZeD4-p7KO58m",
        "outputId": "a178bcfe-30d5-4296-8a93-c788d25f6ef9"
      },
      "source": [
        "s = pd.Series(price, name = 'Apple Price List')\n",
        "print(s)\n",
        "print(s.name)"
      ],
      "execution_count": 174,
      "outputs": [
        {
          "output_type": "stream",
          "name": "stdout",
          "text": [
            "0    143.73\n",
            "1    145.83\n",
            "2    143.68\n",
            "3    144.02\n",
            "4    143.50\n",
            "5    142.62\n",
            "Name: Apple Price List, dtype: float64\n",
            "Apple Price List\n"
          ]
        }
      ]
    },
    {
      "cell_type": "code",
      "source": [
        "w = pd.Series(precios, name = 'Lista de Precios de Didi')   #Le asignamos un nombre a la Serie\n",
        "print(w)\n",
        "print(w.name)"
      ],
      "metadata": {
        "colab": {
          "base_uri": "https://localhost:8080/"
        },
        "id": "P1Dkzo4iycs6",
        "outputId": "2e8460f9-3e30-4a3d-8e02-82de5927a78b"
      },
      "execution_count": 175,
      "outputs": [
        {
          "output_type": "stream",
          "name": "stdout",
          "text": [
            "0      12.3\n",
            "1    2312.1\n",
            "2     432.2\n",
            "3     756.2\n",
            "4      32.4\n",
            "5     122.3\n",
            "6     213.2\n",
            "Name: Lista de Precios de Didi, dtype: float64\n",
            "Lista de Precios de Didi\n"
          ]
        }
      ]
    },
    {
      "cell_type": "markdown",
      "metadata": {
        "id": "geJb1pGHf5Et"
      },
      "source": [
        "We can get the statistical summaries of a Series:"
      ]
    },
    {
      "cell_type": "code",
      "metadata": {
        "colab": {
          "base_uri": "https://localhost:8080/"
        },
        "id": "mGPtFcjegm4i",
        "outputId": "5206d55c-d95c-4d2d-e4c0-65499dd14324"
      },
      "source": [
        "print(s.describe())"
      ],
      "execution_count": 176,
      "outputs": [
        {
          "output_type": "stream",
          "name": "stdout",
          "text": [
            "count      6.000000\n",
            "mean     143.896667\n",
            "std        1.059711\n",
            "min      142.620000\n",
            "25%      143.545000\n",
            "50%      143.705000\n",
            "75%      143.947500\n",
            "max      145.830000\n",
            "Name: Apple Price List, dtype: float64\n"
          ]
        }
      ]
    },
    {
      "cell_type": "code",
      "source": [
        "print(w.describe()) #Un método útil para obtener estadísticas básicas de una serie de números"
      ],
      "metadata": {
        "colab": {
          "base_uri": "https://localhost:8080/"
        },
        "id": "HTYhtejwyvCR",
        "outputId": "a30eac89-22d8-4455-cb7c-6e122a26c2b3"
      },
      "execution_count": 177,
      "outputs": [
        {
          "output_type": "stream",
          "name": "stdout",
          "text": [
            "count       7.000000\n",
            "mean      554.385714\n",
            "std       817.990386\n",
            "min        12.300000\n",
            "25%        77.350000\n",
            "50%       213.200000\n",
            "75%       594.200000\n",
            "max      2312.100000\n",
            "Name: Lista de Precios de Didi, dtype: float64\n"
          ]
        }
      ]
    },
    {
      "cell_type": "markdown",
      "metadata": {
        "id": "LkdZu-CDgvlR"
      },
      "source": [
        "## Time Index\n",
        "Pandas has a built-in function specifically for creating date indices: pd.date_range(). We use it to create a new index for our Series:"
      ]
    },
    {
      "cell_type": "code",
      "metadata": {
        "colab": {
          "base_uri": "https://localhost:8080/"
        },
        "id": "HJe5hU4zO58m",
        "outputId": "c4331d05-98f3-428b-bcae-8061f0f61957"
      },
      "source": [
        "time_index = pd.date_range('2017-01-01',periods = len(s),freq = 'D')\n",
        "print(time_index)\n",
        "s.index = time_index\n",
        "print(s)"
      ],
      "execution_count": 178,
      "outputs": [
        {
          "output_type": "stream",
          "name": "stdout",
          "text": [
            "DatetimeIndex(['2017-01-01', '2017-01-02', '2017-01-03', '2017-01-04',\n",
            "               '2017-01-05', '2017-01-06'],\n",
            "              dtype='datetime64[ns]', freq='D')\n",
            "2017-01-01    143.73\n",
            "2017-01-02    145.83\n",
            "2017-01-03    143.68\n",
            "2017-01-04    144.02\n",
            "2017-01-05    143.50\n",
            "2017-01-06    142.62\n",
            "Freq: D, Name: Apple Price List, dtype: float64\n"
          ]
        }
      ]
    },
    {
      "cell_type": "code",
      "source": [
        "indicexTiempo = pd.date_range('2020-03-15',periods = len(w),freq = 'D')    #Creamos una serie de fechas desde el 15 de marzo de 2020 y avanzamos 6 periodos\n",
        "print(indicexTiempo)\n",
        "w.index = indicexTiempo   #asignamos las fechas como indice de la lista de precios\n",
        "print(w)"
      ],
      "metadata": {
        "colab": {
          "base_uri": "https://localhost:8080/"
        },
        "id": "J5KXG7wTy7Af",
        "outputId": "7349a924-7ff8-4a10-bc85-dbd7e9892eda"
      },
      "execution_count": 179,
      "outputs": [
        {
          "output_type": "stream",
          "name": "stdout",
          "text": [
            "DatetimeIndex(['2020-03-15', '2020-03-16', '2020-03-17', '2020-03-18',\n",
            "               '2020-03-19', '2020-03-20', '2020-03-21'],\n",
            "              dtype='datetime64[ns]', freq='D')\n",
            "2020-03-15      12.3\n",
            "2020-03-16    2312.1\n",
            "2020-03-17     432.2\n",
            "2020-03-18     756.2\n",
            "2020-03-19      32.4\n",
            "2020-03-20     122.3\n",
            "2020-03-21     213.2\n",
            "Freq: D, Name: Lista de Precios de Didi, dtype: float64\n"
          ]
        }
      ]
    },
    {
      "cell_type": "markdown",
      "metadata": {
        "id": "7WedejFZg19J"
      },
      "source": [
        "Series are usually accessed using the iloc[] and loc[] methods. iloc[] is used to access elements by integer index, and loc[] is used to access the index of the series.\n",
        "\n",
        "iloc[] is necessary when the index of a series are integers, take our previous defined series as example:"
      ]
    },
    {
      "cell_type": "code",
      "metadata": {
        "colab": {
          "base_uri": "https://localhost:8080/"
        },
        "id": "KrVSOyMvO58m",
        "outputId": "0c642838-1af2-464b-9397-6a70062b7589"
      },
      "source": [
        "s.index = [6,5,4,3,2,1]\n",
        "print(s)\n",
        "print(s[1])"
      ],
      "execution_count": 180,
      "outputs": [
        {
          "output_type": "stream",
          "name": "stdout",
          "text": [
            "6    143.73\n",
            "5    145.83\n",
            "4    143.68\n",
            "3    144.02\n",
            "2    143.50\n",
            "1    142.62\n",
            "Name: Apple Price List, dtype: float64\n",
            "142.62\n"
          ]
        }
      ]
    },
    {
      "cell_type": "code",
      "source": [
        "w.index = [4,5,6,7,8,9,0]\n",
        "print(w)\n",
        "print(w[7]) #El objeto entre paréntesis hace referencia al indice que definamos"
      ],
      "metadata": {
        "colab": {
          "base_uri": "https://localhost:8080/"
        },
        "id": "HiUTrcyLRTsn",
        "outputId": "33fcf3fa-87e7-4ca6-e9f0-82ce7b744c15"
      },
      "execution_count": 181,
      "outputs": [
        {
          "output_type": "stream",
          "name": "stdout",
          "text": [
            "4      12.3\n",
            "5    2312.1\n",
            "6     432.2\n",
            "7     756.2\n",
            "8      32.4\n",
            "9     122.3\n",
            "0     213.2\n",
            "Name: Lista de Precios de Didi, dtype: float64\n",
            "756.2\n"
          ]
        }
      ]
    },
    {
      "cell_type": "markdown",
      "metadata": {
        "id": "r30VKPtpg61p"
      },
      "source": [
        "If we intended to take the second element of the series, we would make a mistake here, because the index are integers. In order to access to the element we want, we use iloc[] here:"
      ]
    },
    {
      "cell_type": "code",
      "metadata": {
        "colab": {
          "base_uri": "https://localhost:8080/"
        },
        "id": "bHukfaAmO58m",
        "outputId": "41fc23f5-9399-4c83-d894-01a08f7ff39d"
      },
      "source": [
        "print(s.iloc[1]) "
      ],
      "execution_count": 182,
      "outputs": [
        {
          "output_type": "stream",
          "name": "stdout",
          "text": [
            "145.83\n"
          ]
        }
      ]
    },
    {
      "cell_type": "code",
      "source": [
        "print(w.iloc[2])  #con .iloc obtenemos el n° elemento (en este caso el segundo [tercero] ) ingresado"
      ],
      "metadata": {
        "colab": {
          "base_uri": "https://localhost:8080/"
        },
        "id": "Dk9vk_85RgdT",
        "outputId": "d20e9754-2559-4e5f-da94-9353fe91c429"
      },
      "execution_count": 183,
      "outputs": [
        {
          "output_type": "stream",
          "name": "stdout",
          "text": [
            "432.2\n"
          ]
        }
      ]
    },
    {
      "cell_type": "markdown",
      "metadata": {
        "id": "kHVBRL_Rg84j"
      },
      "source": [
        "While working with time series data, we often use time as the index. Pandas provides us with various methods to access the data by time index"
      ]
    },
    {
      "cell_type": "code",
      "metadata": {
        "colab": {
          "base_uri": "https://localhost:8080/"
        },
        "id": "FCf8Hg7jO58n",
        "outputId": "322d8502-d6e0-4eef-ce72-f89038928d6e"
      },
      "source": [
        "s.index = time_index\n",
        "print(s['2017-01-03'])"
      ],
      "execution_count": 184,
      "outputs": [
        {
          "output_type": "stream",
          "name": "stdout",
          "text": [
            "143.68\n"
          ]
        }
      ]
    },
    {
      "cell_type": "code",
      "source": [
        "w.index = indicexTiempo #Verificamos que podemos consultar por una fecha específica\n",
        "print(w['2020-03-20'])"
      ],
      "metadata": {
        "colab": {
          "base_uri": "https://localhost:8080/"
        },
        "id": "-27ZHDsFR5e_",
        "outputId": "a810aa60-6672-4dbb-ae3c-69ed1ee3ba3c"
      },
      "execution_count": 185,
      "outputs": [
        {
          "output_type": "stream",
          "name": "stdout",
          "text": [
            "122.3\n"
          ]
        }
      ]
    },
    {
      "cell_type": "markdown",
      "metadata": {
        "id": "XJXcrSFpg-To"
      },
      "source": [
        "We can even access to a range of dates:"
      ]
    },
    {
      "cell_type": "code",
      "metadata": {
        "colab": {
          "base_uri": "https://localhost:8080/"
        },
        "id": "NsE-Lr_9O58n",
        "outputId": "92eef468-0062-4ce7-a1bf-6236b038496d"
      },
      "source": [
        "print(s['2017-01-02':'2017-01-05'])"
      ],
      "execution_count": 186,
      "outputs": [
        {
          "output_type": "stream",
          "name": "stdout",
          "text": [
            "2017-01-02    145.83\n",
            "2017-01-03    143.68\n",
            "2017-01-04    144.02\n",
            "2017-01-05    143.50\n",
            "Freq: D, Name: Apple Price List, dtype: float64\n"
          ]
        }
      ]
    },
    {
      "cell_type": "code",
      "source": [
        "print(w['2020-03-20':'2020-03-22'])   #O podemos consultar por rango de fechas"
      ],
      "metadata": {
        "colab": {
          "base_uri": "https://localhost:8080/"
        },
        "id": "NrqcZ6IVSEkI",
        "outputId": "68c0f5cf-dc3d-4bc3-a960-2a6a16990dff"
      },
      "execution_count": 187,
      "outputs": [
        {
          "output_type": "stream",
          "name": "stdout",
          "text": [
            "2020-03-20    122.3\n",
            "2020-03-21    213.2\n",
            "Freq: D, Name: Lista de Precios de Didi, dtype: float64\n"
          ]
        }
      ]
    },
    {
      "cell_type": "markdown",
      "metadata": {
        "id": "cWA3NCXEhCLB"
      },
      "source": [
        "Series[] provides us a very flexible way to index data. We can add any condition in the square brackets:"
      ]
    },
    {
      "cell_type": "code",
      "metadata": {
        "colab": {
          "base_uri": "https://localhost:8080/"
        },
        "id": "aawbrg2EO58n",
        "outputId": "970a51ce-e97d-4ae0-e874-9215e25923fe"
      },
      "source": [
        "print(s[s < np.mean(s)] )\n",
        "print([(s > np.mean(s)) & (s < np.mean(s) + 1.64*np.std(s))])"
      ],
      "execution_count": 188,
      "outputs": [
        {
          "output_type": "stream",
          "name": "stdout",
          "text": [
            "2017-01-01    143.73\n",
            "2017-01-03    143.68\n",
            "2017-01-05    143.50\n",
            "2017-01-06    142.62\n",
            "Name: Apple Price List, dtype: float64\n",
            "[2017-01-01    False\n",
            "2017-01-02    False\n",
            "2017-01-03    False\n",
            "2017-01-04     True\n",
            "2017-01-05    False\n",
            "2017-01-06    False\n",
            "Freq: D, Name: Apple Price List, dtype: bool]\n"
          ]
        }
      ]
    },
    {
      "cell_type": "code",
      "source": [
        "print(np.mean(w))\n",
        "print(w[w < np.mean(w)], '\\n') #imprimimos todos los objetos cuyo valor sea menor a la media de los objetos de la lista\n",
        "print([(w > np.mean(w)) & (w < np.mean(w) + 1.64*np.std(w))])   #Realizamos una comparación de cada uno de los objetos de la lista y nos devuelve el resultado lógico de cada uno"
      ],
      "metadata": {
        "colab": {
          "base_uri": "https://localhost:8080/"
        },
        "id": "B1zpb1owSPEO",
        "outputId": "04daf931-6b32-444c-d0f0-2db9603160a3"
      },
      "execution_count": 189,
      "outputs": [
        {
          "output_type": "stream",
          "name": "stdout",
          "text": [
            "554.3857142857144\n",
            "2020-03-15     12.3\n",
            "2020-03-17    432.2\n",
            "2020-03-19     32.4\n",
            "2020-03-20    122.3\n",
            "2020-03-21    213.2\n",
            "Name: Lista de Precios de Didi, dtype: float64 \n",
            "\n",
            "[2020-03-15    False\n",
            "2020-03-16    False\n",
            "2020-03-17    False\n",
            "2020-03-18     True\n",
            "2020-03-19    False\n",
            "2020-03-20    False\n",
            "2020-03-21    False\n",
            "Freq: D, Name: Lista de Precios de Didi, dtype: bool]\n"
          ]
        }
      ]
    },
    {
      "cell_type": "markdown",
      "metadata": {
        "id": "jAByChIwhEuI"
      },
      "source": [
        "As demonstrated, we can use logical operators like & (and), | (or) and ~ (not) to group multiple conditions.\n",
        "\n",
        "# Summary\n",
        "Here we have introduced NumPy and Pandas for scientific computing in Python. In the next chapter, we will dive into Pandas to learn resampling and manipulating Pandas DataFrame, which are commonly used in financial data analysis."
      ]
    },
    {
      "cell_type": "markdown",
      "metadata": {
        "id": "OtjOpw6oJp6z"
      },
      "source": [
        "<div align=\"center\">\n",
        "<img style=\"display: block; margin: auto;\" alt=\"photo\" src=\"https://cdn.quantconnect.com/web/i/icon.png\"> <img style=\"display: block; margin: auto;\" alt=\"photo\" src=\"https://www.marketing-branding.com/wp-content/uploads/2020/07/google-colaboratory-colab-guia-completa.jpg \" width=\"50\" height=\"50\">\n",
        "<img style=\"display: block; margin: auto;\" alt=\"photo\" src=\"https://upload.wikimedia.org/wikipedia/commons/d/da/Yahoo_Finance_Logo_2019.svg\" width=\"50\" height=\"50\">  \n",
        "\n",
        "Quantconnect -> Google Colab with Yahoo Finance data\n",
        "\n",
        "Introduction to Financial Python\n",
        "</div>\n",
        "\n",
        "# 05 Pandas-Resampling and DataFrame\n",
        "\n",
        "# Introduction\n",
        "In the last chapter we had a glimpse of Pandas. In this chapter we will learn about resampling methods and the DataFrame object, which is a powerful tool for financial data analysis.\n",
        "\n",
        "# Fetching Data\n",
        "Here we use the Yahoo Finance to retrieve data.\n"
      ]
    },
    {
      "cell_type": "code",
      "metadata": {
        "colab": {
          "base_uri": "https://localhost:8080/"
        },
        "id": "luU8mZTsHW9x",
        "outputId": "8a2d641f-c264-475d-d01b-32f3e3b2cf7a"
      },
      "source": [
        "!pip install yfinance"
      ],
      "execution_count": 190,
      "outputs": [
        {
          "output_type": "stream",
          "name": "stdout",
          "text": [
            "Requirement already satisfied: yfinance in /usr/local/lib/python3.7/dist-packages (0.1.70)\n",
            "Requirement already satisfied: numpy>=1.15 in /usr/local/lib/python3.7/dist-packages (from yfinance) (1.21.5)\n",
            "Requirement already satisfied: multitasking>=0.0.7 in /usr/local/lib/python3.7/dist-packages (from yfinance) (0.0.10)\n",
            "Requirement already satisfied: requests>=2.26 in /usr/local/lib/python3.7/dist-packages (from yfinance) (2.27.1)\n",
            "Requirement already satisfied: lxml>=4.5.1 in /usr/local/lib/python3.7/dist-packages (from yfinance) (4.8.0)\n",
            "Requirement already satisfied: pandas>=0.24.0 in /usr/local/lib/python3.7/dist-packages (from yfinance) (1.3.5)\n",
            "Requirement already satisfied: python-dateutil>=2.7.3 in /usr/local/lib/python3.7/dist-packages (from pandas>=0.24.0->yfinance) (2.8.2)\n",
            "Requirement already satisfied: pytz>=2017.3 in /usr/local/lib/python3.7/dist-packages (from pandas>=0.24.0->yfinance) (2018.9)\n",
            "Requirement already satisfied: six>=1.5 in /usr/local/lib/python3.7/dist-packages (from python-dateutil>=2.7.3->pandas>=0.24.0->yfinance) (1.15.0)\n",
            "Requirement already satisfied: certifi>=2017.4.17 in /usr/local/lib/python3.7/dist-packages (from requests>=2.26->yfinance) (2021.10.8)\n",
            "Requirement already satisfied: idna<4,>=2.5 in /usr/local/lib/python3.7/dist-packages (from requests>=2.26->yfinance) (2.10)\n",
            "Requirement already satisfied: charset-normalizer~=2.0.0 in /usr/local/lib/python3.7/dist-packages (from requests>=2.26->yfinance) (2.0.12)\n",
            "Requirement already satisfied: urllib3<1.27,>=1.21.1 in /usr/local/lib/python3.7/dist-packages (from requests>=2.26->yfinance) (1.24.3)\n"
          ]
        }
      ]
    },
    {
      "cell_type": "code",
      "metadata": {
        "colab": {
          "base_uri": "https://localhost:8080/",
          "height": 492
        },
        "id": "mWZ-nirTZHrE",
        "outputId": "0860f029-a296-4f24-b753-1556fd3686e2"
      },
      "source": [
        "import yfinance as yf\n",
        "\n",
        "aapl = yf.Ticker(\"AAPL\")\n",
        "\n",
        "# get stock info\n",
        "print(aapl.info)\n",
        "\n",
        "# get historical market data\n",
        "aapl_table = aapl.history(start=\"2016-01-01\",  end=\"2017-12-31\")\n",
        "aapl_table"
      ],
      "execution_count": 191,
      "outputs": [
        {
          "output_type": "stream",
          "name": "stdout",
          "text": [
            "{'zip': '95014', 'sector': 'Technology', 'fullTimeEmployees': 100000, 'longBusinessSummary': 'Apple Inc. designs, manufactures, and markets smartphones, personal computers, tablets, wearables, and accessories worldwide. It also sells various related services. In addition, the company offers iPhone, a line of smartphones; Mac, a line of personal computers; iPad, a line of multi-purpose tablets; AirPods Max, an over-ear wireless headphone; and wearables, home, and accessories comprising AirPods, Apple TV, Apple Watch, Beats products, HomePod, and iPod touch. Further, it provides AppleCare support services; cloud services store services; and operates various platforms, including the App Store that allow customers to discover and download applications and digital content, such as books, music, video, games, and podcasts. Additionally, the company offers various services, such as Apple Arcade, a game subscription service; Apple Music, which offers users a curated listening experience with on-demand radio stations; Apple News+, a subscription news and magazine service; Apple TV+, which offers exclusive original content; Apple Card, a co-branded credit card; and Apple Pay, a cashless payment service, as well as licenses its intellectual property. The company serves consumers, and small and mid-sized businesses; and the education, enterprise, and government markets. It distributes third-party applications for its products through the App Store. The company also sells its products through its retail and online stores, and direct sales force; and third-party cellular network carriers, wholesalers, retailers, and resellers. Apple Inc. was incorporated in 1977 and is headquartered in Cupertino, California.', 'city': 'Cupertino', 'phone': '408 996 1010', 'state': 'CA', 'country': 'United States', 'companyOfficers': [], 'website': 'https://www.apple.com', 'maxAge': 1, 'address1': 'One Apple Park Way', 'industry': 'Consumer Electronics', 'ebitdaMargins': 0.33890998, 'profitMargins': 0.26579002, 'grossMargins': 0.43019, 'operatingCashflow': 112241000448, 'revenueGrowth': 0.112, 'operatingMargins': 0.309, 'ebitda': 128217997312, 'targetLowPrice': 160, 'recommendationKey': 'buy', 'grossProfits': 152836000000, 'freeCashflow': 80153247744, 'targetMedianPrice': 199.5, 'currentPrice': 155.09, 'earningsGrowth': 0.25, 'currentRatio': 1.038, 'returnOnAssets': 0.19875, 'numberOfAnalystOpinions': 44, 'targetMeanPrice': 193.53, 'debtToEquity': 170.714, 'returnOnEquity': 1.45567, 'targetHighPrice': 215, 'totalCash': 63913000960, 'totalDebt': 122797998080, 'totalRevenue': 378323009536, 'totalCashPerShare': 3.916, 'financialCurrency': 'USD', 'revenuePerShare': 22.838, 'quickRatio': 0.875, 'recommendationMean': 1.8, 'exchange': 'NMS', 'shortName': 'Apple Inc.', 'longName': 'Apple Inc.', 'exchangeTimezoneName': 'America/New_York', 'exchangeTimezoneShortName': 'EDT', 'isEsgPopulated': False, 'gmtOffSetMilliseconds': '-14400000', 'quoteType': 'EQUITY', 'symbol': 'AAPL', 'messageBoardId': 'finmb_24937', 'market': 'us_market', 'annualHoldingsTurnover': None, 'enterpriseToRevenue': 6.653, 'beta3Year': None, 'enterpriseToEbitda': 19.63, '52WeekChange': 0.24310672, 'morningStarRiskRating': None, 'forwardEps': 6.56, 'revenueQuarterlyGrowth': None, 'sharesOutstanding': 16319399936, 'fundInceptionDate': None, 'annualReportExpenseRatio': None, 'totalAssets': None, 'bookValue': 4.402, 'sharesShort': 110322490, 'sharesPercentSharesOut': 0.0068, 'fundFamily': None, 'lastFiscalYearEnd': 1632528000, 'heldPercentInstitutions': 0.59430003, 'netIncomeToCommon': 100554997760, 'trailingEps': 6.015, 'lastDividendValue': 0.22, 'SandP52WeekChange': 0.072551966, 'priceToBook': 35.231712, 'heldPercentInsiders': 0.0007, 'nextFiscalYearEnd': 1695600000, 'yield': None, 'mostRecentQuarter': 1640390400, 'shortRatio': 1.2, 'sharesShortPreviousMonthDate': 1643587200, 'floatShares': 16302795170, 'beta': 1.185531, 'enterpriseValue': 2516919255040, 'priceHint': 2, 'threeYearAverageReturn': None, 'lastSplitDate': 1598832000, 'lastSplitFactor': '4:1', 'legalType': None, 'lastDividendDate': 1643932800, 'morningStarOverallRating': None, 'earningsQuarterlyGrowth': 0.204, 'priceToSalesTrailing12Months': 6.8725734, 'dateShortInterest': 1646006400, 'pegRatio': 1.69, 'ytdReturn': None, 'forwardPE': 23.641768, 'lastCapGain': None, 'shortPercentOfFloat': 0.0068, 'sharesShortPriorMonth': 91388112, 'impliedSharesOutstanding': 0, 'category': None, 'fiveYearAverageReturn': None, 'previousClose': 150.62, 'regularMarketOpen': 150.9, 'twoHundredDayAverage': 153.8877, 'trailingAnnualDividendYield': 0.0057429294, 'payoutRatio': 0.1434, 'volume24Hr': None, 'regularMarketDayHigh': 155.57, 'navPrice': None, 'averageDailyVolume10Day': 96292350, 'regularMarketPreviousClose': 150.62, 'fiftyDayAverage': 167.6362, 'trailingAnnualDividendRate': 0.865, 'open': 150.9, 'toCurrency': None, 'averageVolume10days': 96292350, 'expireDate': None, 'algorithm': None, 'dividendRate': 0.88, 'exDividendDate': 1643932800, 'circulatingSupply': None, 'startDate': None, 'regularMarketDayLow': 150.385, 'currency': 'USD', 'trailingPE': 25.783875, 'regularMarketVolume': 89231766, 'lastMarket': None, 'maxSupply': None, 'openInterest': None, 'marketCap': 2600052719616, 'volumeAllCurrencies': None, 'strikePrice': None, 'averageVolume': 94610615, 'dayLow': 150.385, 'ask': 155.1, 'askSize': 800, 'volume': 89231766, 'fiftyTwoWeekHigh': 182.94, 'fromCurrency': None, 'fiveYearAvgDividendYield': 1.13, 'fiftyTwoWeekLow': 118.86, 'bid': 155.01, 'tradeable': False, 'dividendYield': 0.0057, 'bidSize': 1200, 'dayHigh': 155.57, 'regularMarketPrice': 155.09, 'preMarketPrice': 150.9, 'logo_url': 'https://logo.clearbit.com/apple.com', 'trailingPegRatio': 3.2017}\n"
          ]
        },
        {
          "output_type": "execute_result",
          "data": {
            "text/plain": [
              "                 Open       High        Low      Close     Volume  Dividends  \\\n",
              "Date                                                                           \n",
              "2016-01-04  23.590636  24.225176  23.450393  24.220577  270597600        0.0   \n",
              "2016-01-05  24.312538  24.335529  23.544654  23.613625  223164000        0.0   \n",
              "2016-01-06  23.119331  23.535462  22.960697  23.151518  273829600        0.0   \n",
              "2016-01-07  22.687112  23.020475  22.169824  22.174421  324377600        0.0   \n",
              "2016-01-08  22.657221  22.785968  22.245689  22.291670  283192000        0.0   \n",
              "...               ...        ...        ...        ...        ...        ...   \n",
              "2017-12-22  41.713649  41.890363  41.670667  41.792454   65397600        0.0   \n",
              "2017-12-26  40.787108  40.947104  40.519650  40.732185  132742000        0.0   \n",
              "2017-12-27  40.619945  40.782328  40.526813  40.739346   85992800        0.0   \n",
              "2017-12-28  40.834865  41.037847  40.710688  40.853970   65920800        0.0   \n",
              "2017-12-29  40.720244  40.736958  40.409803  40.412189  103999600        0.0   \n",
              "\n",
              "            Stock Splits  \n",
              "Date                      \n",
              "2016-01-04             0  \n",
              "2016-01-05             0  \n",
              "2016-01-06             0  \n",
              "2016-01-07             0  \n",
              "2016-01-08             0  \n",
              "...                  ...  \n",
              "2017-12-22             0  \n",
              "2017-12-26             0  \n",
              "2017-12-27             0  \n",
              "2017-12-28             0  \n",
              "2017-12-29             0  \n",
              "\n",
              "[503 rows x 7 columns]"
            ],
            "text/html": [
              "\n",
              "  <div id=\"df-90ebe8fc-a6a2-4494-b687-f1a771043b59\">\n",
              "    <div class=\"colab-df-container\">\n",
              "      <div>\n",
              "<style scoped>\n",
              "    .dataframe tbody tr th:only-of-type {\n",
              "        vertical-align: middle;\n",
              "    }\n",
              "\n",
              "    .dataframe tbody tr th {\n",
              "        vertical-align: top;\n",
              "    }\n",
              "\n",
              "    .dataframe thead th {\n",
              "        text-align: right;\n",
              "    }\n",
              "</style>\n",
              "<table border=\"1\" class=\"dataframe\">\n",
              "  <thead>\n",
              "    <tr style=\"text-align: right;\">\n",
              "      <th></th>\n",
              "      <th>Open</th>\n",
              "      <th>High</th>\n",
              "      <th>Low</th>\n",
              "      <th>Close</th>\n",
              "      <th>Volume</th>\n",
              "      <th>Dividends</th>\n",
              "      <th>Stock Splits</th>\n",
              "    </tr>\n",
              "    <tr>\n",
              "      <th>Date</th>\n",
              "      <th></th>\n",
              "      <th></th>\n",
              "      <th></th>\n",
              "      <th></th>\n",
              "      <th></th>\n",
              "      <th></th>\n",
              "      <th></th>\n",
              "    </tr>\n",
              "  </thead>\n",
              "  <tbody>\n",
              "    <tr>\n",
              "      <th>2016-01-04</th>\n",
              "      <td>23.590636</td>\n",
              "      <td>24.225176</td>\n",
              "      <td>23.450393</td>\n",
              "      <td>24.220577</td>\n",
              "      <td>270597600</td>\n",
              "      <td>0.0</td>\n",
              "      <td>0</td>\n",
              "    </tr>\n",
              "    <tr>\n",
              "      <th>2016-01-05</th>\n",
              "      <td>24.312538</td>\n",
              "      <td>24.335529</td>\n",
              "      <td>23.544654</td>\n",
              "      <td>23.613625</td>\n",
              "      <td>223164000</td>\n",
              "      <td>0.0</td>\n",
              "      <td>0</td>\n",
              "    </tr>\n",
              "    <tr>\n",
              "      <th>2016-01-06</th>\n",
              "      <td>23.119331</td>\n",
              "      <td>23.535462</td>\n",
              "      <td>22.960697</td>\n",
              "      <td>23.151518</td>\n",
              "      <td>273829600</td>\n",
              "      <td>0.0</td>\n",
              "      <td>0</td>\n",
              "    </tr>\n",
              "    <tr>\n",
              "      <th>2016-01-07</th>\n",
              "      <td>22.687112</td>\n",
              "      <td>23.020475</td>\n",
              "      <td>22.169824</td>\n",
              "      <td>22.174421</td>\n",
              "      <td>324377600</td>\n",
              "      <td>0.0</td>\n",
              "      <td>0</td>\n",
              "    </tr>\n",
              "    <tr>\n",
              "      <th>2016-01-08</th>\n",
              "      <td>22.657221</td>\n",
              "      <td>22.785968</td>\n",
              "      <td>22.245689</td>\n",
              "      <td>22.291670</td>\n",
              "      <td>283192000</td>\n",
              "      <td>0.0</td>\n",
              "      <td>0</td>\n",
              "    </tr>\n",
              "    <tr>\n",
              "      <th>...</th>\n",
              "      <td>...</td>\n",
              "      <td>...</td>\n",
              "      <td>...</td>\n",
              "      <td>...</td>\n",
              "      <td>...</td>\n",
              "      <td>...</td>\n",
              "      <td>...</td>\n",
              "    </tr>\n",
              "    <tr>\n",
              "      <th>2017-12-22</th>\n",
              "      <td>41.713649</td>\n",
              "      <td>41.890363</td>\n",
              "      <td>41.670667</td>\n",
              "      <td>41.792454</td>\n",
              "      <td>65397600</td>\n",
              "      <td>0.0</td>\n",
              "      <td>0</td>\n",
              "    </tr>\n",
              "    <tr>\n",
              "      <th>2017-12-26</th>\n",
              "      <td>40.787108</td>\n",
              "      <td>40.947104</td>\n",
              "      <td>40.519650</td>\n",
              "      <td>40.732185</td>\n",
              "      <td>132742000</td>\n",
              "      <td>0.0</td>\n",
              "      <td>0</td>\n",
              "    </tr>\n",
              "    <tr>\n",
              "      <th>2017-12-27</th>\n",
              "      <td>40.619945</td>\n",
              "      <td>40.782328</td>\n",
              "      <td>40.526813</td>\n",
              "      <td>40.739346</td>\n",
              "      <td>85992800</td>\n",
              "      <td>0.0</td>\n",
              "      <td>0</td>\n",
              "    </tr>\n",
              "    <tr>\n",
              "      <th>2017-12-28</th>\n",
              "      <td>40.834865</td>\n",
              "      <td>41.037847</td>\n",
              "      <td>40.710688</td>\n",
              "      <td>40.853970</td>\n",
              "      <td>65920800</td>\n",
              "      <td>0.0</td>\n",
              "      <td>0</td>\n",
              "    </tr>\n",
              "    <tr>\n",
              "      <th>2017-12-29</th>\n",
              "      <td>40.720244</td>\n",
              "      <td>40.736958</td>\n",
              "      <td>40.409803</td>\n",
              "      <td>40.412189</td>\n",
              "      <td>103999600</td>\n",
              "      <td>0.0</td>\n",
              "      <td>0</td>\n",
              "    </tr>\n",
              "  </tbody>\n",
              "</table>\n",
              "<p>503 rows × 7 columns</p>\n",
              "</div>\n",
              "      <button class=\"colab-df-convert\" onclick=\"convertToInteractive('df-90ebe8fc-a6a2-4494-b687-f1a771043b59')\"\n",
              "              title=\"Convert this dataframe to an interactive table.\"\n",
              "              style=\"display:none;\">\n",
              "        \n",
              "  <svg xmlns=\"http://www.w3.org/2000/svg\" height=\"24px\"viewBox=\"0 0 24 24\"\n",
              "       width=\"24px\">\n",
              "    <path d=\"M0 0h24v24H0V0z\" fill=\"none\"/>\n",
              "    <path d=\"M18.56 5.44l.94 2.06.94-2.06 2.06-.94-2.06-.94-.94-2.06-.94 2.06-2.06.94zm-11 1L8.5 8.5l.94-2.06 2.06-.94-2.06-.94L8.5 2.5l-.94 2.06-2.06.94zm10 10l.94 2.06.94-2.06 2.06-.94-2.06-.94-.94-2.06-.94 2.06-2.06.94z\"/><path d=\"M17.41 7.96l-1.37-1.37c-.4-.4-.92-.59-1.43-.59-.52 0-1.04.2-1.43.59L10.3 9.45l-7.72 7.72c-.78.78-.78 2.05 0 2.83L4 21.41c.39.39.9.59 1.41.59.51 0 1.02-.2 1.41-.59l7.78-7.78 2.81-2.81c.8-.78.8-2.07 0-2.86zM5.41 20L4 18.59l7.72-7.72 1.47 1.35L5.41 20z\"/>\n",
              "  </svg>\n",
              "      </button>\n",
              "      \n",
              "  <style>\n",
              "    .colab-df-container {\n",
              "      display:flex;\n",
              "      flex-wrap:wrap;\n",
              "      gap: 12px;\n",
              "    }\n",
              "\n",
              "    .colab-df-convert {\n",
              "      background-color: #E8F0FE;\n",
              "      border: none;\n",
              "      border-radius: 50%;\n",
              "      cursor: pointer;\n",
              "      display: none;\n",
              "      fill: #1967D2;\n",
              "      height: 32px;\n",
              "      padding: 0 0 0 0;\n",
              "      width: 32px;\n",
              "    }\n",
              "\n",
              "    .colab-df-convert:hover {\n",
              "      background-color: #E2EBFA;\n",
              "      box-shadow: 0px 1px 2px rgba(60, 64, 67, 0.3), 0px 1px 3px 1px rgba(60, 64, 67, 0.15);\n",
              "      fill: #174EA6;\n",
              "    }\n",
              "\n",
              "    [theme=dark] .colab-df-convert {\n",
              "      background-color: #3B4455;\n",
              "      fill: #D2E3FC;\n",
              "    }\n",
              "\n",
              "    [theme=dark] .colab-df-convert:hover {\n",
              "      background-color: #434B5C;\n",
              "      box-shadow: 0px 1px 3px 1px rgba(0, 0, 0, 0.15);\n",
              "      filter: drop-shadow(0px 1px 2px rgba(0, 0, 0, 0.3));\n",
              "      fill: #FFFFFF;\n",
              "    }\n",
              "  </style>\n",
              "\n",
              "      <script>\n",
              "        const buttonEl =\n",
              "          document.querySelector('#df-90ebe8fc-a6a2-4494-b687-f1a771043b59 button.colab-df-convert');\n",
              "        buttonEl.style.display =\n",
              "          google.colab.kernel.accessAllowed ? 'block' : 'none';\n",
              "\n",
              "        async function convertToInteractive(key) {\n",
              "          const element = document.querySelector('#df-90ebe8fc-a6a2-4494-b687-f1a771043b59');\n",
              "          const dataTable =\n",
              "            await google.colab.kernel.invokeFunction('convertToInteractive',\n",
              "                                                     [key], {});\n",
              "          if (!dataTable) return;\n",
              "\n",
              "          const docLinkHtml = 'Like what you see? Visit the ' +\n",
              "            '<a target=\"_blank\" href=https://colab.research.google.com/notebooks/data_table.ipynb>data table notebook</a>'\n",
              "            + ' to learn more about interactive tables.';\n",
              "          element.innerHTML = '';\n",
              "          dataTable['output_type'] = 'display_data';\n",
              "          await google.colab.output.renderOutput(dataTable, element);\n",
              "          const docLink = document.createElement('div');\n",
              "          docLink.innerHTML = docLinkHtml;\n",
              "          element.appendChild(docLink);\n",
              "        }\n",
              "      </script>\n",
              "    </div>\n",
              "  </div>\n",
              "  "
            ]
          },
          "metadata": {},
          "execution_count": 191
        }
      ]
    },
    {
      "cell_type": "code",
      "source": [
        "didi = yf.Ticker(\"DIDI\")  #Buscamos el mercado en YahooFinance por su acrónimo o referencia\n",
        "\n",
        "# get stock info\n",
        "print(didi.info)      #Obtenemos algunos datos básicos \n",
        "\n",
        "# get historical market data\n",
        "tablaDidi = didi.history(start=\"2020-06-01\",  end=\"2021-12-31\")    #Traemos los historicos del mercado de DIDI en un rango de fecha\n",
        "tablaDidi"
      ],
      "metadata": {
        "colab": {
          "base_uri": "https://localhost:8080/",
          "height": 492
        },
        "id": "nVpUB5GfaktX",
        "outputId": "d6e513b9-6336-4744-8b51-dd834872babb"
      },
      "execution_count": 192,
      "outputs": [
        {
          "output_type": "stream",
          "name": "stdout",
          "text": [
            "{'zip': '100000', 'sector': 'Technology', 'fullTimeEmployees': 15914, 'longBusinessSummary': \"DiDi Global Inc., a mobility technology platform, provides ride hailing and other services in the People's Republic of China, Brazil, Mexico, and internationally. It offers ride hailing, taxi hailing, chauffeur, hitch, and other forms of shared mobility services, as well as enterprise business ride solutions; auto solutions comprising leasing, refueling, and maintenance and repair services; electric vehicle leasing services; bike and e-bike sharing, intra-city freight, food delivery, and financial services. The company was formerly known as Xiaoju Kuaizhi Inc. and changed its name to DiDi Global Inc. in June 2021. DiDi Global Inc. was founded in 2012 and is headquartered in Beijing, China.\", 'city': 'Beijing', 'phone': '86 10 8304 3181', 'country': 'China', 'companyOfficers': [], 'website': 'https://www.didiglobal.com', 'maxAge': 1, 'address1': 'Building B1 & B2', 'industry': 'Software—Application', 'address2': 'No. 1 Block B Shangdong Digital Valley No. 8 Dongbeiwang West Road,Zhongguancun', 'ebitdaMargins': -0.23628001, 'profitMargins': -0.31337, 'grossMargins': 0.037920002, 'operatingCashflow': -12940378112, 'revenueGrowth': -0.017, 'operatingMargins': -0.27191, 'ebitda': -42470854656, 'targetLowPrice': 6.19, 'recommendationKey': 'buy', 'grossProfits': 11216332000, 'freeCashflow': None, 'targetMedianPrice': 9.08, 'currentPrice': 1.8, 'earningsGrowth': None, 'currentRatio': 2.901, 'returnOnAssets': None, 'numberOfAnalystOpinions': 2, 'targetMeanPrice': 9.08, 'debtToEquity': 8.427, 'returnOnEquity': None, 'targetHighPrice': 11.97, 'totalCash': 61203001344, 'totalDebt': 10593999872, 'totalRevenue': 179749158912, 'totalCashPerShare': 12.689, 'financialCurrency': 'CNY', 'revenuePerShare': 117.465, 'quickRatio': 2.51, 'recommendationMean': 2, 'exchange': 'NYQ', 'shortName': 'DiDi Global Inc.', 'longName': 'DiDi Global Inc.', 'exchangeTimezoneName': 'America/New_York', 'exchangeTimezoneShortName': 'EDT', 'isEsgPopulated': False, 'gmtOffSetMilliseconds': '-14400000', 'quoteType': 'EQUITY', 'symbol': 'DIDI', 'messageBoardId': 'finmb_1672242889', 'market': 'us_market', 'annualHoldingsTurnover': None, 'enterpriseToRevenue': -0.161, 'beta3Year': None, 'enterpriseToEbitda': 0.681, '52WeekChange': -0.8727015, 'morningStarRiskRating': None, 'forwardEps': -0.37, 'revenueQuarterlyGrowth': None, 'sharesOutstanding': 4727690240, 'fundInceptionDate': None, 'annualReportExpenseRatio': None, 'totalAssets': None, 'bookValue': 23.33, 'sharesShort': 28259912, 'sharesPercentSharesOut': 0.006, 'fundFamily': None, 'lastFiscalYearEnd': 1609372800, 'heldPercentInstitutions': 0.11243, 'netIncomeToCommon': -56869416960, 'trailingEps': -5.869, 'lastDividendValue': None, 'SandP52WeekChange': 0.072551966, 'priceToBook': 0.07715388, 'heldPercentInsiders': 0.13385001, 'nextFiscalYearEnd': 1672444800, 'yield': None, 'mostRecentQuarter': 1632960000, 'shortRatio': 1.23, 'sharesShortPreviousMonthDate': 1643587200, 'floatShares': 2312937217, 'beta': None, 'enterpriseValue': -28931094528, 'priceHint': 4, 'threeYearAverageReturn': None, 'lastSplitDate': None, 'lastSplitFactor': None, 'legalType': None, 'lastDividendDate': None, 'morningStarOverallRating': None, 'earningsQuarterlyGrowth': None, 'priceToSalesTrailing12Months': 0.05186728, 'dateShortInterest': 1646006400, 'pegRatio': None, 'ytdReturn': None, 'forwardPE': -4.864865, 'lastCapGain': None, 'shortPercentOfFloat': None, 'sharesShortPriorMonth': 32461377, 'impliedSharesOutstanding': 0, 'category': None, 'fiveYearAverageReturn': None, 'previousClose': 1.76, 'regularMarketOpen': 1.77, 'twoHundredDayAverage': 7.312626, 'trailingAnnualDividendYield': 0, 'payoutRatio': 0, 'volume24Hr': None, 'regularMarketDayHigh': 1.96, 'navPrice': None, 'averageDailyVolume10Day': 57202740, 'regularMarketPreviousClose': 1.76, 'fiftyDayAverage': 4.0972, 'trailingAnnualDividendRate': 0, 'open': 1.77, 'toCurrency': None, 'averageVolume10days': 57202740, 'expireDate': None, 'algorithm': None, 'dividendRate': None, 'exDividendDate': None, 'circulatingSupply': None, 'startDate': None, 'regularMarketDayLow': 1.75, 'currency': 'USD', 'regularMarketVolume': 90647667, 'lastMarket': None, 'maxSupply': None, 'openInterest': None, 'marketCap': 9323100160, 'volumeAllCurrencies': None, 'strikePrice': None, 'averageVolume': 28050536, 'dayLow': 1.75, 'ask': 1.82, 'askSize': 45100, 'volume': 90647667, 'fiftyTwoWeekHigh': 18.01, 'fromCurrency': None, 'fiveYearAvgDividendYield': None, 'fiftyTwoWeekLow': 1.71, 'bid': 1.83, 'tradeable': False, 'dividendYield': None, 'bidSize': 42300, 'dayHigh': 1.96, 'regularMarketPrice': 1.8, 'preMarketPrice': 1.78, 'logo_url': 'https://logo.clearbit.com/didiglobal.com'}\n"
          ]
        },
        {
          "output_type": "execute_result",
          "data": {
            "text/plain": [
              "              Open    High    Low  Close     Volume  Dividends  Stock Splits\n",
              "Date                                                                        \n",
              "2021-06-30  16.650  18.010  14.10  14.14  288155500          0             0\n",
              "2021-07-01  15.600  16.900  15.00  16.40  150901900          0             0\n",
              "2021-07-02  14.960  15.830  14.60  15.53  101071800          0             0\n",
              "2021-07-06  11.780  12.630  11.58  12.49  225560300          0             0\n",
              "2021-07-07  11.990  12.180  11.50  11.91  135249400          0             0\n",
              "...            ...     ...    ...    ...        ...        ...           ...\n",
              "2021-12-23   5.630   5.700   5.50   5.60   13586700          0             0\n",
              "2021-12-27   5.435   5.720   5.29   5.30   21146400          0             0\n",
              "2021-12-28   5.330   5.545   5.22   5.38   24931700          0             0\n",
              "2021-12-29   5.270   5.420   4.93   4.94   43077600          0             0\n",
              "2021-12-30   4.780   5.300   4.76   5.23   35834400          0             0\n",
              "\n",
              "[128 rows x 7 columns]"
            ],
            "text/html": [
              "\n",
              "  <div id=\"df-1b9f0993-58fe-41aa-97c0-983997136635\">\n",
              "    <div class=\"colab-df-container\">\n",
              "      <div>\n",
              "<style scoped>\n",
              "    .dataframe tbody tr th:only-of-type {\n",
              "        vertical-align: middle;\n",
              "    }\n",
              "\n",
              "    .dataframe tbody tr th {\n",
              "        vertical-align: top;\n",
              "    }\n",
              "\n",
              "    .dataframe thead th {\n",
              "        text-align: right;\n",
              "    }\n",
              "</style>\n",
              "<table border=\"1\" class=\"dataframe\">\n",
              "  <thead>\n",
              "    <tr style=\"text-align: right;\">\n",
              "      <th></th>\n",
              "      <th>Open</th>\n",
              "      <th>High</th>\n",
              "      <th>Low</th>\n",
              "      <th>Close</th>\n",
              "      <th>Volume</th>\n",
              "      <th>Dividends</th>\n",
              "      <th>Stock Splits</th>\n",
              "    </tr>\n",
              "    <tr>\n",
              "      <th>Date</th>\n",
              "      <th></th>\n",
              "      <th></th>\n",
              "      <th></th>\n",
              "      <th></th>\n",
              "      <th></th>\n",
              "      <th></th>\n",
              "      <th></th>\n",
              "    </tr>\n",
              "  </thead>\n",
              "  <tbody>\n",
              "    <tr>\n",
              "      <th>2021-06-30</th>\n",
              "      <td>16.650</td>\n",
              "      <td>18.010</td>\n",
              "      <td>14.10</td>\n",
              "      <td>14.14</td>\n",
              "      <td>288155500</td>\n",
              "      <td>0</td>\n",
              "      <td>0</td>\n",
              "    </tr>\n",
              "    <tr>\n",
              "      <th>2021-07-01</th>\n",
              "      <td>15.600</td>\n",
              "      <td>16.900</td>\n",
              "      <td>15.00</td>\n",
              "      <td>16.40</td>\n",
              "      <td>150901900</td>\n",
              "      <td>0</td>\n",
              "      <td>0</td>\n",
              "    </tr>\n",
              "    <tr>\n",
              "      <th>2021-07-02</th>\n",
              "      <td>14.960</td>\n",
              "      <td>15.830</td>\n",
              "      <td>14.60</td>\n",
              "      <td>15.53</td>\n",
              "      <td>101071800</td>\n",
              "      <td>0</td>\n",
              "      <td>0</td>\n",
              "    </tr>\n",
              "    <tr>\n",
              "      <th>2021-07-06</th>\n",
              "      <td>11.780</td>\n",
              "      <td>12.630</td>\n",
              "      <td>11.58</td>\n",
              "      <td>12.49</td>\n",
              "      <td>225560300</td>\n",
              "      <td>0</td>\n",
              "      <td>0</td>\n",
              "    </tr>\n",
              "    <tr>\n",
              "      <th>2021-07-07</th>\n",
              "      <td>11.990</td>\n",
              "      <td>12.180</td>\n",
              "      <td>11.50</td>\n",
              "      <td>11.91</td>\n",
              "      <td>135249400</td>\n",
              "      <td>0</td>\n",
              "      <td>0</td>\n",
              "    </tr>\n",
              "    <tr>\n",
              "      <th>...</th>\n",
              "      <td>...</td>\n",
              "      <td>...</td>\n",
              "      <td>...</td>\n",
              "      <td>...</td>\n",
              "      <td>...</td>\n",
              "      <td>...</td>\n",
              "      <td>...</td>\n",
              "    </tr>\n",
              "    <tr>\n",
              "      <th>2021-12-23</th>\n",
              "      <td>5.630</td>\n",
              "      <td>5.700</td>\n",
              "      <td>5.50</td>\n",
              "      <td>5.60</td>\n",
              "      <td>13586700</td>\n",
              "      <td>0</td>\n",
              "      <td>0</td>\n",
              "    </tr>\n",
              "    <tr>\n",
              "      <th>2021-12-27</th>\n",
              "      <td>5.435</td>\n",
              "      <td>5.720</td>\n",
              "      <td>5.29</td>\n",
              "      <td>5.30</td>\n",
              "      <td>21146400</td>\n",
              "      <td>0</td>\n",
              "      <td>0</td>\n",
              "    </tr>\n",
              "    <tr>\n",
              "      <th>2021-12-28</th>\n",
              "      <td>5.330</td>\n",
              "      <td>5.545</td>\n",
              "      <td>5.22</td>\n",
              "      <td>5.38</td>\n",
              "      <td>24931700</td>\n",
              "      <td>0</td>\n",
              "      <td>0</td>\n",
              "    </tr>\n",
              "    <tr>\n",
              "      <th>2021-12-29</th>\n",
              "      <td>5.270</td>\n",
              "      <td>5.420</td>\n",
              "      <td>4.93</td>\n",
              "      <td>4.94</td>\n",
              "      <td>43077600</td>\n",
              "      <td>0</td>\n",
              "      <td>0</td>\n",
              "    </tr>\n",
              "    <tr>\n",
              "      <th>2021-12-30</th>\n",
              "      <td>4.780</td>\n",
              "      <td>5.300</td>\n",
              "      <td>4.76</td>\n",
              "      <td>5.23</td>\n",
              "      <td>35834400</td>\n",
              "      <td>0</td>\n",
              "      <td>0</td>\n",
              "    </tr>\n",
              "  </tbody>\n",
              "</table>\n",
              "<p>128 rows × 7 columns</p>\n",
              "</div>\n",
              "      <button class=\"colab-df-convert\" onclick=\"convertToInteractive('df-1b9f0993-58fe-41aa-97c0-983997136635')\"\n",
              "              title=\"Convert this dataframe to an interactive table.\"\n",
              "              style=\"display:none;\">\n",
              "        \n",
              "  <svg xmlns=\"http://www.w3.org/2000/svg\" height=\"24px\"viewBox=\"0 0 24 24\"\n",
              "       width=\"24px\">\n",
              "    <path d=\"M0 0h24v24H0V0z\" fill=\"none\"/>\n",
              "    <path d=\"M18.56 5.44l.94 2.06.94-2.06 2.06-.94-2.06-.94-.94-2.06-.94 2.06-2.06.94zm-11 1L8.5 8.5l.94-2.06 2.06-.94-2.06-.94L8.5 2.5l-.94 2.06-2.06.94zm10 10l.94 2.06.94-2.06 2.06-.94-2.06-.94-.94-2.06-.94 2.06-2.06.94z\"/><path d=\"M17.41 7.96l-1.37-1.37c-.4-.4-.92-.59-1.43-.59-.52 0-1.04.2-1.43.59L10.3 9.45l-7.72 7.72c-.78.78-.78 2.05 0 2.83L4 21.41c.39.39.9.59 1.41.59.51 0 1.02-.2 1.41-.59l7.78-7.78 2.81-2.81c.8-.78.8-2.07 0-2.86zM5.41 20L4 18.59l7.72-7.72 1.47 1.35L5.41 20z\"/>\n",
              "  </svg>\n",
              "      </button>\n",
              "      \n",
              "  <style>\n",
              "    .colab-df-container {\n",
              "      display:flex;\n",
              "      flex-wrap:wrap;\n",
              "      gap: 12px;\n",
              "    }\n",
              "\n",
              "    .colab-df-convert {\n",
              "      background-color: #E8F0FE;\n",
              "      border: none;\n",
              "      border-radius: 50%;\n",
              "      cursor: pointer;\n",
              "      display: none;\n",
              "      fill: #1967D2;\n",
              "      height: 32px;\n",
              "      padding: 0 0 0 0;\n",
              "      width: 32px;\n",
              "    }\n",
              "\n",
              "    .colab-df-convert:hover {\n",
              "      background-color: #E2EBFA;\n",
              "      box-shadow: 0px 1px 2px rgba(60, 64, 67, 0.3), 0px 1px 3px 1px rgba(60, 64, 67, 0.15);\n",
              "      fill: #174EA6;\n",
              "    }\n",
              "\n",
              "    [theme=dark] .colab-df-convert {\n",
              "      background-color: #3B4455;\n",
              "      fill: #D2E3FC;\n",
              "    }\n",
              "\n",
              "    [theme=dark] .colab-df-convert:hover {\n",
              "      background-color: #434B5C;\n",
              "      box-shadow: 0px 1px 3px 1px rgba(0, 0, 0, 0.15);\n",
              "      filter: drop-shadow(0px 1px 2px rgba(0, 0, 0, 0.3));\n",
              "      fill: #FFFFFF;\n",
              "    }\n",
              "  </style>\n",
              "\n",
              "      <script>\n",
              "        const buttonEl =\n",
              "          document.querySelector('#df-1b9f0993-58fe-41aa-97c0-983997136635 button.colab-df-convert');\n",
              "        buttonEl.style.display =\n",
              "          google.colab.kernel.accessAllowed ? 'block' : 'none';\n",
              "\n",
              "        async function convertToInteractive(key) {\n",
              "          const element = document.querySelector('#df-1b9f0993-58fe-41aa-97c0-983997136635');\n",
              "          const dataTable =\n",
              "            await google.colab.kernel.invokeFunction('convertToInteractive',\n",
              "                                                     [key], {});\n",
              "          if (!dataTable) return;\n",
              "\n",
              "          const docLinkHtml = 'Like what you see? Visit the ' +\n",
              "            '<a target=\"_blank\" href=https://colab.research.google.com/notebooks/data_table.ipynb>data table notebook</a>'\n",
              "            + ' to learn more about interactive tables.';\n",
              "          element.innerHTML = '';\n",
              "          dataTable['output_type'] = 'display_data';\n",
              "          await google.colab.output.renderOutput(dataTable, element);\n",
              "          const docLink = document.createElement('div');\n",
              "          docLink.innerHTML = docLinkHtml;\n",
              "          element.appendChild(docLink);\n",
              "        }\n",
              "      </script>\n",
              "    </div>\n",
              "  </div>\n",
              "  "
            ]
          },
          "metadata": {},
          "execution_count": 192
        }
      ]
    },
    {
      "cell_type": "markdown",
      "metadata": {
        "id": "NkFztSYhJyVA"
      },
      "source": [
        "We will create a Series named \"aapl\" whose values are Apple's daily closing prices, which are of course indexed by dates:"
      ]
    },
    {
      "cell_type": "code",
      "metadata": {
        "id": "QDJbOpCeHW91"
      },
      "source": [
        "aapl = aapl_table['Close']['2017']"
      ],
      "execution_count": 193,
      "outputs": []
    },
    {
      "cell_type": "code",
      "metadata": {
        "colab": {
          "base_uri": "https://localhost:8080/"
        },
        "id": "SXfgCQJOHW91",
        "outputId": "f5343a3f-1415-4609-d753-34ca59c819c4"
      },
      "source": [
        "print(aapl)"
      ],
      "execution_count": 194,
      "outputs": [
        {
          "output_type": "stream",
          "name": "stdout",
          "text": [
            "Date\n",
            "2017-01-03    27.297693\n",
            "2017-01-04    27.267143\n",
            "2017-01-05    27.405804\n",
            "2017-01-06    27.711332\n",
            "2017-01-09    27.965147\n",
            "                ...    \n",
            "2017-12-22    41.792454\n",
            "2017-12-26    40.732185\n",
            "2017-12-27    40.739346\n",
            "2017-12-28    40.853970\n",
            "2017-12-29    40.412189\n",
            "Name: Close, Length: 251, dtype: float64\n"
          ]
        }
      ]
    },
    {
      "cell_type": "code",
      "source": [
        "didi = tablaDidi['Close']['2021'] #ALmacenamos una lista con los historicos donde la fecha sea de 2021 "
      ],
      "metadata": {
        "id": "AKfhCDdEbTYN"
      },
      "execution_count": 195,
      "outputs": []
    },
    {
      "cell_type": "code",
      "source": [
        "print(didi)"
      ],
      "metadata": {
        "colab": {
          "base_uri": "https://localhost:8080/"
        },
        "id": "LF4VAC9mbeRf",
        "outputId": "f875a35b-c3e5-4b64-9b36-7d4e6fe0eb13"
      },
      "execution_count": 196,
      "outputs": [
        {
          "output_type": "stream",
          "name": "stdout",
          "text": [
            "Date\n",
            "2021-06-30    14.14\n",
            "2021-07-01    16.40\n",
            "2021-07-02    15.53\n",
            "2021-07-06    12.49\n",
            "2021-07-07    11.91\n",
            "              ...  \n",
            "2021-12-23     5.60\n",
            "2021-12-27     5.30\n",
            "2021-12-28     5.38\n",
            "2021-12-29     4.94\n",
            "2021-12-30     5.23\n",
            "Name: Close, Length: 128, dtype: float64\n"
          ]
        }
      ]
    },
    {
      "cell_type": "markdown",
      "metadata": {
        "id": "waUEgBhzKEcA"
      },
      "source": [
        "Recall that we can fetch a specific data point using series['yyyy-mm-dd']. We can also fetch the data in a specific month using series['yyyy-mm']."
      ]
    },
    {
      "cell_type": "code",
      "metadata": {
        "colab": {
          "base_uri": "https://localhost:8080/"
        },
        "id": "2gS50G0zHW92",
        "outputId": "08c9be0f-db1c-4663-f957-2753fe46c8bc"
      },
      "source": [
        "print(aapl['2017-3'])"
      ],
      "execution_count": 197,
      "outputs": [
        {
          "output_type": "stream",
          "name": "stdout",
          "text": [
            "Date\n",
            "2017-03-01    32.996025\n",
            "2017-03-02    32.800110\n",
            "2017-03-03    32.993668\n",
            "2017-03-06    32.889809\n",
            "2017-03-07    32.932297\n",
            "2017-03-08    32.809555\n",
            "2017-03-09    32.734013\n",
            "2017-03-10    32.842609\n",
            "2017-03-13    32.856762\n",
            "2017-03-14    32.807205\n",
            "2017-03-15    33.154179\n",
            "2017-03-16    33.208466\n",
            "2017-03-17    33.043232\n",
            "2017-03-20    33.390213\n",
            "2017-03-21    33.007828\n",
            "2017-03-22    33.380775\n",
            "2017-03-23    33.262753\n",
            "2017-03-24    33.196659\n",
            "2017-03-27    33.253315\n",
            "2017-03-28    33.942551\n",
            "2017-03-29    34.018082\n",
            "2017-03-30    33.973225\n",
            "2017-03-31    33.909504\n",
            "Name: Close, dtype: float64\n"
          ]
        }
      ]
    },
    {
      "cell_type": "code",
      "source": [
        "print(didi['2021-7']) #Imprimimos todos aquellos que tengan fecha de Julio de 2021"
      ],
      "metadata": {
        "colab": {
          "base_uri": "https://localhost:8080/"
        },
        "id": "0Kgyw_gKb_Rk",
        "outputId": "3e73a660-dc2d-4ea4-ac53-08b979a87681"
      },
      "execution_count": 198,
      "outputs": [
        {
          "output_type": "stream",
          "name": "stdout",
          "text": [
            "Date\n",
            "2021-07-01    16.40\n",
            "2021-07-02    15.53\n",
            "2021-07-06    12.49\n",
            "2021-07-07    11.91\n",
            "2021-07-08    11.21\n",
            "2021-07-09    12.03\n",
            "2021-07-12    11.16\n",
            "2021-07-13    12.42\n",
            "2021-07-14    12.62\n",
            "2021-07-15    12.36\n",
            "2021-07-16    11.97\n",
            "2021-07-19    11.06\n",
            "2021-07-20    11.21\n",
            "2021-07-21    11.50\n",
            "2021-07-22    10.20\n",
            "2021-07-23     8.06\n",
            "2021-07-26     8.04\n",
            "2021-07-27     8.04\n",
            "2021-07-28     8.87\n",
            "2021-07-29     9.86\n",
            "2021-07-30    10.31\n",
            "Name: Close, dtype: float64\n"
          ]
        }
      ]
    },
    {
      "cell_type": "code",
      "metadata": {
        "colab": {
          "base_uri": "https://localhost:8080/"
        },
        "id": "vpvxGwXtHW92",
        "outputId": "6692ec44-0a2d-4fe7-a529-7b93056f5aa8"
      },
      "source": [
        "aapl['2017-2':'2017-4']"
      ],
      "execution_count": 199,
      "outputs": [
        {
          "output_type": "execute_result",
          "data": {
            "text/plain": [
              "Date\n",
              "2017-02-01    30.258955\n",
              "2017-02-02    30.207249\n",
              "2017-02-03    30.336514\n",
              "2017-02-06    30.620893\n",
              "2017-02-07    30.912312\n",
              "                ...    \n",
              "2017-04-24    33.904774\n",
              "2017-04-25    34.114861\n",
              "2017-04-26    33.914219\n",
              "2017-04-27    33.940189\n",
              "2017-04-28    33.907143\n",
              "Name: Close, Length: 61, dtype: float64"
            ]
          },
          "metadata": {},
          "execution_count": 199
        }
      ]
    },
    {
      "cell_type": "code",
      "source": [
        "didi['2021-7':'2021-9']   #imprimimos históricos desde Julio de 2021 hasta Septiembre de 2021"
      ],
      "metadata": {
        "colab": {
          "base_uri": "https://localhost:8080/"
        },
        "id": "vd20GWVRcgHr",
        "outputId": "464122c4-f180-4dca-b896-6c29b1336317"
      },
      "execution_count": 200,
      "outputs": [
        {
          "output_type": "execute_result",
          "data": {
            "text/plain": [
              "Date\n",
              "2021-07-01    16.40\n",
              "2021-07-02    15.53\n",
              "2021-07-06    12.49\n",
              "2021-07-07    11.91\n",
              "2021-07-08    11.21\n",
              "              ...  \n",
              "2021-09-24     7.96\n",
              "2021-09-27     8.24\n",
              "2021-09-28     7.98\n",
              "2021-09-29     7.78\n",
              "2021-09-30     7.79\n",
              "Name: Close, Length: 64, dtype: float64"
            ]
          },
          "metadata": {},
          "execution_count": 200
        }
      ]
    },
    {
      "cell_type": "markdown",
      "metadata": {
        "id": "lWwoD39pKNKb"
      },
      "source": [
        ".head(N) and .tail(N) are methods for quickly accessing the first or last N elements."
      ]
    },
    {
      "cell_type": "code",
      "metadata": {
        "colab": {
          "base_uri": "https://localhost:8080/"
        },
        "id": "1eU218ALHW93",
        "outputId": "4c241f88-5808-4621-c00e-9e994f4afff6"
      },
      "source": [
        "print(aapl.head(5))\n",
        "print(aapl.tail(10))"
      ],
      "execution_count": 201,
      "outputs": [
        {
          "output_type": "stream",
          "name": "stdout",
          "text": [
            "Date\n",
            "2017-01-03    27.297693\n",
            "2017-01-04    27.267143\n",
            "2017-01-05    27.405804\n",
            "2017-01-06    27.711332\n",
            "2017-01-09    27.965147\n",
            "Name: Close, dtype: float64\n",
            "Date\n",
            "2017-12-15    41.544109\n",
            "2017-12-18    42.129169\n",
            "2017-12-19    41.680218\n",
            "2017-12-20    41.634850\n",
            "2017-12-21    41.792454\n",
            "2017-12-22    41.792454\n",
            "2017-12-26    40.732185\n",
            "2017-12-27    40.739346\n",
            "2017-12-28    40.853970\n",
            "2017-12-29    40.412189\n",
            "Name: Close, dtype: float64\n"
          ]
        }
      ]
    },
    {
      "cell_type": "code",
      "source": [
        "print(didi.head(3)) #Imprimimos los primeros 3 datos ingresados\n",
        "print(didi.tail(2)) #Imprimimos los últimos 2 datos ingresados"
      ],
      "metadata": {
        "colab": {
          "base_uri": "https://localhost:8080/"
        },
        "id": "GN86YcQzc1iu",
        "outputId": "a1d67b61-22a0-4458-b061-a7c9079702a5"
      },
      "execution_count": 202,
      "outputs": [
        {
          "output_type": "stream",
          "name": "stdout",
          "text": [
            "Date\n",
            "2021-06-30    14.14\n",
            "2021-07-01    16.40\n",
            "2021-07-02    15.53\n",
            "Name: Close, dtype: float64\n",
            "Date\n",
            "2021-12-29    4.94\n",
            "2021-12-30    5.23\n",
            "Name: Close, dtype: float64\n"
          ]
        }
      ]
    },
    {
      "cell_type": "markdown",
      "metadata": {
        "id": "IxhKxtj-KQ66"
      },
      "source": [
        "# Resampling\n",
        "**_series.resample(freq)_** is a class called \"DatetimeIndexResampler\" which groups data in a Series object into regular time intervals. The argument \"freq\" determines the length of each interval.\n",
        "\n",
        "**_series.resample.mean()_** is a complete statement that groups data into intervals, and then compute the mean of each interval. For example, if we want to aggregate the daily data into monthly data by mean:"
      ]
    },
    {
      "cell_type": "code",
      "metadata": {
        "colab": {
          "base_uri": "https://localhost:8080/"
        },
        "id": "rAV8NkHkHW93",
        "outputId": "94f3a2c2-eb7a-4204-f1f3-9cb9558c6710"
      },
      "source": [
        "by_month = aapl.resample('M').mean()\n",
        "print(by_month)"
      ],
      "execution_count": 203,
      "outputs": [
        {
          "output_type": "stream",
          "name": "stdout",
          "text": [
            "Date\n",
            "2017-01-31    28.101464\n",
            "2017-02-28    31.520057\n",
            "2017-03-31    33.191427\n",
            "2017-04-30    33.727006\n",
            "2017-05-31    36.027137\n",
            "2017-06-30    35.038141\n",
            "2017-07-31    35.149094\n",
            "2017-08-31    37.793847\n",
            "2017-09-30    37.502157\n",
            "2017-10-31    37.551832\n",
            "2017-11-30    41.121434\n",
            "2017-12-31    41.047757\n",
            "Freq: M, Name: Close, dtype: float64\n"
          ]
        }
      ]
    },
    {
      "cell_type": "code",
      "source": [
        "porMeses = didi.resample('M').mean()  #ahora obtenemos es una lista de promedios mensuales\n",
        "print(porMeses)"
      ],
      "metadata": {
        "colab": {
          "base_uri": "https://localhost:8080/"
        },
        "id": "2TQ_1OkqfkMD",
        "outputId": "f705504f-7b40-46c8-f8ef-565926725538"
      },
      "execution_count": 204,
      "outputs": [
        {
          "output_type": "stream",
          "name": "stdout",
          "text": [
            "Date\n",
            "2021-06-30    14.140000\n",
            "2021-07-31    11.297619\n",
            "2021-08-31     8.653182\n",
            "2021-09-30     8.398571\n",
            "2021-10-31     8.273810\n",
            "2021-11-30     8.387143\n",
            "2021-12-31     6.243333\n",
            "Freq: M, Name: Close, dtype: float64\n"
          ]
        }
      ]
    },
    {
      "cell_type": "markdown",
      "metadata": {
        "id": "QDPfVzBEKV6Q"
      },
      "source": [
        "We can also aggregate the data by week:"
      ]
    },
    {
      "cell_type": "code",
      "metadata": {
        "colab": {
          "base_uri": "https://localhost:8080/"
        },
        "id": "aAP3tKkBHW94",
        "outputId": "b3e0807e-0149-4fc2-cb70-377fae0604e7"
      },
      "source": [
        "by_week = aapl.resample('W').mean()\n",
        "print(by_week.head())"
      ],
      "execution_count": 205,
      "outputs": [
        {
          "output_type": "stream",
          "name": "stdout",
          "text": [
            "Date\n",
            "2017-01-08    27.420493\n",
            "2017-01-15    28.021087\n",
            "2017-01-22    28.189009\n",
            "2017-01-29    28.476087\n",
            "2017-02-05    29.581623\n",
            "Freq: W-SUN, Name: Close, dtype: float64\n"
          ]
        }
      ]
    },
    {
      "cell_type": "code",
      "source": [
        "porSemanas = didi.resample('W').mean()    #ahora son promedios por semana\n",
        "print(porSemanas.head())    #imprimimos una muestra"
      ],
      "metadata": {
        "colab": {
          "base_uri": "https://localhost:8080/"
        },
        "id": "VR6SLkpsfynh",
        "outputId": "a7124408-292e-4309-a8dd-cbe26f45272b"
      },
      "execution_count": 206,
      "outputs": [
        {
          "output_type": "stream",
          "name": "stdout",
          "text": [
            "Date\n",
            "2021-07-04    15.356667\n",
            "2021-07-11    11.910000\n",
            "2021-07-18    12.106000\n",
            "2021-07-25    10.406000\n",
            "2021-08-01     9.024000\n",
            "Freq: W-SUN, Name: Close, dtype: float64\n"
          ]
        }
      ]
    },
    {
      "cell_type": "markdown",
      "metadata": {
        "id": "o_MXSVsILoBS"
      },
      "source": [
        "We can also aggregate the data by month with max:"
      ]
    },
    {
      "cell_type": "code",
      "metadata": {
        "colab": {
          "base_uri": "https://localhost:8080/"
        },
        "id": "gn0wqXBTHW95",
        "outputId": "99f5ff82-316d-4590-a7ce-7884842f354a"
      },
      "source": [
        "aapl.resample('M').max()"
      ],
      "execution_count": 207,
      "outputs": [
        {
          "output_type": "execute_result",
          "data": {
            "text/plain": [
              "Date\n",
              "2017-01-31    28.660812\n",
              "2017-02-28    32.363441\n",
              "2017-03-31    34.018082\n",
              "2017-04-30    34.171509\n",
              "2017-05-31    36.997929\n",
              "2017-06-30    36.843868\n",
              "2017-07-31    36.372200\n",
              "2017-08-31    39.022984\n",
              "2017-09-30    39.034882\n",
              "2017-10-31    40.222221\n",
              "2017-11-30    41.935429\n",
              "2017-12-31    42.129169\n",
              "Freq: M, Name: Close, dtype: float64"
            ]
          },
          "metadata": {},
          "execution_count": 207
        }
      ]
    },
    {
      "cell_type": "code",
      "source": [
        "didi.resample('M').max()  #Imprimimos el maximo historico de cada mes"
      ],
      "metadata": {
        "colab": {
          "base_uri": "https://localhost:8080/"
        },
        "id": "zOFBAcmxgAy8",
        "outputId": "8c17130e-f32e-422f-a2e5-0f624dd6c32c"
      },
      "execution_count": 208,
      "outputs": [
        {
          "output_type": "execute_result",
          "data": {
            "text/plain": [
              "Date\n",
              "2021-06-30    14.14\n",
              "2021-07-31    16.40\n",
              "2021-08-31    10.38\n",
              "2021-09-30     9.69\n",
              "2021-10-31     9.81\n",
              "2021-11-30     9.51\n",
              "2021-12-31     7.81\n",
              "Freq: M, Name: Close, dtype: float64"
            ]
          },
          "metadata": {},
          "execution_count": 208
        }
      ]
    },
    {
      "cell_type": "markdown",
      "metadata": {
        "id": "Z8r46UFlLdAh"
      },
      "source": [
        "We can choose almost any frequency by using the format 'nf', where 'n' is an integer and 'f' is M for month, W for week and D for day."
      ]
    },
    {
      "cell_type": "code",
      "metadata": {
        "colab": {
          "base_uri": "https://localhost:8080/"
        },
        "id": "kdVB_-JFHW96",
        "outputId": "d2aa44d2-321e-41a6-9364-60083e999d88"
      },
      "source": [
        "three_day = aapl.resample('3D').mean()\n",
        "two_week = aapl.resample('2W').mean()\n",
        "two_month = aapl.resample('2M').mean()\n",
        "\n",
        "\n",
        "print(three_day)\n",
        "print(two_week)\n",
        "print(two_month )"
      ],
      "execution_count": 209,
      "outputs": [
        {
          "output_type": "stream",
          "name": "stdout",
          "text": [
            "Date\n",
            "2017-01-03    27.323547\n",
            "2017-01-06    27.711332\n",
            "2017-01-09    28.034089\n",
            "2017-01-12    28.001583\n",
            "2017-01-15    28.202522\n",
            "                ...    \n",
            "2017-12-17    41.904694\n",
            "2017-12-20    41.739919\n",
            "2017-12-23          NaN\n",
            "2017-12-26    40.775167\n",
            "2017-12-29    40.412189\n",
            "Freq: 3D, Name: Close, Length: 121, dtype: float64\n",
            "Date\n",
            "2017-01-08    27.420493\n",
            "2017-01-22    28.095719\n",
            "2017-02-05    29.028855\n",
            "2017-02-19    31.430843\n",
            "2017-03-05    32.506638\n",
            "2017-03-19    32.927813\n",
            "2017-04-02    33.533490\n",
            "2017-04-16    33.757389\n",
            "2017-04-30    33.699662\n",
            "2017-05-14    35.600252\n",
            "2017-05-28    36.396621\n",
            "2017-06-11    36.415397\n",
            "2017-06-25    34.434855\n",
            "2017-07-09    34.171659\n",
            "2017-07-23    35.182631\n",
            "2017-08-06    36.173825\n",
            "2017-08-20    37.800718\n",
            "2017-09-03    38.353882\n",
            "2017-09-17    38.178276\n",
            "2017-10-01    36.740377\n",
            "2017-10-15    36.970466\n",
            "2017-10-29    37.654322\n",
            "2017-11-12    40.920306\n",
            "2017-11-26    41.091974\n",
            "2017-12-10    40.755585\n",
            "2017-12-24    41.507328\n",
            "2018-01-07    40.684422\n",
            "Freq: 2W-SUN, Name: Close, dtype: float64\n",
            "Date\n",
            "2017-01-31    28.101464\n",
            "2017-03-31    32.435331\n",
            "2017-05-31    34.961223\n",
            "2017-07-31    35.090975\n",
            "2017-09-30    37.658177\n",
            "2017-11-30    39.295126\n",
            "2018-01-31    41.047757\n",
            "Freq: 2M, Name: Close, dtype: float64\n"
          ]
        }
      ]
    },
    {
      "cell_type": "code",
      "source": [
        "tresDias = didi.resample('3D').mean()  #ahora lo hacemos más específico en este caso es el promedio de cada 3 Dias\n",
        "dosSemanas = didi.resample('2W').mean()   #promedio cada 2 semanas\n",
        "dosMeses = didi.resample('2M').mean()     #promedio cada dos meses\n",
        "\n",
        "\n",
        "print(tresDias)\n",
        "print(dosSemanas)\n",
        "print(dosMeses)"
      ],
      "metadata": {
        "colab": {
          "base_uri": "https://localhost:8080/"
        },
        "id": "y4f_bve5gWwS",
        "outputId": "9aef9aeb-0c2b-4351-a116-e13c6c372c18"
      },
      "execution_count": 210,
      "outputs": [
        {
          "output_type": "stream",
          "name": "stdout",
          "text": [
            "Date\n",
            "2021-06-30    15.356667\n",
            "2021-07-03          NaN\n",
            "2021-07-06    11.870000\n",
            "2021-07-09    12.030000\n",
            "2021-07-12    12.066667\n",
            "                ...    \n",
            "2021-12-18     5.900000\n",
            "2021-12-21     5.756667\n",
            "2021-12-24          NaN\n",
            "2021-12-27     5.206667\n",
            "2021-12-30     5.230000\n",
            "Freq: 3D, Name: Close, Length: 62, dtype: float64\n",
            "Date\n",
            "2021-07-04    15.356667\n",
            "2021-07-18    12.018889\n",
            "2021-08-01     9.715000\n",
            "2021-08-15     9.349000\n",
            "2021-08-29     8.048000\n",
            "2021-09-12     8.850000\n",
            "2021-09-26     8.133000\n",
            "2021-10-10     7.768000\n",
            "2021-10-24     8.608000\n",
            "2021-11-07     8.319000\n",
            "2021-11-21     8.704000\n",
            "2021-12-05     7.706667\n",
            "2021-12-19     6.541000\n",
            "2022-01-02     5.502500\n",
            "Freq: 2W-SUN, Name: Close, dtype: float64\n",
            "Date\n",
            "2021-06-30    14.140000\n",
            "2021-08-31     9.944651\n",
            "2021-10-31     8.336190\n",
            "2021-12-31     7.315238\n",
            "Freq: 2M, Name: Close, dtype: float64\n"
          ]
        }
      ]
    },
    {
      "cell_type": "markdown",
      "metadata": {
        "id": "iy4RqsnwL-Bw"
      },
      "source": [
        "Besides the mean() method, other methods can also be used with the resampler:\n",
        "\n"
      ]
    },
    {
      "cell_type": "code",
      "metadata": {
        "colab": {
          "base_uri": "https://localhost:8080/"
        },
        "id": "DNT8Fx9dHW96",
        "outputId": "600895ab-a44b-4937-ebfc-fe4166351b94"
      },
      "source": [
        "std = aapl.resample('W').std()\n",
        "max = aapl.resample('W').max()\n",
        "min = aapl.resample('W').min()\n",
        "\n",
        "\n",
        "print(std)\n",
        "print(max)\n",
        "print(min)"
      ],
      "execution_count": 211,
      "outputs": [
        {
          "output_type": "stream",
          "name": "stdout",
          "text": [
            "Date\n",
            "2017-01-08    0.202813\n",
            "2017-01-15    0.072332\n",
            "2017-01-22    0.025483\n",
            "2017-01-29    0.244618\n",
            "2017-02-05    0.940688\n",
            "2017-02-12    0.251313\n",
            "2017-02-19    0.230758\n",
            "2017-02-26    0.059183\n",
            "2017-03-05    0.339162\n",
            "2017-03-12    0.076080\n",
            "2017-03-19    0.177348\n",
            "2017-03-26    0.156835\n",
            "2017-04-02    0.318933\n",
            "2017-04-09    0.128336\n",
            "2017-04-16    0.211895\n",
            "2017-04-23    0.174197\n",
            "2017-04-30    0.089782\n",
            "2017-05-07    0.234998\n",
            "2017-05-14    0.352015\n",
            "2017-05-21    0.534634\n",
            "2017-05-28    0.060228\n",
            "2017-06-04    0.280458\n",
            "2017-06-11    0.618343\n",
            "2017-06-18    0.381524\n",
            "2017-06-25    0.128541\n",
            "2017-07-02    0.263389\n",
            "2017-07-09    0.158458\n",
            "2017-07-16    0.403177\n",
            "2017-07-23    0.124648\n",
            "2017-07-30    0.383390\n",
            "2017-08-06    0.921870\n",
            "2017-08-13    0.466192\n",
            "2017-08-20    0.434066\n",
            "2017-08-27    0.275014\n",
            "2017-09-03    0.251038\n",
            "2017-09-10    0.380599\n",
            "2017-09-17    0.293338\n",
            "2017-09-24    0.733187\n",
            "2017-10-01    0.353876\n",
            "2017-10-08    0.204297\n",
            "2017-10-15    0.118413\n",
            "2017-10-22    0.515587\n",
            "2017-10-29    0.678596\n",
            "2017-11-05    0.559156\n",
            "2017-11-12    0.190450\n",
            "2017-11-19    0.435009\n",
            "2017-11-26    0.561509\n",
            "2017-12-03    0.426281\n",
            "2017-12-10    0.072930\n",
            "2017-12-17    0.204708\n",
            "2017-12-24    0.193597\n",
            "2017-12-31    0.189873\n",
            "Freq: W-SUN, Name: Close, dtype: float64\n",
            "Date\n",
            "2017-01-08    27.711332\n",
            "2017-01-15    28.143766\n",
            "2017-01-22    28.202522\n",
            "2017-01-29    28.660812\n",
            "2017-02-05    30.336514\n",
            "2017-02-12    31.256413\n",
            "2017-02-19    32.035339\n",
            "2017-02-26    32.363441\n",
            "2017-03-05    32.996025\n",
            "2017-03-12    32.932297\n",
            "2017-03-19    33.208466\n",
            "2017-03-26    33.390213\n",
            "2017-04-02    34.018082\n",
            "2017-04-09    34.171509\n",
            "2017-04-16    33.793839\n",
            "2017-04-23    33.621540\n",
            "2017-04-30    34.114861\n",
            "2017-05-07    35.160519\n",
            "2017-05-14    36.997929\n",
            "2017-05-21    36.903122\n",
            "2017-05-28    36.497829\n",
            "2017-06-04    36.843868\n",
            "2017-06-11    36.824905\n",
            "2017-06-18    34.743919\n",
            "2017-06-25    34.684669\n",
            "2017-07-02    34.563789\n",
            "2017-07-09    34.172710\n",
            "2017-07-16    35.324596\n",
            "2017-07-23    35.793892\n",
            "2017-07-30    36.372200\n",
            "2017-08-06    37.244415\n",
            "2017-08-13    38.173512\n",
            "2017-08-20    38.451920\n",
            "2017-08-27    38.066444\n",
            "2017-09-03    39.034882\n",
            "2017-09-10    38.566132\n",
            "2017-09-17    38.428120\n",
            "2017-09-24    37.769012\n",
            "2017-10-01    36.698261\n",
            "2017-10-08    36.974270\n",
            "2017-10-15    37.355000\n",
            "2017-10-22    38.183033\n",
            "2017-10-29    38.796928\n",
            "2017-11-05    41.045521\n",
            "2017-11-12    41.935429\n",
            "2017-11-19    41.544109\n",
            "2017-11-26    41.782902\n",
            "2017-12-03    41.572762\n",
            "2017-12-10    40.548302\n",
            "2017-12-17    41.544109\n",
            "2017-12-24    42.129169\n",
            "2017-12-31    40.853970\n",
            "Freq: W-SUN, Name: Close, dtype: float64\n",
            "Date\n",
            "2017-01-08    27.267143\n",
            "2017-01-15    27.965147\n",
            "2017-01-22    28.150820\n",
            "2017-01-29    28.195471\n",
            "2017-02-05    28.519798\n",
            "2017-02-12    30.620893\n",
            "2017-02-19    31.461775\n",
            "2017-02-26    32.226540\n",
            "2017-03-05    32.320950\n",
            "2017-03-12    32.734013\n",
            "2017-03-19    32.807205\n",
            "2017-03-26    33.007828\n",
            "2017-04-02    33.253315\n",
            "2017-04-09    33.833977\n",
            "2017-04-16    33.293434\n",
            "2017-04-23    33.206104\n",
            "2017-04-30    33.904774\n",
            "2017-05-07    34.586933\n",
            "2017-05-14    36.116482\n",
            "2017-05-21    35.611385\n",
            "2017-05-28    36.343765\n",
            "2017-06-04    36.206295\n",
            "2017-06-11    35.310383\n",
            "2017-06-18    33.720013\n",
            "2017-06-25    34.369442\n",
            "2017-07-02    34.054199\n",
            "2017-07-09    33.829041\n",
            "2017-07-16    34.381287\n",
            "2017-07-23    35.447849\n",
            "2017-07-30    35.433636\n",
            "2017-08-06    35.251125\n",
            "2017-08-13    36.957619\n",
            "2017-08-20    37.476337\n",
            "2017-08-27    37.407337\n",
            "2017-09-03    38.420982\n",
            "2017-09-10    37.745216\n",
            "2017-09-17    37.661934\n",
            "2017-09-24    36.141468\n",
            "2017-10-01    35.822624\n",
            "2017-10-08    36.519794\n",
            "2017-10-15    37.081345\n",
            "2017-10-22    37.114658\n",
            "2017-10-29    37.159866\n",
            "2017-11-05    39.670193\n",
            "2017-11-12    41.461918\n",
            "2017-11-19    40.376377\n",
            "2017-11-26    40.591286\n",
            "2017-12-03    40.471889\n",
            "2017-12-10    40.359650\n",
            "2017-12-17    41.002026\n",
            "2017-12-24    41.634850\n",
            "2017-12-31    40.412189\n",
            "Freq: W-SUN, Name: Close, dtype: float64\n"
          ]
        }
      ]
    },
    {
      "cell_type": "code",
      "source": [
        "desvStandar = didi.resample('W').std()    #Se puede usar cualquier método estadístico - Desv. Estandar por semana\n",
        "maximoH = didi.resample('W').max()    #Maximo historico por semana\n",
        "minimoH = didi.resample('W').min()    #Minimo historico por semana\n",
        "\n",
        "\n",
        "print(desvStandar)\n",
        "print(maximoH)\n",
        "print(minimoH)"
      ],
      "metadata": {
        "colab": {
          "base_uri": "https://localhost:8080/"
        },
        "id": "l4HbWOp2gytK",
        "outputId": "d638a8af-9c52-4745-f703-535eb2621f4d"
      },
      "execution_count": 212,
      "outputs": [
        {
          "output_type": "stream",
          "name": "stdout",
          "text": [
            "Date\n",
            "2021-07-04    1.139927\n",
            "2021-07-11    0.529402\n",
            "2021-07-18    0.578947\n",
            "2021-07-25    1.397956\n",
            "2021-08-01    1.038379\n",
            "2021-08-08    0.467899\n",
            "2021-08-15    0.454456\n",
            "2021-08-22    0.505599\n",
            "2021-08-29    0.357939\n",
            "2021-09-05    0.464844\n",
            "2021-09-12    0.471487\n",
            "2021-09-19    0.193210\n",
            "2021-09-26    0.219021\n",
            "2021-10-03    0.248757\n",
            "2021-10-10    0.349099\n",
            "2021-10-17    0.081055\n",
            "2021-10-24    0.620589\n",
            "2021-10-31    0.291513\n",
            "2021-11-07    0.130843\n",
            "2021-11-14    0.602885\n",
            "2021-11-21    0.323929\n",
            "2021-11-28    0.120277\n",
            "2021-12-05    0.760776\n",
            "2021-12-12    0.282011\n",
            "2021-12-19    0.131072\n",
            "2021-12-26    0.213131\n",
            "2022-01-02    0.191725\n",
            "Freq: W-SUN, Name: Close, dtype: float64\n",
            "Date\n",
            "2021-07-04    16.40\n",
            "2021-07-11    12.49\n",
            "2021-07-18    12.62\n",
            "2021-07-25    11.50\n",
            "2021-08-01    10.31\n",
            "2021-08-08    10.38\n",
            "2021-08-15     9.54\n",
            "2021-08-22     8.47\n",
            "2021-08-29     8.70\n",
            "2021-09-05     9.20\n",
            "2021-09-12     9.69\n",
            "2021-09-19     8.67\n",
            "2021-09-26     8.18\n",
            "2021-10-03     8.24\n",
            "2021-10-10     8.17\n",
            "2021-10-17     8.45\n",
            "2021-10-24     9.81\n",
            "2021-10-31     8.83\n",
            "2021-11-07     8.46\n",
            "2021-11-14     9.51\n",
            "2021-11-21     9.01\n",
            "2021-11-28     8.13\n",
            "2021-12-05     7.81\n",
            "2021-12-12     7.20\n",
            "2021-12-19     6.42\n",
            "2021-12-26     6.04\n",
            "2022-01-02     5.38\n",
            "Freq: W-SUN, Name: Close, dtype: float64\n",
            "Date\n",
            "2021-07-04    14.14\n",
            "2021-07-11    11.21\n",
            "2021-07-18    11.16\n",
            "2021-07-25     8.06\n",
            "2021-08-01     8.04\n",
            "2021-08-08     9.31\n",
            "2021-08-15     8.32\n",
            "2021-08-22     7.20\n",
            "2021-08-29     7.72\n",
            "2021-09-05     8.18\n",
            "2021-09-12     8.55\n",
            "2021-09-19     8.17\n",
            "2021-09-26     7.61\n",
            "2021-10-03     7.58\n",
            "2021-10-10     7.27\n",
            "2021-10-17     8.26\n",
            "2021-10-24     8.24\n",
            "2021-10-31     8.07\n",
            "2021-11-07     8.12\n",
            "2021-11-14     8.12\n",
            "2021-11-21     8.30\n",
            "2021-11-28     7.88\n",
            "2021-12-05     6.07\n",
            "2021-12-12     6.49\n",
            "2021-12-19     6.07\n",
            "2021-12-26     5.60\n",
            "2022-01-02     4.94\n",
            "Freq: W-SUN, Name: Close, dtype: float64\n"
          ]
        }
      ]
    },
    {
      "cell_type": "markdown",
      "metadata": {
        "id": "uqln0s5DMI3I"
      },
      "source": [
        "Often we want to calculate monthly returns of a stock, based on prices on the last day of each month. To fetch those prices, we use the series.resample.agg() method:"
      ]
    },
    {
      "cell_type": "code",
      "metadata": {
        "colab": {
          "base_uri": "https://localhost:8080/"
        },
        "id": "A6FSYvqbHW97",
        "outputId": "71865287-d34a-4df4-af38-4a2cc7cf7f40"
      },
      "source": [
        "last_day = aapl.resample('M').agg(lambda x: x[-1])\n",
        "print(last_day)"
      ],
      "execution_count": 213,
      "outputs": [
        {
          "output_type": "stream",
          "name": "stdout",
          "text": [
            "Date\n",
            "2017-01-31    28.519798\n",
            "2017-02-28    32.335121\n",
            "2017-03-31    33.909504\n",
            "2017-04-30    33.907143\n",
            "2017-05-31    36.206295\n",
            "2017-06-30    34.134792\n",
            "2017-07-31    35.251125\n",
            "2017-08-31    39.022984\n",
            "2017-09-30    36.672081\n",
            "2017-10-31    40.222221\n",
            "2017-11-30    41.037853\n",
            "2017-12-31    40.412189\n",
            "Freq: M, Name: Close, dtype: float64\n"
          ]
        }
      ]
    },
    {
      "cell_type": "code",
      "source": [
        "diaApertura = didi.resample('M').agg(lambda x: x[0])  #podemos especificar que nos coloque una fecha deseada mensualmente o anual\n",
        "print(diaApertura)"
      ],
      "metadata": {
        "colab": {
          "base_uri": "https://localhost:8080/"
        },
        "id": "ufYc-ntfhGT-",
        "outputId": "f4e69b7f-b851-4a5e-d20f-4ae9bef0b20e"
      },
      "execution_count": 214,
      "outputs": [
        {
          "output_type": "stream",
          "name": "stdout",
          "text": [
            "Date\n",
            "2021-06-30    14.14\n",
            "2021-07-31    16.40\n",
            "2021-08-31    10.38\n",
            "2021-09-30     9.20\n",
            "2021-10-31     7.58\n",
            "2021-11-30     8.46\n",
            "2021-12-31     7.81\n",
            "Freq: M, Name: Close, dtype: float64\n"
          ]
        }
      ]
    },
    {
      "cell_type": "markdown",
      "metadata": {
        "id": "uwomY3aXMR46"
      },
      "source": [
        "Or directly calculate the monthly rates of return using the data for the first day and the last day:"
      ]
    },
    {
      "cell_type": "code",
      "metadata": {
        "colab": {
          "base_uri": "https://localhost:8080/"
        },
        "id": "qK2NMJrNHW96",
        "outputId": "e0ea1563-09d3-45fa-c003-d0f2cb03662e"
      },
      "source": [
        "monthly_return = aapl.resample('M').agg(lambda x: x[-1]/x[0] - 1)\n",
        "print(monthly_return)"
      ],
      "execution_count": 215,
      "outputs": [
        {
          "output_type": "stream",
          "name": "stdout",
          "text": [
            "Date\n",
            "2017-01-31    0.044770\n",
            "2017-02-28    0.068613\n",
            "2017-03-31    0.027685\n",
            "2017-04-30   -0.000348\n",
            "2017-05-31    0.046463\n",
            "2017-06-30   -0.059799\n",
            "2017-07-31    0.036446\n",
            "2017-08-31    0.097261\n",
            "2017-09-30   -0.060530\n",
            "2017-10-31    0.099018\n",
            "2017-11-30    0.033422\n",
            "2017-12-31   -0.010640\n",
            "Freq: M, Name: Close, dtype: float64\n"
          ]
        }
      ]
    },
    {
      "cell_type": "code",
      "source": [
        "retornoMensual = didi.resample('M').agg(lambda x: x[-1]/x[0] - 1)   #O aplicar formulas directas sobre la indexación\n",
        "print(retornoMensual)"
      ],
      "metadata": {
        "colab": {
          "base_uri": "https://localhost:8080/"
        },
        "id": "ecBJI3DkhdVm",
        "outputId": "0cdf5a80-8be7-40c1-ddca-c53e3c94e4af"
      },
      "execution_count": 216,
      "outputs": [
        {
          "output_type": "stream",
          "name": "stdout",
          "text": [
            "Date\n",
            "2021-06-30    0.000000\n",
            "2021-07-31   -0.371341\n",
            "2021-08-31   -0.208092\n",
            "2021-09-30   -0.153261\n",
            "2021-10-31    0.064644\n",
            "2021-11-30   -0.098109\n",
            "2021-12-31   -0.330346\n",
            "Freq: M, Name: Close, dtype: float64\n"
          ]
        }
      ]
    },
    {
      "cell_type": "markdown",
      "metadata": {
        "id": "_DYbMTFWMj8J"
      },
      "source": [
        "Series object also provides us some convenient methods to do some quick calculation."
      ]
    },
    {
      "cell_type": "code",
      "metadata": {
        "colab": {
          "base_uri": "https://localhost:8080/"
        },
        "id": "1Mxc0HwvHW98",
        "outputId": "e74d90d4-7a50-42d4-ff8e-cae0aebd43bd"
      },
      "source": [
        "print(monthly_return.mean())\n",
        "print(monthly_return.std())\n",
        "print(monthly_return.max())"
      ],
      "execution_count": 217,
      "outputs": [
        {
          "output_type": "stream",
          "name": "stdout",
          "text": [
            "0.026863347374179575\n",
            "0.052258541662130856\n",
            "0.09901812908463614\n"
          ]
        }
      ]
    },
    {
      "cell_type": "code",
      "source": [
        "print(retornoMensual.mean())    #devuelve la media de retornoMensual de didi\n",
        "print(retornoMensual.std())     #devuelve la desviación estandar de retornoMensual de didi\n",
        "print(retornoMensual.max())     #devuelve el valor máximos de retornoMensual de didi"
      ],
      "metadata": {
        "colab": {
          "base_uri": "https://localhost:8080/"
        },
        "id": "6zum9lb9hl_S",
        "outputId": "813b8ec5-1944-4d3b-bede-02e5894f54b0"
      },
      "execution_count": 218,
      "outputs": [
        {
          "output_type": "stream",
          "name": "stdout",
          "text": [
            "-0.15664363126470823\n",
            "0.16117157143477615\n",
            "0.06464376992745291\n"
          ]
        }
      ]
    },
    {
      "cell_type": "markdown",
      "metadata": {
        "id": "mn59J5dqMpqX"
      },
      "source": [
        "Another two methods frequently used on Series are .diff() and .pct_change(). The former calculates the difference between consecutive elements, and the latter calculates the percentage change."
      ]
    },
    {
      "cell_type": "code",
      "metadata": {
        "colab": {
          "base_uri": "https://localhost:8080/"
        },
        "id": "DupZTSqqHW99",
        "outputId": "db8a4649-5ff3-4656-aa6c-2feca7fb9591"
      },
      "source": [
        "print(last_day.diff())\n",
        "print(last_day.pct_change())"
      ],
      "execution_count": 219,
      "outputs": [
        {
          "output_type": "stream",
          "name": "stdout",
          "text": [
            "Date\n",
            "2017-01-31         NaN\n",
            "2017-02-28    3.815323\n",
            "2017-03-31    1.574383\n",
            "2017-04-30   -0.002361\n",
            "2017-05-31    2.299152\n",
            "2017-06-30   -2.071503\n",
            "2017-07-31    1.116333\n",
            "2017-08-31    3.771858\n",
            "2017-09-30   -2.350903\n",
            "2017-10-31    3.550140\n",
            "2017-11-30    0.815632\n",
            "2017-12-31   -0.625664\n",
            "Freq: M, Name: Close, dtype: float64\n",
            "Date\n",
            "2017-01-31         NaN\n",
            "2017-02-28    0.133778\n",
            "2017-03-31    0.048690\n",
            "2017-04-30   -0.000070\n",
            "2017-05-31    0.067807\n",
            "2017-06-30   -0.057214\n",
            "2017-07-31    0.032704\n",
            "2017-08-31    0.107000\n",
            "2017-09-30   -0.060244\n",
            "2017-10-31    0.096808\n",
            "2017-11-30    0.020278\n",
            "2017-12-31   -0.015246\n",
            "Freq: M, Name: Close, dtype: float64\n"
          ]
        }
      ]
    },
    {
      "cell_type": "code",
      "source": [
        "print(diaApertura.diff())\n",
        "print(diaApertura.pct_change())"
      ],
      "metadata": {
        "colab": {
          "base_uri": "https://localhost:8080/"
        },
        "id": "lJWrHiMAh1ZA",
        "outputId": "e016343e-00b8-4278-8668-05923c6a1de5"
      },
      "execution_count": 220,
      "outputs": [
        {
          "output_type": "stream",
          "name": "stdout",
          "text": [
            "Date\n",
            "2021-06-30         NaN\n",
            "2021-07-31    2.259999\n",
            "2021-08-31   -6.020000\n",
            "2021-09-30   -1.180000\n",
            "2021-10-31   -1.620000\n",
            "2021-11-30    0.880000\n",
            "2021-12-31   -0.650000\n",
            "Freq: M, Name: Close, dtype: float64\n",
            "Date\n",
            "2021-06-30         NaN\n",
            "2021-07-31    0.159830\n",
            "2021-08-31   -0.367073\n",
            "2021-09-30   -0.113680\n",
            "2021-10-31   -0.176087\n",
            "2021-11-30    0.116095\n",
            "2021-12-31   -0.076832\n",
            "Freq: M, Name: Close, dtype: float64\n"
          ]
        }
      ]
    },
    {
      "cell_type": "markdown",
      "metadata": {
        "id": "RaMAOFepM6Io"
      },
      "source": [
        "Notice that we induced a NaN value while calculating percentage changes i.e. returns.\n",
        "\n",
        "When dealing with NaN values, we usually either removing the data point or fill it with a specific value. Here we fill it with 0:"
      ]
    },
    {
      "cell_type": "code",
      "metadata": {
        "colab": {
          "base_uri": "https://localhost:8080/"
        },
        "id": "-xyLb3A3HW99",
        "outputId": "f574a09a-4788-49ed-96fb-2c701c61d7d1"
      },
      "source": [
        "daily_return = last_day.pct_change()\n",
        "print(daily_return.fillna(0))"
      ],
      "execution_count": 221,
      "outputs": [
        {
          "output_type": "stream",
          "name": "stdout",
          "text": [
            "Date\n",
            "2017-01-31    0.000000\n",
            "2017-02-28    0.133778\n",
            "2017-03-31    0.048690\n",
            "2017-04-30   -0.000070\n",
            "2017-05-31    0.067807\n",
            "2017-06-30   -0.057214\n",
            "2017-07-31    0.032704\n",
            "2017-08-31    0.107000\n",
            "2017-09-30   -0.060244\n",
            "2017-10-31    0.096808\n",
            "2017-11-30    0.020278\n",
            "2017-12-31   -0.015246\n",
            "Freq: M, Name: Close, dtype: float64\n"
          ]
        }
      ]
    },
    {
      "cell_type": "code",
      "source": [
        "retornoDiario = diaApertura.pct_change()\n",
        "print(retornoDiario.fillna(0))  #usamos fillna(0) para rellenar los NaN con valores lógicos"
      ],
      "metadata": {
        "colab": {
          "base_uri": "https://localhost:8080/"
        },
        "id": "lom1k7MZir8R",
        "outputId": "51599f9c-de58-4633-ac84-372b9270bdc3"
      },
      "execution_count": 222,
      "outputs": [
        {
          "output_type": "stream",
          "name": "stdout",
          "text": [
            "Date\n",
            "2021-06-30    0.000000\n",
            "2021-07-31    0.159830\n",
            "2021-08-31   -0.367073\n",
            "2021-09-30   -0.113680\n",
            "2021-10-31   -0.176087\n",
            "2021-11-30    0.116095\n",
            "2021-12-31   -0.076832\n",
            "Freq: M, Name: Close, dtype: float64\n"
          ]
        }
      ]
    },
    {
      "cell_type": "markdown",
      "metadata": {
        "id": "BYS10Om1NQVC"
      },
      "source": [
        "Alternatively, we can fill a NaN with the next fitted value. This is called 'backward fill', or 'bfill' in short:"
      ]
    },
    {
      "cell_type": "code",
      "metadata": {
        "colab": {
          "base_uri": "https://localhost:8080/"
        },
        "id": "J513kHeKHW9-",
        "outputId": "956b0139-cb70-4bec-9485-12b61d11197a"
      },
      "source": [
        "daily_return = last_day.pct_change()\n",
        "print(daily_return.fillna(method = 'bfill'))"
      ],
      "execution_count": 223,
      "outputs": [
        {
          "output_type": "stream",
          "name": "stdout",
          "text": [
            "Date\n",
            "2017-01-31    0.133778\n",
            "2017-02-28    0.133778\n",
            "2017-03-31    0.048690\n",
            "2017-04-30   -0.000070\n",
            "2017-05-31    0.067807\n",
            "2017-06-30   -0.057214\n",
            "2017-07-31    0.032704\n",
            "2017-08-31    0.107000\n",
            "2017-09-30   -0.060244\n",
            "2017-10-31    0.096808\n",
            "2017-11-30    0.020278\n",
            "2017-12-31   -0.015246\n",
            "Freq: M, Name: Close, dtype: float64\n"
          ]
        }
      ]
    },
    {
      "cell_type": "code",
      "source": [
        "retornoDiario = diaApertura.pct_change()\n",
        "print(retornoDiario.fillna(method = 'bfill')) #Existen métodos específicos para resolver dicho inconveniente"
      ],
      "metadata": {
        "colab": {
          "base_uri": "https://localhost:8080/"
        },
        "id": "fmB4C26ai3xP",
        "outputId": "d3ff783b-3e31-4527-eed3-55d364f5483b"
      },
      "execution_count": 224,
      "outputs": [
        {
          "output_type": "stream",
          "name": "stdout",
          "text": [
            "Date\n",
            "2021-06-30    0.159830\n",
            "2021-07-31    0.159830\n",
            "2021-08-31   -0.367073\n",
            "2021-09-30   -0.113680\n",
            "2021-10-31   -0.176087\n",
            "2021-11-30    0.116095\n",
            "2021-12-31   -0.076832\n",
            "Freq: M, Name: Close, dtype: float64\n"
          ]
        }
      ]
    },
    {
      "cell_type": "markdown",
      "metadata": {
        "id": "bj8QUSgdNepf"
      },
      "source": [
        "As expected, since there is a 'backward fill' method, there must be a 'forward fill' method, or 'ffill' in short. However we can't use it here because the NaN is the first value.\n",
        "\n",
        "We can also simply remove NaN values by **_.dropna()_**"
      ]
    },
    {
      "cell_type": "code",
      "metadata": {
        "colab": {
          "base_uri": "https://localhost:8080/"
        },
        "id": "WG5ux1lqHW9-",
        "outputId": "5144fd03-c050-4c9a-f4af-74929427245c"
      },
      "source": [
        "daily_return = last_day.pct_change()\n",
        "daily_return.dropna()"
      ],
      "execution_count": 225,
      "outputs": [
        {
          "output_type": "execute_result",
          "data": {
            "text/plain": [
              "Date\n",
              "2017-02-28    0.133778\n",
              "2017-03-31    0.048690\n",
              "2017-04-30   -0.000070\n",
              "2017-05-31    0.067807\n",
              "2017-06-30   -0.057214\n",
              "2017-07-31    0.032704\n",
              "2017-08-31    0.107000\n",
              "2017-09-30   -0.060244\n",
              "2017-10-31    0.096808\n",
              "2017-11-30    0.020278\n",
              "2017-12-31   -0.015246\n",
              "Freq: M, Name: Close, dtype: float64"
            ]
          },
          "metadata": {},
          "execution_count": 225
        }
      ]
    },
    {
      "cell_type": "code",
      "source": [
        "retornoDiario = diaApertura.pct_change()\n",
        "retornoDiario.dropna() #o simplemente los eliminamos para que no se tomen en cuenta"
      ],
      "metadata": {
        "colab": {
          "base_uri": "https://localhost:8080/"
        },
        "id": "oikbY0i9jBdI",
        "outputId": "d32a7190-726e-42e1-cd5a-c10eccbc3c05"
      },
      "execution_count": 226,
      "outputs": [
        {
          "output_type": "execute_result",
          "data": {
            "text/plain": [
              "Date\n",
              "2021-07-31    0.159830\n",
              "2021-08-31   -0.367073\n",
              "2021-09-30   -0.113680\n",
              "2021-10-31   -0.176087\n",
              "2021-11-30    0.116095\n",
              "2021-12-31   -0.076832\n",
              "Freq: M, Name: Close, dtype: float64"
            ]
          },
          "metadata": {},
          "execution_count": 226
        }
      ]
    },
    {
      "cell_type": "markdown",
      "metadata": {
        "id": "nQH2eBWkNjdC"
      },
      "source": [
        "# DataFrame\n",
        "The **DataFrame** is the most commonly used data structure in Pandas. It is essentially a table, just like an Excel spreadsheet.\n",
        "\n",
        "More precisely, a DataFrame is a collection of Series objects, each of which may contain different data types. A DataFrame can be created from various data types: dictionary, 2-D numpy.ndarray, a Series or another DataFrame.\n",
        "\n",
        "## Create DataFrames\n",
        "The most common method of creating a DataFrame is passing a dictionary:"
      ]
    },
    {
      "cell_type": "code",
      "metadata": {
        "colab": {
          "base_uri": "https://localhost:8080/"
        },
        "id": "vd5Wf1ohHW9-",
        "outputId": "5e9c9210-0c2d-4c52-8b1f-dfe2b6ce0fb2"
      },
      "source": [
        "import pandas as pd\n",
        "\n",
        "dict = {'AAPL': [143.5, 144.09, 142.73, 144.18, 143.77],'GOOG':[898.7, 911.71, 906.69, 918.59, 926.99],\n",
        "        'IBM':[155.58, 153.67, 152.36, 152.94, 153.49]}\n",
        "data_index = pd.date_range('2017-07-03',periods = 5, freq = 'D')\n",
        "df = pd.DataFrame(dict, index = data_index)\n",
        "print(df)"
      ],
      "execution_count": 227,
      "outputs": [
        {
          "output_type": "stream",
          "name": "stdout",
          "text": [
            "              AAPL    GOOG     IBM\n",
            "2017-07-03  143.50  898.70  155.58\n",
            "2017-07-04  144.09  911.71  153.67\n",
            "2017-07-05  142.73  906.69  152.36\n",
            "2017-07-06  144.18  918.59  152.94\n",
            "2017-07-07  143.77  926.99  153.49\n"
          ]
        }
      ]
    },
    {
      "cell_type": "code",
      "source": [
        "import pandas as pd\n",
        "\n",
        "dict = {'DIDI': [143.5, 144.09, 142.73, 144.18, 143.77],\n",
        "        'HYMC':[898.7, 911.71, 906.69, 918.59, 926.99],\n",
        "        'DOCU':[155.58, 153.67, 152.36, 152.94, 153.49]}\n",
        "indiceDatos = pd.date_range('2021-07-03',periods = 5, freq = 'D')   #Establecemos un rango de 5 fechas a partir del 3 de Julio con frecuencia diaria\n",
        "dataFrameDatos = pd.DataFrame(dict, index = indiceDatos)  #Indexamos cada fecha con su valor correspondiente\n",
        "print(dataFrameDatos)"
      ],
      "metadata": {
        "colab": {
          "base_uri": "https://localhost:8080/"
        },
        "id": "tbYPqivEjNJY",
        "outputId": "9b0e3cea-df6e-4d83-b169-c81699d069f3"
      },
      "execution_count": 228,
      "outputs": [
        {
          "output_type": "stream",
          "name": "stdout",
          "text": [
            "              DIDI    HYMC    DOCU\n",
            "2021-07-03  143.50  898.70  155.58\n",
            "2021-07-04  144.09  911.71  153.67\n",
            "2021-07-05  142.73  906.69  152.36\n",
            "2021-07-06  144.18  918.59  152.94\n",
            "2021-07-07  143.77  926.99  153.49\n"
          ]
        }
      ]
    },
    {
      "cell_type": "markdown",
      "metadata": {
        "id": "0uYmLQTgOPnX"
      },
      "source": [
        "## Manipulating DataFrames\n",
        "We can fetch values in a DataFrame by columns and index. Each column in a DataFrame is essentially a Pandas Series. We can fetch a column by square brackets: **df['column_name']**\n",
        "\n",
        "If a column name contains no spaces, then we can also use df.column_name to fetch a column:"
      ]
    },
    {
      "cell_type": "code",
      "metadata": {
        "colab": {
          "base_uri": "https://localhost:8080/"
        },
        "id": "2pB2f7lBHW9_",
        "outputId": "c0357f26-bfbb-4546-998d-82ddd5fd2b31"
      },
      "source": [
        "df = aapl_table\n",
        "print(df.Close.tail(5))\n",
        "print(df['Volume'].tail(5))"
      ],
      "execution_count": 229,
      "outputs": [
        {
          "output_type": "stream",
          "name": "stdout",
          "text": [
            "Date\n",
            "2017-12-22    41.792454\n",
            "2017-12-26    40.732185\n",
            "2017-12-27    40.739346\n",
            "2017-12-28    40.853970\n",
            "2017-12-29    40.412189\n",
            "Name: Close, dtype: float64\n",
            "Date\n",
            "2017-12-22     65397600\n",
            "2017-12-26    132742000\n",
            "2017-12-27     85992800\n",
            "2017-12-28     65920800\n",
            "2017-12-29    103999600\n",
            "Name: Volume, dtype: int64\n"
          ]
        }
      ]
    },
    {
      "cell_type": "code",
      "source": [
        "dataFrameDatos = tablaDidi    #almacenamos la tabla como dataframe\n",
        "print(dataFrameDatos.Close.tail(5))     #imprimimos los últimos 5 elementos\n",
        "print(dataFrameDatos['Volume'].tail(5))   #imprimimos los ultimos 5 elementos pero mostrando la columna Volumen"
      ],
      "metadata": {
        "colab": {
          "base_uri": "https://localhost:8080/"
        },
        "id": "dh2dWBeNl6MI",
        "outputId": "352693fc-e514-449c-9d59-37d63aa9287a"
      },
      "execution_count": 230,
      "outputs": [
        {
          "output_type": "stream",
          "name": "stdout",
          "text": [
            "Date\n",
            "2021-12-23    5.60\n",
            "2021-12-27    5.30\n",
            "2021-12-28    5.38\n",
            "2021-12-29    4.94\n",
            "2021-12-30    5.23\n",
            "Name: Close, dtype: float64\n",
            "Date\n",
            "2021-12-23    13586700\n",
            "2021-12-27    21146400\n",
            "2021-12-28    24931700\n",
            "2021-12-29    43077600\n",
            "2021-12-30    35834400\n",
            "Name: Volume, dtype: int64\n"
          ]
        }
      ]
    },
    {
      "cell_type": "markdown",
      "metadata": {
        "id": "z0ugOel9O4-P"
      },
      "source": [
        "All the methods we applied to a Series index such as iloc[], loc[] and resampling methods, can also be applied to a DataFrame:"
      ]
    },
    {
      "cell_type": "code",
      "metadata": {
        "colab": {
          "base_uri": "https://localhost:8080/"
        },
        "id": "_8dfjkedHW9_",
        "outputId": "06cafacb-e05b-4a30-e01b-56c23f66ca78"
      },
      "source": [
        "aapl_2016 = df['2016']\n",
        "aapl_month = aapl_2016.resample('M').agg(lambda x: x[-1])\n",
        "print(aapl_month)"
      ],
      "execution_count": 231,
      "outputs": [
        {
          "output_type": "stream",
          "name": "stdout",
          "text": [
            "                 Open       High        Low      Close     Volume  Dividends  \\\n",
            "Date                                                                           \n",
            "2016-01-31  21.792773  22.379032  21.691614  22.379032  257666000        0.0   \n",
            "2016-02-29  22.389513  22.706194  22.340971  22.350218  140865200        0.0   \n",
            "2016-03-31  25.362146  25.403754  25.167976  25.193403  103553600        0.0   \n",
            "2016-04-30  21.726095  21.894837  21.383989  21.668306  274126000        0.0   \n",
            "2016-05-31  23.163046  23.349096  22.981649  23.223513  169228800        0.0   \n",
            "2016-06-30  21.963036  22.272340  21.930477  22.232805  143345600        0.0   \n",
            "2016-07-31  24.230499  24.314221  24.111893  24.235149  110934800        0.0   \n",
            "2016-08-31  24.705474  24.918249  24.700796  24.808353  118649600        0.0   \n",
            "2016-09-30  26.295456  26.508233  26.141135  26.433411  145516400        0.0   \n",
            "2016-10-31  26.573704  26.709320  26.468483  26.547983  105677600        0.0   \n",
            "2016-11-30  26.228351  26.369363  25.915772  25.974527  144649200        0.0   \n",
            "2016-12-31  27.415201  27.544461  27.128475  27.220133  122345200        0.0   \n",
            "\n",
            "            Stock Splits  \n",
            "Date                      \n",
            "2016-01-31             0  \n",
            "2016-02-29             0  \n",
            "2016-03-31             0  \n",
            "2016-04-30             0  \n",
            "2016-05-31             0  \n",
            "2016-06-30             0  \n",
            "2016-07-31             0  \n",
            "2016-08-31             0  \n",
            "2016-09-30             0  \n",
            "2016-10-31             0  \n",
            "2016-11-30             0  \n",
            "2016-12-31             0  \n"
          ]
        },
        {
          "output_type": "stream",
          "name": "stderr",
          "text": [
            "/usr/local/lib/python3.7/dist-packages/ipykernel_launcher.py:1: FutureWarning: Indexing a DataFrame with a datetimelike index using a single string to slice the rows, like `frame[string]`, is deprecated and will be removed in a future version. Use `frame.loc[string]` instead.\n",
            "  \"\"\"Entry point for launching an IPython kernel.\n"
          ]
        }
      ]
    },
    {
      "cell_type": "code",
      "source": [
        "didi_2021 = dataFrameDatos['2021']      #Seleccionamos los datos de 2021\n",
        "didixMeses = didi_2021.resample('M').agg(lambda x: x[-1])       #Hacemos un resample para obtener los datos del ultimo dia del mes por cada mes\n",
        "print(didixMeses)"
      ],
      "metadata": {
        "colab": {
          "base_uri": "https://localhost:8080/"
        },
        "id": "Sam--kINoVSs",
        "outputId": "26ca957d-2b68-4536-b217-c2d7f3c5c37b"
      },
      "execution_count": 232,
      "outputs": [
        {
          "output_type": "stream",
          "name": "stdout",
          "text": [
            "             Open    High    Low  Close     Volume  Dividends  Stock Splits\n",
            "Date                                                                       \n",
            "2021-06-30  16.65  18.010  14.10  14.14  288155500          0             0\n",
            "2021-07-31   9.75  10.360   9.41  10.31   44250500          0             0\n",
            "2021-08-31   8.25   8.338   8.04   8.22   15134700          0             0\n",
            "2021-09-30   7.81   7.910   7.73   7.79    9125500          0             0\n",
            "2021-10-31   8.26   8.360   8.01   8.07   13013300          0             0\n",
            "2021-11-30   7.67   7.830   7.24   7.63   29389600          0             0\n",
            "2021-12-31   4.78   5.300   4.76   5.23   35834400          0             0\n"
          ]
        },
        {
          "output_type": "stream",
          "name": "stderr",
          "text": [
            "/usr/local/lib/python3.7/dist-packages/ipykernel_launcher.py:1: FutureWarning: Indexing a DataFrame with a datetimelike index using a single string to slice the rows, like `frame[string]`, is deprecated and will be removed in a future version. Use `frame.loc[string]` instead.\n",
            "  \"\"\"Entry point for launching an IPython kernel.\n"
          ]
        }
      ]
    },
    {
      "cell_type": "markdown",
      "metadata": {
        "id": "CqrbrbFZPTJe"
      },
      "source": [
        "We may select certain columns of a DataFrame using their names:"
      ]
    },
    {
      "cell_type": "code",
      "metadata": {
        "colab": {
          "base_uri": "https://localhost:8080/"
        },
        "id": "7bQGeyCAHW9_",
        "outputId": "1f6fc740-4ed0-4780-e994-55ab40b9db97"
      },
      "source": [
        "aapl_bar = aapl_month[['Open', 'High', 'Low', 'Close']]\n",
        "print(aapl_bar)"
      ],
      "execution_count": 233,
      "outputs": [
        {
          "output_type": "stream",
          "name": "stdout",
          "text": [
            "                 Open       High        Low      Close\n",
            "Date                                                  \n",
            "2016-01-31  21.792773  22.379032  21.691614  22.379032\n",
            "2016-02-29  22.389513  22.706194  22.340971  22.350218\n",
            "2016-03-31  25.362146  25.403754  25.167976  25.193403\n",
            "2016-04-30  21.726095  21.894837  21.383989  21.668306\n",
            "2016-05-31  23.163046  23.349096  22.981649  23.223513\n",
            "2016-06-30  21.963036  22.272340  21.930477  22.232805\n",
            "2016-07-31  24.230499  24.314221  24.111893  24.235149\n",
            "2016-08-31  24.705474  24.918249  24.700796  24.808353\n",
            "2016-09-30  26.295456  26.508233  26.141135  26.433411\n",
            "2016-10-31  26.573704  26.709320  26.468483  26.547983\n",
            "2016-11-30  26.228351  26.369363  25.915772  25.974527\n",
            "2016-12-31  27.415201  27.544461  27.128475  27.220133\n"
          ]
        }
      ]
    },
    {
      "cell_type": "code",
      "source": [
        "didi_bar = didixMeses[['Open', 'High', 'Low', 'Close']]   #Especificamos las columnas que deseamos visualizar\n",
        "print(didi_bar)"
      ],
      "metadata": {
        "colab": {
          "base_uri": "https://localhost:8080/"
        },
        "id": "sobJcClWpJmR",
        "outputId": "90050db1-d4e7-4fd3-9ad1-31c186dc9116"
      },
      "execution_count": 234,
      "outputs": [
        {
          "output_type": "stream",
          "name": "stdout",
          "text": [
            "             Open    High    Low  Close\n",
            "Date                                   \n",
            "2021-06-30  16.65  18.010  14.10  14.14\n",
            "2021-07-31   9.75  10.360   9.41  10.31\n",
            "2021-08-31   8.25   8.338   8.04   8.22\n",
            "2021-09-30   7.81   7.910   7.73   7.79\n",
            "2021-10-31   8.26   8.360   8.01   8.07\n",
            "2021-11-30   7.67   7.830   7.24   7.63\n",
            "2021-12-31   4.78   5.300   4.76   5.23\n"
          ]
        }
      ]
    },
    {
      "cell_type": "markdown",
      "metadata": {
        "id": "8CQaZCAQP68O"
      },
      "source": [
        "We can even specify both rows and columns using loc[]. The row indices and column names are separated by a comma:"
      ]
    },
    {
      "cell_type": "code",
      "metadata": {
        "colab": {
          "base_uri": "https://localhost:8080/"
        },
        "id": "YjWWiHVpHW-A",
        "outputId": "ef1c4d15-3ef9-4801-c8c8-7441b416025c"
      },
      "source": [
        "print(aapl_month.loc['2016-03':'2016-06',['Open', 'High', 'Low', 'Close']])"
      ],
      "execution_count": 235,
      "outputs": [
        {
          "output_type": "stream",
          "name": "stdout",
          "text": [
            "                 Open       High        Low      Close\n",
            "Date                                                  \n",
            "2016-03-31  25.362146  25.403754  25.167976  25.193403\n",
            "2016-04-30  21.726095  21.894837  21.383989  21.668306\n",
            "2016-05-31  23.163046  23.349096  22.981649  23.223513\n",
            "2016-06-30  21.963036  22.272340  21.930477  22.232805\n"
          ]
        }
      ]
    },
    {
      "cell_type": "code",
      "source": [
        "print(didixMeses.loc['2021-03':'2021-09',['Open', 'High', 'Low', 'Close']]) #Una forma más agil de presentar los datos de un DataFrame"
      ],
      "metadata": {
        "colab": {
          "base_uri": "https://localhost:8080/"
        },
        "id": "ofBEpy1UpUug",
        "outputId": "14a93206-9537-4d6e-fe5c-66165021d6d7"
      },
      "execution_count": 236,
      "outputs": [
        {
          "output_type": "stream",
          "name": "stdout",
          "text": [
            "             Open    High    Low  Close\n",
            "Date                                   \n",
            "2021-06-30  16.65  18.010  14.10  14.14\n",
            "2021-07-31   9.75  10.360   9.41  10.31\n",
            "2021-08-31   8.25   8.338   8.04   8.22\n",
            "2021-09-30   7.81   7.910   7.73   7.79\n"
          ]
        }
      ]
    },
    {
      "cell_type": "markdown",
      "metadata": {
        "id": "Xcn_pHNLQBEH"
      },
      "source": [
        "The subset methods in DataFrame is quite useful. By writing logical statements in square brackets, we can make customized subsets:"
      ]
    },
    {
      "cell_type": "code",
      "metadata": {
        "colab": {
          "base_uri": "https://localhost:8080/"
        },
        "id": "RxKg4dObHW-A",
        "outputId": "60ffffc5-0e25-4b56-9c43-0b9b54c0fc1c"
      },
      "source": [
        "import numpy as np\n",
        "\n",
        "above = aapl_bar[aapl_bar.Close > np.mean(aapl_bar.Close)]\n",
        "print(above)"
      ],
      "execution_count": 237,
      "outputs": [
        {
          "output_type": "stream",
          "name": "stdout",
          "text": [
            "                 Open       High        Low      Close\n",
            "Date                                                  \n",
            "2016-03-31  25.362146  25.403754  25.167976  25.193403\n",
            "2016-08-31  24.705474  24.918249  24.700796  24.808353\n",
            "2016-09-30  26.295456  26.508233  26.141135  26.433411\n",
            "2016-10-31  26.573704  26.709320  26.468483  26.547983\n",
            "2016-11-30  26.228351  26.369363  25.915772  25.974527\n",
            "2016-12-31  27.415201  27.544461  27.128475  27.220133\n"
          ]
        }
      ]
    },
    {
      "cell_type": "markdown",
      "metadata": {
        "id": "wcm_UadkQLL5"
      },
      "source": [
        "## Data Validation\n",
        "As mentioned, all methods that apply to a Series can also be applied to a DataFrame. Here we add a new column to an existing DataFrame:"
      ]
    },
    {
      "cell_type": "code",
      "metadata": {
        "colab": {
          "base_uri": "https://localhost:8080/"
        },
        "id": "jZXFdOVFHW-A",
        "outputId": "cbcb817e-e0e6-46ec-e7bc-9be15842916e"
      },
      "source": [
        "aapl_bar['rate_return'] = aapl_bar.Close.pct_change()\n",
        "print(aapl_bar)"
      ],
      "execution_count": 238,
      "outputs": [
        {
          "output_type": "stream",
          "name": "stdout",
          "text": [
            "                 Open       High        Low      Close  rate_return\n",
            "Date                                                               \n",
            "2016-01-31  21.792773  22.379032  21.691614  22.379032          NaN\n",
            "2016-02-29  22.389513  22.706194  22.340971  22.350218    -0.001288\n",
            "2016-03-31  25.362146  25.403754  25.167976  25.193403     0.127211\n",
            "2016-04-30  21.726095  21.894837  21.383989  21.668306    -0.139921\n",
            "2016-05-31  23.163046  23.349096  22.981649  23.223513     0.071773\n",
            "2016-06-30  21.963036  22.272340  21.930477  22.232805    -0.042660\n",
            "2016-07-31  24.230499  24.314221  24.111893  24.235149     0.090063\n",
            "2016-08-31  24.705474  24.918249  24.700796  24.808353     0.023652\n",
            "2016-09-30  26.295456  26.508233  26.141135  26.433411     0.065504\n",
            "2016-10-31  26.573704  26.709320  26.468483  26.547983     0.004334\n",
            "2016-11-30  26.228351  26.369363  25.915772  25.974527    -0.021601\n",
            "2016-12-31  27.415201  27.544461  27.128475  27.220133     0.047955\n"
          ]
        },
        {
          "output_type": "stream",
          "name": "stderr",
          "text": [
            "/usr/local/lib/python3.7/dist-packages/ipykernel_launcher.py:1: SettingWithCopyWarning: \n",
            "A value is trying to be set on a copy of a slice from a DataFrame.\n",
            "Try using .loc[row_indexer,col_indexer] = value instead\n",
            "\n",
            "See the caveats in the documentation: https://pandas.pydata.org/pandas-docs/stable/user_guide/indexing.html#returning-a-view-versus-a-copy\n",
            "  \"\"\"Entry point for launching an IPython kernel.\n"
          ]
        }
      ]
    },
    {
      "cell_type": "code",
      "source": [
        "didi_bar['rate_return'] = didi_bar.Close.pct_change()   #Probamos que los métodos usados en series aplican aquí tambien\n",
        "print(didi_bar)"
      ],
      "metadata": {
        "colab": {
          "base_uri": "https://localhost:8080/"
        },
        "id": "QbJMp4HZpj3X",
        "outputId": "9e5dfd39-3f12-4e9f-f164-6aa78c818088"
      },
      "execution_count": 239,
      "outputs": [
        {
          "output_type": "stream",
          "name": "stdout",
          "text": [
            "             Open    High    Low  Close  rate_return\n",
            "Date                                                \n",
            "2021-06-30  16.65  18.010  14.10  14.14          NaN\n",
            "2021-07-31   9.75  10.360   9.41  10.31    -0.270863\n",
            "2021-08-31   8.25   8.338   8.04   8.22    -0.202716\n",
            "2021-09-30   7.81   7.910   7.73   7.79    -0.052311\n",
            "2021-10-31   8.26   8.360   8.01   8.07     0.035943\n",
            "2021-11-30   7.67   7.830   7.24   7.63    -0.054523\n",
            "2021-12-31   4.78   5.300   4.76   5.23    -0.314548\n"
          ]
        },
        {
          "output_type": "stream",
          "name": "stderr",
          "text": [
            "/usr/local/lib/python3.7/dist-packages/ipykernel_launcher.py:1: SettingWithCopyWarning: \n",
            "A value is trying to be set on a copy of a slice from a DataFrame.\n",
            "Try using .loc[row_indexer,col_indexer] = value instead\n",
            "\n",
            "See the caveats in the documentation: https://pandas.pydata.org/pandas-docs/stable/user_guide/indexing.html#returning-a-view-versus-a-copy\n",
            "  \"\"\"Entry point for launching an IPython kernel.\n"
          ]
        }
      ]
    },
    {
      "cell_type": "markdown",
      "metadata": {
        "id": "_or6n5-LQUa-"
      },
      "source": [
        "Here the calculation introduced a NaN value. If the DataFrame is large, we would not be able to observe it. **isnull()** provides a convenient way to check abnormal values."
      ]
    },
    {
      "cell_type": "code",
      "metadata": {
        "colab": {
          "base_uri": "https://localhost:8080/"
        },
        "id": "V5wgmhIPHW-B",
        "outputId": "77945156-f7d0-4702-c99a-8aec35879d6c"
      },
      "source": [
        "missing = aapl_bar.isnull()\n",
        "print(missing)\n",
        "print('---------------------------------------------')\n",
        "print(missing.describe())"
      ],
      "execution_count": 240,
      "outputs": [
        {
          "output_type": "stream",
          "name": "stdout",
          "text": [
            "             Open   High    Low  Close  rate_return\n",
            "Date                                               \n",
            "2016-01-31  False  False  False  False         True\n",
            "2016-02-29  False  False  False  False        False\n",
            "2016-03-31  False  False  False  False        False\n",
            "2016-04-30  False  False  False  False        False\n",
            "2016-05-31  False  False  False  False        False\n",
            "2016-06-30  False  False  False  False        False\n",
            "2016-07-31  False  False  False  False        False\n",
            "2016-08-31  False  False  False  False        False\n",
            "2016-09-30  False  False  False  False        False\n",
            "2016-10-31  False  False  False  False        False\n",
            "2016-11-30  False  False  False  False        False\n",
            "2016-12-31  False  False  False  False        False\n",
            "---------------------------------------------\n",
            "         Open   High    Low  Close rate_return\n",
            "count      12     12     12     12          12\n",
            "unique      1      1      1      1           2\n",
            "top     False  False  False  False       False\n",
            "freq       12     12     12     12          11\n"
          ]
        }
      ]
    },
    {
      "cell_type": "code",
      "source": [
        "perdidos = didi_bar.isnull()    #Vamos a imprimir un booleano que nos diga si existe un NaN en la columna rate_return por cada fila\n",
        "print(perdidos)\n",
        "print('---------------------------------------------')\n",
        "print(perdidos.describe())"
      ],
      "metadata": {
        "colab": {
          "base_uri": "https://localhost:8080/"
        },
        "id": "nFAxNRUeq6BI",
        "outputId": "5efad50c-7c3d-4c2f-a403-72287abfb608"
      },
      "execution_count": 241,
      "outputs": [
        {
          "output_type": "stream",
          "name": "stdout",
          "text": [
            "             Open   High    Low  Close  rate_return\n",
            "Date                                               \n",
            "2021-06-30  False  False  False  False         True\n",
            "2021-07-31  False  False  False  False        False\n",
            "2021-08-31  False  False  False  False        False\n",
            "2021-09-30  False  False  False  False        False\n",
            "2021-10-31  False  False  False  False        False\n",
            "2021-11-30  False  False  False  False        False\n",
            "2021-12-31  False  False  False  False        False\n",
            "---------------------------------------------\n",
            "         Open   High    Low  Close rate_return\n",
            "count       7      7      7      7           7\n",
            "unique      1      1      1      1           2\n",
            "top     False  False  False  False       False\n",
            "freq        7      7      7      7           6\n"
          ]
        }
      ]
    },
    {
      "cell_type": "markdown",
      "metadata": {
        "id": "d6KFV4i0QfLW"
      },
      "source": [
        "The row labelled \"unique\" indicates the number of unique values in each column. Since the \"rate_return\" column has 2 unique values, it has at least one missing value.\n",
        "\n",
        "We can deduce the number of missing values by comparing \"count\" with \"freq\". There are 12 counts and 11 False values, so there is one True value which corresponds to the missing value.\n",
        "\n",
        "We can also find the rows with missing values easily:"
      ]
    },
    {
      "cell_type": "code",
      "metadata": {
        "colab": {
          "base_uri": "https://localhost:8080/"
        },
        "id": "Eo0ZAhCsHW-B",
        "outputId": "3c8f2580-2141-4127-9e32-4513e6333574"
      },
      "source": [
        "print(missing[missing.rate_return == True])"
      ],
      "execution_count": 242,
      "outputs": [
        {
          "output_type": "stream",
          "name": "stdout",
          "text": [
            "             Open   High    Low  Close  rate_return\n",
            "Date                                               \n",
            "2016-01-31  False  False  False  False         True\n"
          ]
        }
      ]
    },
    {
      "cell_type": "code",
      "source": [
        "print(perdidos[perdidos.rate_return == True]) #Imprimimos solamente el que sea NaN"
      ],
      "metadata": {
        "colab": {
          "base_uri": "https://localhost:8080/"
        },
        "id": "274kc2qYrDWi",
        "outputId": "0c2f6971-1007-4496-9c7b-9c4686eb3605"
      },
      "execution_count": 243,
      "outputs": [
        {
          "output_type": "stream",
          "name": "stdout",
          "text": [
            "             Open   High    Low  Close  rate_return\n",
            "Date                                               \n",
            "2021-06-30  False  False  False  False         True\n"
          ]
        }
      ]
    },
    {
      "cell_type": "markdown",
      "metadata": {
        "id": "qgggpD8OQkZX"
      },
      "source": [
        "Usually when dealing with missing data, we either delete the whole row or fill it with some value. As we introduced in the Series chapter, the same method **dropna()** and **fillna()** can be applied to a DataFrame."
      ]
    },
    {
      "cell_type": "code",
      "metadata": {
        "colab": {
          "base_uri": "https://localhost:8080/"
        },
        "id": "j8PaIokjHW-B",
        "outputId": "0edc2078-cd02-4309-a7aa-a4935a1608e4"
      },
      "source": [
        "drop = aapl_bar.dropna()\n",
        "print(drop)\n",
        "print('\\n--------------------------------------------------\\n')\n",
        "fill = aapl_bar.fillna(0)\n",
        "print(fill)"
      ],
      "execution_count": 244,
      "outputs": [
        {
          "output_type": "stream",
          "name": "stdout",
          "text": [
            "                 Open       High        Low      Close  rate_return\n",
            "Date                                                               \n",
            "2016-02-29  22.389513  22.706194  22.340971  22.350218    -0.001288\n",
            "2016-03-31  25.362146  25.403754  25.167976  25.193403     0.127211\n",
            "2016-04-30  21.726095  21.894837  21.383989  21.668306    -0.139921\n",
            "2016-05-31  23.163046  23.349096  22.981649  23.223513     0.071773\n",
            "2016-06-30  21.963036  22.272340  21.930477  22.232805    -0.042660\n",
            "2016-07-31  24.230499  24.314221  24.111893  24.235149     0.090063\n",
            "2016-08-31  24.705474  24.918249  24.700796  24.808353     0.023652\n",
            "2016-09-30  26.295456  26.508233  26.141135  26.433411     0.065504\n",
            "2016-10-31  26.573704  26.709320  26.468483  26.547983     0.004334\n",
            "2016-11-30  26.228351  26.369363  25.915772  25.974527    -0.021601\n",
            "2016-12-31  27.415201  27.544461  27.128475  27.220133     0.047955\n",
            "\n",
            "--------------------------------------------------\n",
            "\n",
            "                 Open       High        Low      Close  rate_return\n",
            "Date                                                               \n",
            "2016-01-31  21.792773  22.379032  21.691614  22.379032     0.000000\n",
            "2016-02-29  22.389513  22.706194  22.340971  22.350218    -0.001288\n",
            "2016-03-31  25.362146  25.403754  25.167976  25.193403     0.127211\n",
            "2016-04-30  21.726095  21.894837  21.383989  21.668306    -0.139921\n",
            "2016-05-31  23.163046  23.349096  22.981649  23.223513     0.071773\n",
            "2016-06-30  21.963036  22.272340  21.930477  22.232805    -0.042660\n",
            "2016-07-31  24.230499  24.314221  24.111893  24.235149     0.090063\n",
            "2016-08-31  24.705474  24.918249  24.700796  24.808353     0.023652\n",
            "2016-09-30  26.295456  26.508233  26.141135  26.433411     0.065504\n",
            "2016-10-31  26.573704  26.709320  26.468483  26.547983     0.004334\n",
            "2016-11-30  26.228351  26.369363  25.915772  25.974527    -0.021601\n",
            "2016-12-31  27.415201  27.544461  27.128475  27.220133     0.047955\n"
          ]
        }
      ]
    },
    {
      "cell_type": "code",
      "source": [
        "drop = didi_bar.dropna()    #Borramos los valores con NaN\n",
        "print(drop)\n",
        "print('\\n--------------------------------------------------\\n')\n",
        "fill = didi_bar.fillna(0)   #Rellenamos los NaN con 0's\n",
        "print(fill)"
      ],
      "metadata": {
        "colab": {
          "base_uri": "https://localhost:8080/"
        },
        "id": "udnD3I8MsaSb",
        "outputId": "41353b43-4ac1-4a06-f0a7-dacb609e374f"
      },
      "execution_count": 245,
      "outputs": [
        {
          "output_type": "stream",
          "name": "stdout",
          "text": [
            "            Open    High   Low  Close  rate_return\n",
            "Date                                              \n",
            "2021-07-31  9.75  10.360  9.41  10.31    -0.270863\n",
            "2021-08-31  8.25   8.338  8.04   8.22    -0.202716\n",
            "2021-09-30  7.81   7.910  7.73   7.79    -0.052311\n",
            "2021-10-31  8.26   8.360  8.01   8.07     0.035943\n",
            "2021-11-30  7.67   7.830  7.24   7.63    -0.054523\n",
            "2021-12-31  4.78   5.300  4.76   5.23    -0.314548\n",
            "\n",
            "--------------------------------------------------\n",
            "\n",
            "             Open    High    Low  Close  rate_return\n",
            "Date                                                \n",
            "2021-06-30  16.65  18.010  14.10  14.14     0.000000\n",
            "2021-07-31   9.75  10.360   9.41  10.31    -0.270863\n",
            "2021-08-31   8.25   8.338   8.04   8.22    -0.202716\n",
            "2021-09-30   7.81   7.910   7.73   7.79    -0.052311\n",
            "2021-10-31   8.26   8.360   8.01   8.07     0.035943\n",
            "2021-11-30   7.67   7.830   7.24   7.63    -0.054523\n",
            "2021-12-31   4.78   5.300   4.76   5.23    -0.314548\n"
          ]
        }
      ]
    },
    {
      "cell_type": "markdown",
      "metadata": {
        "id": "0tvoFlKWQxYG"
      },
      "source": [
        "## DataFrame Concat\n",
        "We have seen how to extract a Series from a dataFrame. Now we need to consider how to merge a Series or a DataFrame into another one.\n",
        "\n",
        "In Pandas, the function **concat()** allows us to merge multiple Series into a DataFrame:"
      ]
    },
    {
      "cell_type": "code",
      "metadata": {
        "colab": {
          "base_uri": "https://localhost:8080/"
        },
        "id": "uQrmLIWKHW-C",
        "outputId": "f25d40c7-5e2f-49b7-b521-a3a7e2590ef1"
      },
      "source": [
        "s1 = pd.Series([143.5, 144.09, 142.73, 144.18, 143.77], name = 'AAPL')\n",
        "s2 = pd.Series([898.7, 911.71, 906.69, 918.59, 926.99], name = 'GOOG')\n",
        "data_frame = pd.concat([s1,s2], axis = 1)\n",
        "print(data_frame)"
      ],
      "execution_count": 246,
      "outputs": [
        {
          "output_type": "stream",
          "name": "stdout",
          "text": [
            "     AAPL    GOOG\n",
            "0  143.50  898.70\n",
            "1  144.09  911.71\n",
            "2  142.73  906.69\n",
            "3  144.18  918.59\n",
            "4  143.77  926.99\n"
          ]
        }
      ]
    },
    {
      "cell_type": "code",
      "source": [
        "w1 = pd.Series([143.5, 144.09, 142.73, 144.18, 143.77], name = 'DIDI')\n",
        "w2 = pd.Series([898.7, 911.71, 906.69, 918.59, 926.99], name = 'HYMC')\n",
        "data_frame = pd.concat([w1,w2], axis = 1) #Unimos dos columnas en una sola estructura DataFrame\n",
        "print(data_frame)"
      ],
      "metadata": {
        "colab": {
          "base_uri": "https://localhost:8080/"
        },
        "id": "hF18RIi_sm2z",
        "outputId": "b4c6e1be-2c51-4211-91d5-5b98fa81da17"
      },
      "execution_count": 247,
      "outputs": [
        {
          "output_type": "stream",
          "name": "stdout",
          "text": [
            "     DIDI    HYMC\n",
            "0  143.50  898.70\n",
            "1  144.09  911.71\n",
            "2  142.73  906.69\n",
            "3  144.18  918.59\n",
            "4  143.77  926.99\n"
          ]
        }
      ]
    },
    {
      "cell_type": "markdown",
      "metadata": {
        "id": "3ojbNYJLR2vv"
      },
      "source": [
        "The \"axis = 1\" parameter will join two DataFrames by columns:"
      ]
    },
    {
      "cell_type": "code",
      "source": [
        "import numpy as np"
      ],
      "metadata": {
        "id": "7vbBFjygs6ty"
      },
      "execution_count": 248,
      "outputs": []
    },
    {
      "cell_type": "code",
      "metadata": {
        "colab": {
          "base_uri": "https://localhost:8080/"
        },
        "id": "DJsaLd-cRoIm",
        "outputId": "b8413030-a706-431a-e886-7fa51ed170c3"
      },
      "source": [
        "log_price = np.log(aapl_bar.Close)\n",
        "log_price.name = 'log_price'\n",
        "print(log_price)\n",
        "print('\\n---------------------- separate line--------------------\\n')\n",
        "concat = pd.concat([aapl_bar, log_price], axis = 1)\n",
        "print(concat)"
      ],
      "execution_count": 249,
      "outputs": [
        {
          "output_type": "stream",
          "name": "stdout",
          "text": [
            "Date\n",
            "2016-01-31    3.108124\n",
            "2016-02-29    3.106836\n",
            "2016-03-31    3.226582\n",
            "2016-04-30    3.075851\n",
            "2016-05-31    3.145165\n",
            "2016-06-30    3.101569\n",
            "2016-07-31    3.187804\n",
            "2016-08-31    3.211180\n",
            "2016-09-30    3.274629\n",
            "2016-10-31    3.278954\n",
            "2016-11-30    3.257116\n",
            "2016-12-31    3.303957\n",
            "Freq: M, Name: log_price, dtype: float64\n",
            "\n",
            "---------------------- separate line--------------------\n",
            "\n",
            "                 Open       High        Low      Close  rate_return  log_price\n",
            "Date                                                                          \n",
            "2016-01-31  21.792773  22.379032  21.691614  22.379032          NaN   3.108124\n",
            "2016-02-29  22.389513  22.706194  22.340971  22.350218    -0.001288   3.106836\n",
            "2016-03-31  25.362146  25.403754  25.167976  25.193403     0.127211   3.226582\n",
            "2016-04-30  21.726095  21.894837  21.383989  21.668306    -0.139921   3.075851\n",
            "2016-05-31  23.163046  23.349096  22.981649  23.223513     0.071773   3.145165\n",
            "2016-06-30  21.963036  22.272340  21.930477  22.232805    -0.042660   3.101569\n",
            "2016-07-31  24.230499  24.314221  24.111893  24.235149     0.090063   3.187804\n",
            "2016-08-31  24.705474  24.918249  24.700796  24.808353     0.023652   3.211180\n",
            "2016-09-30  26.295456  26.508233  26.141135  26.433411     0.065504   3.274629\n",
            "2016-10-31  26.573704  26.709320  26.468483  26.547983     0.004334   3.278954\n",
            "2016-11-30  26.228351  26.369363  25.915772  25.974527    -0.021601   3.257116\n",
            "2016-12-31  27.415201  27.544461  27.128475  27.220133     0.047955   3.303957\n"
          ]
        }
      ]
    },
    {
      "cell_type": "code",
      "source": [
        "log_price = np.log(didi_bar.Close)  #añadimos una columna de log() de los precios\n",
        "log_price.name = 'log_price'\n",
        "print(log_price)\n",
        "print('\\n---------------------- separate line--------------------\\n')\n",
        "concat = pd.concat([didi_bar, log_price], axis = 1)\n",
        "print(concat)"
      ],
      "metadata": {
        "colab": {
          "base_uri": "https://localhost:8080/"
        },
        "id": "UTocml5StByO",
        "outputId": "ea3025f0-1506-485d-c400-0b83b33ce3fd"
      },
      "execution_count": 250,
      "outputs": [
        {
          "output_type": "stream",
          "name": "stdout",
          "text": [
            "Date\n",
            "2021-06-30    2.649008\n",
            "2021-07-31    2.333114\n",
            "2021-08-31    2.106570\n",
            "2021-09-30    2.052841\n",
            "2021-10-31    2.088153\n",
            "2021-11-30    2.032088\n",
            "2021-12-31    1.654411\n",
            "Freq: M, Name: log_price, dtype: float64\n",
            "\n",
            "---------------------- separate line--------------------\n",
            "\n",
            "             Open    High    Low  Close  rate_return  log_price\n",
            "Date                                                           \n",
            "2021-06-30  16.65  18.010  14.10  14.14          NaN   2.649008\n",
            "2021-07-31   9.75  10.360   9.41  10.31    -0.270863   2.333114\n",
            "2021-08-31   8.25   8.338   8.04   8.22    -0.202716   2.106570\n",
            "2021-09-30   7.81   7.910   7.73   7.79    -0.052311   2.052841\n",
            "2021-10-31   8.26   8.360   8.01   8.07     0.035943   2.088153\n",
            "2021-11-30   7.67   7.830   7.24   7.63    -0.054523   2.032088\n",
            "2021-12-31   4.78   5.300   4.76   5.23    -0.314548   1.654411\n"
          ]
        }
      ]
    },
    {
      "cell_type": "markdown",
      "metadata": {
        "id": "mIZz-FUyR_62"
      },
      "source": [
        "We can also join two DataFrames by rows. Consider these two DataFrames:"
      ]
    },
    {
      "cell_type": "code",
      "metadata": {
        "colab": {
          "base_uri": "https://localhost:8080/"
        },
        "id": "W7uXZptLHW-C",
        "outputId": "ba0d0ad9-cca7-44da-e1fe-6bcc04cf0fe8"
      },
      "source": [
        "df_volume = aapl_table.loc['2016-10':'2017-04',['Volume', 'Stock Splits']].resample('M').agg(lambda x: x[-1])\n",
        "print(df_volume)\n",
        "print('\\n---------------------- separate line--------------------\\n')\n",
        "df_2017 = aapl_table.loc['2016-10':'2017-04',['Open', 'High', 'Low', 'Close']].resample('M').agg(lambda x: x[-1])\n",
        "print(df_2017)"
      ],
      "execution_count": 259,
      "outputs": [
        {
          "output_type": "stream",
          "name": "stdout",
          "text": [
            "               Volume  Stock Splits\n",
            "Date                               \n",
            "2016-10-31  105677600             0\n",
            "2016-11-30  144649200             0\n",
            "2016-12-31  122345200             0\n",
            "2017-01-31  196804000             0\n",
            "2017-02-28   93931600             0\n",
            "2017-03-31   78646800             0\n",
            "2017-04-30   83441600             0\n",
            "\n",
            "---------------------- separate line--------------------\n",
            "\n",
            "                 Open       High        Low      Close\n",
            "Date                                                  \n",
            "2016-10-31  26.573704  26.709320  26.468483  26.547983\n",
            "2016-11-30  26.228351  26.369363  25.915772  25.974527\n",
            "2016-12-31  27.415201  27.544461  27.128475  27.220133\n",
            "2017-01-31  28.472795  28.529199  28.348234  28.519798\n",
            "2017-02-28  32.356364  32.441338  32.266668  32.335121\n",
            "2017-03-31  33.923666  34.053488  33.756076  33.909504\n",
            "2017-04-30  34.011001  34.060571  33.817450  33.907143\n"
          ]
        }
      ]
    },
    {
      "cell_type": "code",
      "source": [
        "df_volumen = tablaDidi.loc['2021-1':'2021-12',['Volume', 'Stock Splits']].resample('M').agg(lambda x: x[-1])\n",
        "print(df_volumen)\n",
        "print('\\n---------------------- separate line--------------------\\n')\n",
        "df_2021 = tablaDidi.loc['2021-1':'2021-12',['Open', 'High', 'Low', 'Close']].resample('M').agg(lambda x: x[-1])\n",
        "print(df_2021)"
      ],
      "metadata": {
        "colab": {
          "base_uri": "https://localhost:8080/"
        },
        "id": "9SytVM-dtrMr",
        "outputId": "b90367ff-7ef5-4144-e5cc-bf2b299e87b7"
      },
      "execution_count": 258,
      "outputs": [
        {
          "output_type": "stream",
          "name": "stdout",
          "text": [
            "               Volume  Stock Splits\n",
            "Date                               \n",
            "2021-06-30  288155500             0\n",
            "2021-07-31   44250500             0\n",
            "2021-08-31   15134700             0\n",
            "2021-09-30    9125500             0\n",
            "2021-10-31   13013300             0\n",
            "2021-11-30   29389600             0\n",
            "2021-12-31   35834400             0\n",
            "\n",
            "---------------------- separate line--------------------\n",
            "\n",
            "             Open    High    Low  Close\n",
            "Date                                   \n",
            "2021-06-30  16.65  18.010  14.10  14.14\n",
            "2021-07-31   9.75  10.360   9.41  10.31\n",
            "2021-08-31   8.25   8.338   8.04   8.22\n",
            "2021-09-30   7.81   7.910   7.73   7.79\n",
            "2021-10-31   8.26   8.360   8.01   8.07\n",
            "2021-11-30   7.67   7.830   7.24   7.63\n",
            "2021-12-31   4.78   5.300   4.76   5.23\n"
          ]
        }
      ]
    },
    {
      "cell_type": "markdown",
      "metadata": {
        "id": "iZk_C9aSSLeP"
      },
      "source": [
        "Now we merge the DataFrames with our DataFrame 'aapl_bar'"
      ]
    },
    {
      "cell_type": "code",
      "metadata": {
        "colab": {
          "base_uri": "https://localhost:8080/"
        },
        "id": "aFqmjokOHW-C",
        "outputId": "6e8dc2ce-548c-4992-8a46-fecd70b7b882"
      },
      "source": [
        "concat = pd.concat([aapl_bar, df_volume], axis = 1)\n",
        "print(concat)"
      ],
      "execution_count": 255,
      "outputs": [
        {
          "output_type": "stream",
          "name": "stdout",
          "text": [
            "                 Open       High        Low      Close  rate_return  \\\n",
            "Date                                                                  \n",
            "2016-01-31  21.792773  22.379032  21.691614  22.379032          NaN   \n",
            "2016-02-29  22.389513  22.706194  22.340971  22.350218    -0.001288   \n",
            "2016-03-31  25.362146  25.403754  25.167976  25.193403     0.127211   \n",
            "2016-04-30  21.726095  21.894837  21.383989  21.668306    -0.139921   \n",
            "2016-05-31  23.163046  23.349096  22.981649  23.223513     0.071773   \n",
            "2016-06-30  21.963036  22.272340  21.930477  22.232805    -0.042660   \n",
            "2016-07-31  24.230499  24.314221  24.111893  24.235149     0.090063   \n",
            "2016-08-31  24.705474  24.918249  24.700796  24.808353     0.023652   \n",
            "2016-09-30  26.295456  26.508233  26.141135  26.433411     0.065504   \n",
            "2016-10-31  26.573704  26.709320  26.468483  26.547983     0.004334   \n",
            "2016-11-30  26.228351  26.369363  25.915772  25.974527    -0.021601   \n",
            "2016-12-31  27.415201  27.544461  27.128475  27.220133     0.047955   \n",
            "2017-01-31        NaN        NaN        NaN        NaN          NaN   \n",
            "2017-02-28        NaN        NaN        NaN        NaN          NaN   \n",
            "2017-03-31        NaN        NaN        NaN        NaN          NaN   \n",
            "2017-04-30        NaN        NaN        NaN        NaN          NaN   \n",
            "\n",
            "                 Volume  Stock Splits  \n",
            "Date                                   \n",
            "2016-01-31          NaN           NaN  \n",
            "2016-02-29          NaN           NaN  \n",
            "2016-03-31          NaN           NaN  \n",
            "2016-04-30          NaN           NaN  \n",
            "2016-05-31          NaN           NaN  \n",
            "2016-06-30          NaN           NaN  \n",
            "2016-07-31          NaN           NaN  \n",
            "2016-08-31          NaN           NaN  \n",
            "2016-09-30          NaN           NaN  \n",
            "2016-10-31  105677600.0           0.0  \n",
            "2016-11-30  144649200.0           0.0  \n",
            "2016-12-31  122345200.0           0.0  \n",
            "2017-01-31  196804000.0           0.0  \n",
            "2017-02-28   93931600.0           0.0  \n",
            "2017-03-31   78646800.0           0.0  \n",
            "2017-04-30   83441600.0           0.0  \n"
          ]
        }
      ]
    },
    {
      "cell_type": "code",
      "source": [
        "concat = pd.concat([didi_bar, df_volumen], axis = 1)   #Unimos las dos tablas generadas anteriormente\n",
        "print(concat)"
      ],
      "metadata": {
        "colab": {
          "base_uri": "https://localhost:8080/"
        },
        "id": "yPp-gRYxuOVX",
        "outputId": "80d26855-1fd6-4403-ce8d-04023d9abe2e"
      },
      "execution_count": 260,
      "outputs": [
        {
          "output_type": "stream",
          "name": "stdout",
          "text": [
            "             Open    High    Low  Close  rate_return     Volume  Stock Splits\n",
            "Date                                                                         \n",
            "2021-06-30  16.65  18.010  14.10  14.14          NaN  288155500             0\n",
            "2021-07-31   9.75  10.360   9.41  10.31    -0.270863   44250500             0\n",
            "2021-08-31   8.25   8.338   8.04   8.22    -0.202716   15134700             0\n",
            "2021-09-30   7.81   7.910   7.73   7.79    -0.052311    9125500             0\n",
            "2021-10-31   8.26   8.360   8.01   8.07     0.035943   13013300             0\n",
            "2021-11-30   7.67   7.830   7.24   7.63    -0.054523   29389600             0\n",
            "2021-12-31   4.78   5.300   4.76   5.23    -0.314548   35834400             0\n"
          ]
        }
      ]
    },
    {
      "cell_type": "markdown",
      "metadata": {
        "id": "7yI3tgB4SR4O"
      },
      "source": [
        "By default the DataFrame are joined with all of the data. This default options results in zero information loss. We can also merge them by intersection, this is called 'inner join"
      ]
    },
    {
      "cell_type": "code",
      "metadata": {
        "colab": {
          "base_uri": "https://localhost:8080/"
        },
        "id": "31QGLyijHW-C",
        "outputId": "4ba6c6c1-cf5b-4b32-e35f-10997707e1d3"
      },
      "source": [
        "concat = pd.concat([aapl_bar,df_volume],axis = 1, join = 'inner')\n",
        "print(concat)"
      ],
      "execution_count": 261,
      "outputs": [
        {
          "output_type": "stream",
          "name": "stdout",
          "text": [
            "                 Open       High        Low      Close  rate_return  \\\n",
            "Date                                                                  \n",
            "2016-10-31  26.573704  26.709320  26.468483  26.547983     0.004334   \n",
            "2016-11-30  26.228351  26.369363  25.915772  25.974527    -0.021601   \n",
            "2016-12-31  27.415201  27.544461  27.128475  27.220133     0.047955   \n",
            "\n",
            "               Volume  Stock Splits  \n",
            "Date                                 \n",
            "2016-10-31  105677600             0  \n",
            "2016-11-30  144649200             0  \n",
            "2016-12-31  122345200             0  \n"
          ]
        }
      ]
    },
    {
      "cell_type": "code",
      "source": [
        "concatenado = pd.concat([didi_bar,df_volumen],axis = 1, join = 'inner')   #utilizamos un inner join para unir las dos consultas\n",
        "print(concatenado)"
      ],
      "metadata": {
        "colab": {
          "base_uri": "https://localhost:8080/"
        },
        "id": "TgJnLLxjvWW6",
        "outputId": "10488a8c-846c-4399-de84-51928b7a9bbd"
      },
      "execution_count": 262,
      "outputs": [
        {
          "output_type": "stream",
          "name": "stdout",
          "text": [
            "             Open    High    Low  Close  rate_return     Volume  Stock Splits\n",
            "Date                                                                         \n",
            "2021-06-30  16.65  18.010  14.10  14.14          NaN  288155500             0\n",
            "2021-07-31   9.75  10.360   9.41  10.31    -0.270863   44250500             0\n",
            "2021-08-31   8.25   8.338   8.04   8.22    -0.202716   15134700             0\n",
            "2021-09-30   7.81   7.910   7.73   7.79    -0.052311    9125500             0\n",
            "2021-10-31   8.26   8.360   8.01   8.07     0.035943   13013300             0\n",
            "2021-11-30   7.67   7.830   7.24   7.63    -0.054523   29389600             0\n",
            "2021-12-31   4.78   5.300   4.76   5.23    -0.314548   35834400             0\n"
          ]
        }
      ]
    },
    {
      "cell_type": "markdown",
      "metadata": {
        "id": "oudcWMm5Sd0u"
      },
      "source": [
        "Only the intersection part was left if use 'inner join' method. Now let's try to append a DataFrame to another one:"
      ]
    },
    {
      "cell_type": "code",
      "metadata": {
        "colab": {
          "base_uri": "https://localhost:8080/"
        },
        "id": "lgw0qaOsHW-D",
        "outputId": "e019c379-f8af-41d5-c469-783ee415bf6e"
      },
      "source": [
        "append = aapl_bar.append(df_2017)\n",
        "print(append)"
      ],
      "execution_count": 263,
      "outputs": [
        {
          "output_type": "stream",
          "name": "stdout",
          "text": [
            "                 Open       High        Low      Close  rate_return\n",
            "Date                                                               \n",
            "2016-01-31  21.792773  22.379032  21.691614  22.379032          NaN\n",
            "2016-02-29  22.389513  22.706194  22.340971  22.350218    -0.001288\n",
            "2016-03-31  25.362146  25.403754  25.167976  25.193403     0.127211\n",
            "2016-04-30  21.726095  21.894837  21.383989  21.668306    -0.139921\n",
            "2016-05-31  23.163046  23.349096  22.981649  23.223513     0.071773\n",
            "2016-06-30  21.963036  22.272340  21.930477  22.232805    -0.042660\n",
            "2016-07-31  24.230499  24.314221  24.111893  24.235149     0.090063\n",
            "2016-08-31  24.705474  24.918249  24.700796  24.808353     0.023652\n",
            "2016-09-30  26.295456  26.508233  26.141135  26.433411     0.065504\n",
            "2016-10-31  26.573704  26.709320  26.468483  26.547983     0.004334\n",
            "2016-11-30  26.228351  26.369363  25.915772  25.974527    -0.021601\n",
            "2016-12-31  27.415201  27.544461  27.128475  27.220133     0.047955\n",
            "2016-10-31  26.573704  26.709320  26.468483  26.547983          NaN\n",
            "2016-11-30  26.228351  26.369363  25.915772  25.974527          NaN\n",
            "2016-12-31  27.415201  27.544461  27.128475  27.220133          NaN\n",
            "2017-01-31  28.472795  28.529199  28.348234  28.519798          NaN\n",
            "2017-02-28  32.356364  32.441338  32.266668  32.335121          NaN\n",
            "2017-03-31  33.923666  34.053488  33.756076  33.909504          NaN\n",
            "2017-04-30  34.011001  34.060571  33.817450  33.907143          NaN\n"
          ]
        }
      ]
    },
    {
      "cell_type": "code",
      "source": [
        "appendDidi = didi_bar.append(df_2021) #añadimos el DataFrame de DIDI 2021\n",
        "print(appendDidi)"
      ],
      "metadata": {
        "colab": {
          "base_uri": "https://localhost:8080/"
        },
        "id": "HeXa3UX2vlap",
        "outputId": "88d34d70-bfee-4314-9169-de1e2b27fc05"
      },
      "execution_count": 264,
      "outputs": [
        {
          "output_type": "stream",
          "name": "stdout",
          "text": [
            "             Open    High    Low  Close  rate_return\n",
            "Date                                                \n",
            "2021-06-30  16.65  18.010  14.10  14.14          NaN\n",
            "2021-07-31   9.75  10.360   9.41  10.31    -0.270863\n",
            "2021-08-31   8.25   8.338   8.04   8.22    -0.202716\n",
            "2021-09-30   7.81   7.910   7.73   7.79    -0.052311\n",
            "2021-10-31   8.26   8.360   8.01   8.07     0.035943\n",
            "2021-11-30   7.67   7.830   7.24   7.63    -0.054523\n",
            "2021-12-31   4.78   5.300   4.76   5.23    -0.314548\n",
            "2021-06-30  16.65  18.010  14.10  14.14          NaN\n",
            "2021-07-31   9.75  10.360   9.41  10.31          NaN\n",
            "2021-08-31   8.25   8.338   8.04   8.22          NaN\n",
            "2021-09-30   7.81   7.910   7.73   7.79          NaN\n",
            "2021-10-31   8.26   8.360   8.01   8.07          NaN\n",
            "2021-11-30   7.67   7.830   7.24   7.63          NaN\n",
            "2021-12-31   4.78   5.300   4.76   5.23          NaN\n"
          ]
        }
      ]
    },
    {
      "cell_type": "markdown",
      "metadata": {
        "id": "zXT6cMquSq_P"
      },
      "source": [
        "'Append' is essentially to concat two DataFrames by axis = 0, thus here is an alternative way to append:"
      ]
    },
    {
      "cell_type": "code",
      "metadata": {
        "colab": {
          "base_uri": "https://localhost:8080/"
        },
        "id": "2EuSaFO9HW-D",
        "outputId": "e3471fbd-76e4-4aac-ec22-3574c522de96"
      },
      "source": [
        "concat = pd.concat([aapl_bar, df_2017], axis = 0)\n",
        "print(concat)"
      ],
      "execution_count": 265,
      "outputs": [
        {
          "output_type": "stream",
          "name": "stdout",
          "text": [
            "                 Open       High        Low      Close  rate_return\n",
            "Date                                                               \n",
            "2016-01-31  21.792773  22.379032  21.691614  22.379032          NaN\n",
            "2016-02-29  22.389513  22.706194  22.340971  22.350218    -0.001288\n",
            "2016-03-31  25.362146  25.403754  25.167976  25.193403     0.127211\n",
            "2016-04-30  21.726095  21.894837  21.383989  21.668306    -0.139921\n",
            "2016-05-31  23.163046  23.349096  22.981649  23.223513     0.071773\n",
            "2016-06-30  21.963036  22.272340  21.930477  22.232805    -0.042660\n",
            "2016-07-31  24.230499  24.314221  24.111893  24.235149     0.090063\n",
            "2016-08-31  24.705474  24.918249  24.700796  24.808353     0.023652\n",
            "2016-09-30  26.295456  26.508233  26.141135  26.433411     0.065504\n",
            "2016-10-31  26.573704  26.709320  26.468483  26.547983     0.004334\n",
            "2016-11-30  26.228351  26.369363  25.915772  25.974527    -0.021601\n",
            "2016-12-31  27.415201  27.544461  27.128475  27.220133     0.047955\n",
            "2016-10-31  26.573704  26.709320  26.468483  26.547983          NaN\n",
            "2016-11-30  26.228351  26.369363  25.915772  25.974527          NaN\n",
            "2016-12-31  27.415201  27.544461  27.128475  27.220133          NaN\n",
            "2017-01-31  28.472795  28.529199  28.348234  28.519798          NaN\n",
            "2017-02-28  32.356364  32.441338  32.266668  32.335121          NaN\n",
            "2017-03-31  33.923666  34.053488  33.756076  33.909504          NaN\n",
            "2017-04-30  34.011001  34.060571  33.817450  33.907143          NaN\n"
          ]
        }
      ]
    },
    {
      "cell_type": "code",
      "source": [
        "concatenar = pd.concat([didi_bar, df_2021], axis = 0)\n",
        "print(concatenar)"
      ],
      "metadata": {
        "colab": {
          "base_uri": "https://localhost:8080/"
        },
        "id": "A-E0Iud4vyEl",
        "outputId": "8ebe5376-8b74-4c18-8b75-4bd71e69f3f0"
      },
      "execution_count": 266,
      "outputs": [
        {
          "output_type": "stream",
          "name": "stdout",
          "text": [
            "             Open    High    Low  Close  rate_return\n",
            "Date                                                \n",
            "2021-06-30  16.65  18.010  14.10  14.14          NaN\n",
            "2021-07-31   9.75  10.360   9.41  10.31    -0.270863\n",
            "2021-08-31   8.25   8.338   8.04   8.22    -0.202716\n",
            "2021-09-30   7.81   7.910   7.73   7.79    -0.052311\n",
            "2021-10-31   8.26   8.360   8.01   8.07     0.035943\n",
            "2021-11-30   7.67   7.830   7.24   7.63    -0.054523\n",
            "2021-12-31   4.78   5.300   4.76   5.23    -0.314548\n",
            "2021-06-30  16.65  18.010  14.10  14.14          NaN\n",
            "2021-07-31   9.75  10.360   9.41  10.31          NaN\n",
            "2021-08-31   8.25   8.338   8.04   8.22          NaN\n",
            "2021-09-30   7.81   7.910   7.73   7.79          NaN\n",
            "2021-10-31   8.26   8.360   8.01   8.07          NaN\n",
            "2021-11-30   7.67   7.830   7.24   7.63          NaN\n",
            "2021-12-31   4.78   5.300   4.76   5.23          NaN\n"
          ]
        }
      ]
    },
    {
      "cell_type": "markdown",
      "metadata": {
        "id": "-YXL7V9ASst9"
      },
      "source": [
        "Please note that if the two DataFrame have some columns with the same column names, these columns are considered to be the same and will be merged. It's very important to have the right column names. If we change a column names here:"
      ]
    },
    {
      "cell_type": "code",
      "metadata": {
        "colab": {
          "base_uri": "https://localhost:8080/"
        },
        "id": "aT1eoa8mHW-D",
        "outputId": "927ce1ca-7d88-4226-eb18-472613e846d3"
      },
      "source": [
        "df_2017.columns = ['Change', 'High','Low','Close']\n",
        "concat = pd.concat([aapl_bar, df_2017], axis = 0)\n",
        "print(concat)"
      ],
      "execution_count": 267,
      "outputs": [
        {
          "output_type": "stream",
          "name": "stdout",
          "text": [
            "                 Open       High        Low      Close  rate_return     Change\n",
            "Date                                                                          \n",
            "2016-01-31  21.792773  22.379032  21.691614  22.379032          NaN        NaN\n",
            "2016-02-29  22.389513  22.706194  22.340971  22.350218    -0.001288        NaN\n",
            "2016-03-31  25.362146  25.403754  25.167976  25.193403     0.127211        NaN\n",
            "2016-04-30  21.726095  21.894837  21.383989  21.668306    -0.139921        NaN\n",
            "2016-05-31  23.163046  23.349096  22.981649  23.223513     0.071773        NaN\n",
            "2016-06-30  21.963036  22.272340  21.930477  22.232805    -0.042660        NaN\n",
            "2016-07-31  24.230499  24.314221  24.111893  24.235149     0.090063        NaN\n",
            "2016-08-31  24.705474  24.918249  24.700796  24.808353     0.023652        NaN\n",
            "2016-09-30  26.295456  26.508233  26.141135  26.433411     0.065504        NaN\n",
            "2016-10-31  26.573704  26.709320  26.468483  26.547983     0.004334        NaN\n",
            "2016-11-30  26.228351  26.369363  25.915772  25.974527    -0.021601        NaN\n",
            "2016-12-31  27.415201  27.544461  27.128475  27.220133     0.047955        NaN\n",
            "2016-10-31        NaN  26.709320  26.468483  26.547983          NaN  26.573704\n",
            "2016-11-30        NaN  26.369363  25.915772  25.974527          NaN  26.228351\n",
            "2016-12-31        NaN  27.544461  27.128475  27.220133          NaN  27.415201\n",
            "2017-01-31        NaN  28.529199  28.348234  28.519798          NaN  28.472795\n",
            "2017-02-28        NaN  32.441338  32.266668  32.335121          NaN  32.356364\n",
            "2017-03-31        NaN  34.053488  33.756076  33.909504          NaN  33.923666\n",
            "2017-04-30        NaN  34.060571  33.817450  33.907143          NaN  34.011001\n"
          ]
        }
      ]
    },
    {
      "cell_type": "code",
      "source": [
        "df_2021.columns = ['Change', 'High','Low','Close']\n",
        "concatenar = pd.concat([didi_bar, df_2021], axis = 0)\n",
        "print(concatenar)"
      ],
      "metadata": {
        "colab": {
          "base_uri": "https://localhost:8080/"
        },
        "id": "82ci1eb_v2xn",
        "outputId": "d1365cbd-9d47-4dd9-95c7-f923d2471481"
      },
      "execution_count": 268,
      "outputs": [
        {
          "output_type": "stream",
          "name": "stdout",
          "text": [
            "             Open    High    Low  Close  rate_return  Change\n",
            "Date                                                        \n",
            "2021-06-30  16.65  18.010  14.10  14.14          NaN     NaN\n",
            "2021-07-31   9.75  10.360   9.41  10.31    -0.270863     NaN\n",
            "2021-08-31   8.25   8.338   8.04   8.22    -0.202716     NaN\n",
            "2021-09-30   7.81   7.910   7.73   7.79    -0.052311     NaN\n",
            "2021-10-31   8.26   8.360   8.01   8.07     0.035943     NaN\n",
            "2021-11-30   7.67   7.830   7.24   7.63    -0.054523     NaN\n",
            "2021-12-31   4.78   5.300   4.76   5.23    -0.314548     NaN\n",
            "2021-06-30    NaN  18.010  14.10  14.14          NaN   16.65\n",
            "2021-07-31    NaN  10.360   9.41  10.31          NaN    9.75\n",
            "2021-08-31    NaN   8.338   8.04   8.22          NaN    8.25\n",
            "2021-09-30    NaN   7.910   7.73   7.79          NaN    7.81\n",
            "2021-10-31    NaN   8.360   8.01   8.07          NaN    8.26\n",
            "2021-11-30    NaN   7.830   7.24   7.63          NaN    7.67\n",
            "2021-12-31    NaN   5.300   4.76   5.23          NaN    4.78\n"
          ]
        }
      ]
    },
    {
      "cell_type": "markdown",
      "metadata": {
        "id": "shbpOFyyS6uV"
      },
      "source": [
        "Since the column name of 'Open' has been changed, the new DataFrame has an new column named 'Change'.\n",
        "\n",
        "# Summary\n",
        "\n",
        "Hereby we introduced the most import part of python: resampling and DataFrame manipulation. We only introduced the most commonly used method in Financial data analysis. There are also many methods used in data mining, which are also beneficial. You can always check the [Pandas](https://pandas.pydata.org/pandas-docs/stable/index.html) official documentations for help."
      ]
    }
  ]
}